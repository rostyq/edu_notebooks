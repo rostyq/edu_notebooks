{
 "cells": [
  {
   "cell_type": "markdown",
   "metadata": {},
   "source": [
    "# РГР: Визначення температурних полів та параметрів масопереносу при імпульсному впливі"
   ]
  },
  {
   "cell_type": "code",
   "execution_count": 1,
   "metadata": {},
   "outputs": [],
   "source": [
    "import pandas as pd\n",
    "import numpy as np\n",
    "from IPython.display import Latex"
   ]
  },
  {
   "cell_type": "markdown",
   "metadata": {},
   "source": [
    "## Розрахунок температурних полів"
   ]
  },
  {
   "cell_type": "markdown",
   "metadata": {},
   "source": [
    "**Визначити за даними таблиці значення $\\lambda$ \\[Дж/см*Kc\\] для елементів Cr, Cu, Ni.**\n",
    "\n",
    "$$\\lambda_i = a_i \\gamma_i c_i,$$\n",
    "де:\n",
    "\n",
    "- $\\lambda_i$ - thermal conductivity\n",
    "- $c_i$ - thermal capacity\n",
    "- $a_i$ - thermal diffusivity\n",
    "- $\\gamma_i$ - density"
   ]
  },
  {
   "cell_type": "code",
   "execution_count": 2,
   "metadata": {},
   "outputs": [
    {
     "data": {
      "text/html": [
       "<div>\n",
       "<style scoped>\n",
       "    .dataframe tbody tr th:only-of-type {\n",
       "        vertical-align: middle;\n",
       "    }\n",
       "\n",
       "    .dataframe tbody tr th {\n",
       "        vertical-align: top;\n",
       "    }\n",
       "\n",
       "    .dataframe thead th {\n",
       "        text-align: right;\n",
       "    }\n",
       "</style>\n",
       "<table border=\"1\" class=\"dataframe\">\n",
       "  <thead>\n",
       "    <tr style=\"text-align: right;\">\n",
       "      <th></th>\n",
       "      <th>density</th>\n",
       "      <th>thermal_capacity</th>\n",
       "      <th>thermal_diffusivity</th>\n",
       "      <th>thickness</th>\n",
       "      <th>thermal_conductivity</th>\n",
       "    </tr>\n",
       "  </thead>\n",
       "  <tbody>\n",
       "    <tr>\n",
       "      <th>Ni</th>\n",
       "      <td>8.90</td>\n",
       "      <td>0.56</td>\n",
       "      <td>0.14</td>\n",
       "      <td>100</td>\n",
       "      <td>0.69776</td>\n",
       "    </tr>\n",
       "    <tr>\n",
       "      <th>Cu</th>\n",
       "      <td>8.96</td>\n",
       "      <td>0.47</td>\n",
       "      <td>0.85</td>\n",
       "      <td>100</td>\n",
       "      <td>3.57952</td>\n",
       "    </tr>\n",
       "    <tr>\n",
       "      <th>Cr</th>\n",
       "      <td>7.10</td>\n",
       "      <td>0.58</td>\n",
       "      <td>0.16</td>\n",
       "      <td>100</td>\n",
       "      <td>0.65888</td>\n",
       "    </tr>\n",
       "  </tbody>\n",
       "</table>\n",
       "</div>"
      ],
      "text/plain": [
       "    density  thermal_capacity  thermal_diffusivity  thickness  \\\n",
       "Ni     8.90              0.56                 0.14        100   \n",
       "Cu     8.96              0.47                 0.85        100   \n",
       "Cr     7.10              0.58                 0.16        100   \n",
       "\n",
       "    thermal_conductivity  \n",
       "Ni               0.69776  \n",
       "Cu               3.57952  \n",
       "Cr               0.65888  "
      ]
     },
     "execution_count": 2,
     "metadata": {},
     "output_type": "execute_result"
    }
   ],
   "source": [
    "df_in = pd.DataFrame(\n",
    "    {\n",
    "        'thermal_capacity':    [0.56, 0.47, 0.58],\n",
    "        'thermal_diffusivity': [0.14, 0.85, 0.16],\n",
    "        'density':             [8.9,  8.96, 7.1],\n",
    "        'thickness':           [100]*3\n",
    "    },\n",
    "    index=['Ni', 'Cu', 'Cr']\n",
    ")\n",
    "df_in['thermal_conductivity'] = df_in.thermal_diffusivity * df_in.density * df_in.thermal_capacity\n",
    "df_in"
   ]
  },
  {
   "cell_type": "markdown",
   "metadata": {},
   "source": [
    "**Розрахувати загальну теплопровідність $\\bar{\\lambda}$ системи Cr-Cu-Ni:**\n",
    "\n",
    "$$\\bar{\\lambda} = \\frac{d_1\\lambda_1 + d_2\\lambda_2 + d_3\\lambda_3}{d}$$"
   ]
  },
  {
   "cell_type": "code",
   "execution_count": 3,
   "metadata": {},
   "outputs": [
    {
     "data": {
      "text/latex": [
       "$\\bar{\\lambda} = 1.65$"
      ],
      "text/plain": [
       "<IPython.core.display.Latex object>"
      ]
     },
     "execution_count": 3,
     "metadata": {},
     "output_type": "execute_result"
    }
   ],
   "source": [
    "sys_thermal_conductivity = (df_in.thermal_conductivity * df_in.thickness).sum() / df_in.thickness.sum()\n",
    "Latex(r'$\\bar{\\lambda} = %.2f$' % sys_thermal_conductivity)"
   ]
  },
  {
   "cell_type": "markdown",
   "metadata": {},
   "source": [
    "**Розрахувати ефективне значення температуропровідності $a_{\\textit{пл}}$ плівкової структури уздовж поверхні за формулою:**\n",
    "\n",
    "$$a_{\\textit{пл}} = \\frac{\\bar{\\lambda}}{\\bar{c}\\bar{\\gamma}}$$"
   ]
  },
  {
   "cell_type": "code",
   "execution_count": 4,
   "metadata": {},
   "outputs": [
    {
     "data": {
      "text/latex": [
       "$a_{\\textit{пл}} = 0.37$"
      ],
      "text/plain": [
       "<IPython.core.display.Latex object>"
      ]
     },
     "execution_count": 4,
     "metadata": {},
     "output_type": "execute_result"
    }
   ],
   "source": [
    "sys_thermal_capacity = (df_in.thermal_capacity * df_in.thickness).sum() / df_in.thickness.sum()\n",
    "sys_density = (df_in.density * df_in.thickness).sum() / df_in.thickness.sum()\n",
    "efficient_thermal_diffusivity = sys_thermal_conductivity / (sys_thermal_capacity * sys_density)\n",
    "Latex(r'$a_{\\textit{пл}} = %.2f$' % efficient_thermal_diffusivity)"
   ]
  },
  {
   "cell_type": "markdown",
   "metadata": {},
   "source": [
    "**Визначити температуру плівкової структури Cr-Cu-Ni в епіцентрі під дією лазерного імпульсу для 10 часових інтервалів, на які умовно розбивається тривалість імпульсу, за формулою:**\n",
    "\n",
    "$$\n",
    "T = \\frac{2E}{\\pi^{3/2}\\tau}\n",
    "\\frac{1-R}{c\\gamma\\sqrt{a_c}}\n",
    "\\frac{\\sqrt{\\Delta t \\dot{} n}}{r^2_{\\it\\Gamma}+ 4a_{\\textit{пл}}\\Delta t \\dot{} n},\n",
    "$$\n",
    "де:\n",
    "\n",
    "- $\\tau$ - тривалість імпульсу\n",
    "- $\\Delta t$ величина, яка дорівнює $$\\Delta t = \\frac{\\tau}{n'_{\\max}}, \\; n'_{\\max} = 10$$\n",
    "- $t$ - час, протягом якого діє джерело тепла: $$t = \\Delta t \\dot{} n' = \\frac{\\tau\\dot{}n'}{10},$$ $n$ - часовий інтервал ($n' = 1, 2, 3, \\dots$)"
   ]
  },
  {
   "cell_type": "markdown",
   "metadata": {},
   "source": [
    "- Енергія лазерного імпульсу: $E = 99\\,\\text{мДж}$\n",
    "- $\\frac{1-R}{c\\gamma\\sqrt{a_c}} = 9.0\\,\\frac{K\\dot{}\\text{см}^2\\dot{}\\text{с}^{1/2}}{\\text{Дж}}$\n",
    "- Тривалість лазерного імпульсу $\\tau = 2.56\\times10^{-3}\\,\\text{с}$\n",
    "- $r_{\\it\\Gamma} = 0.05\\,\\text{см}$"
   ]
  },
  {
   "cell_type": "code",
   "execution_count": 5,
   "metadata": {},
   "outputs": [
    {
     "data": {
      "text/html": [
       "<div>\n",
       "<style scoped>\n",
       "    .dataframe tbody tr th:only-of-type {\n",
       "        vertical-align: middle;\n",
       "    }\n",
       "\n",
       "    .dataframe tbody tr th {\n",
       "        vertical-align: top;\n",
       "    }\n",
       "\n",
       "    .dataframe thead th {\n",
       "        text-align: right;\n",
       "    }\n",
       "</style>\n",
       "<table border=\"1\" class=\"dataframe\">\n",
       "  <thead>\n",
       "    <tr style=\"text-align: right;\">\n",
       "      <th></th>\n",
       "      <th>T, K</th>\n",
       "      <th>time, x10^(-3) s</th>\n",
       "    </tr>\n",
       "  </thead>\n",
       "  <tbody>\n",
       "    <tr>\n",
       "      <th>1</th>\n",
       "      <td>695.138</td>\n",
       "      <td>0.256</td>\n",
       "    </tr>\n",
       "    <tr>\n",
       "      <th>2</th>\n",
       "      <td>869.096</td>\n",
       "      <td>0.512</td>\n",
       "    </tr>\n",
       "    <tr>\n",
       "      <th>3</th>\n",
       "      <td>953.835</td>\n",
       "      <td>0.768</td>\n",
       "    </tr>\n",
       "    <tr>\n",
       "      <th>4</th>\n",
       "      <td>997.735</td>\n",
       "      <td>1.024</td>\n",
       "    </tr>\n",
       "    <tr>\n",
       "      <th>5</th>\n",
       "      <td>1019.546</td>\n",
       "      <td>1.280</td>\n",
       "    </tr>\n",
       "    <tr>\n",
       "      <th>6</th>\n",
       "      <td>1028.394</td>\n",
       "      <td>1.536</td>\n",
       "    </tr>\n",
       "    <tr>\n",
       "      <th>7</th>\n",
       "      <td>1029.268</td>\n",
       "      <td>1.792</td>\n",
       "    </tr>\n",
       "    <tr>\n",
       "      <th>8</th>\n",
       "      <td>1025.099</td>\n",
       "      <td>2.048</td>\n",
       "    </tr>\n",
       "    <tr>\n",
       "      <th>9</th>\n",
       "      <td>1017.696</td>\n",
       "      <td>2.304</td>\n",
       "    </tr>\n",
       "    <tr>\n",
       "      <th>10</th>\n",
       "      <td>1008.221</td>\n",
       "      <td>2.560</td>\n",
       "    </tr>\n",
       "  </tbody>\n",
       "</table>\n",
       "</div>"
      ],
      "text/plain": [
       "        T, K  time, x10^(-3) s\n",
       "1    695.138             0.256\n",
       "2    869.096             0.512\n",
       "3    953.835             0.768\n",
       "4    997.735             1.024\n",
       "5   1019.546             1.280\n",
       "6   1028.394             1.536\n",
       "7   1029.268             1.792\n",
       "8   1025.099             2.048\n",
       "9   1017.696             2.304\n",
       "10  1008.221             2.560"
      ]
     },
     "execution_count": 5,
     "metadata": {},
     "output_type": "execute_result"
    }
   ],
   "source": [
    "tau = 2.56e-3\n",
    "coeff = 9.0\n",
    "E = 99e-3\n",
    "r_batch = 0.05\n",
    "\n",
    "def calc_temperature(tau, n, E, coeff, r_batch, efficient_thermal_diffusivity):\n",
    "    Delta_t = tau / 10\n",
    "    return 2 * E / (np.pi**(1.5) * tau) * \\\n",
    "        coeff * \\\n",
    "        (np.sqrt(Delta_t * n)) / \\\n",
    "        (r_batch**2 + 4*efficient_thermal_diffusivity * Delta_t * n)\n",
    "\n",
    "N = range(1, 11)\n",
    "times = np.array([tau / 10 * n for n in N])\n",
    "temperatures = np.array([calc_temperature(tau, n, E, coeff, r_batch, efficient_thermal_diffusivity) for n in N])\n",
    "\n",
    "df_out = pd.DataFrame({'time, x10^(-3) s': times * (10**3), 'T, K': temperatures}, index=N)\n",
    "df_out.round(3)"
   ]
  },
  {
   "cell_type": "markdown",
   "metadata": {},
   "source": [
    "## Розрахунок параметрів масопереносу"
   ]
  },
  {
   "cell_type": "markdown",
   "metadata": {},
   "source": [
    "**Визначити середні коефіцієнти дифузії $D_{\\textit{еф}}$ для міді:**\n",
    "$$D_{\\textit{еф}} = \\frac{\\sum_{j=1}^n D_j t_j}{\\tau}$$\n",
    "\n",
    "Коефіцієнт дифузії розраховується за формулою:\n",
    "\n",
    "$$D = D_0 \\exp{\\frac{-E_a}{RT}}$$"
   ]
  },
  {
   "cell_type": "code",
   "execution_count": 6,
   "metadata": {},
   "outputs": [
    {
     "data": {
      "text/html": [
       "<div>\n",
       "<style scoped>\n",
       "    .dataframe tbody tr th:only-of-type {\n",
       "        vertical-align: middle;\n",
       "    }\n",
       "\n",
       "    .dataframe tbody tr th {\n",
       "        vertical-align: top;\n",
       "    }\n",
       "\n",
       "    .dataframe thead th {\n",
       "        text-align: right;\n",
       "    }\n",
       "</style>\n",
       "<table border=\"1\" class=\"dataframe\">\n",
       "  <thead>\n",
       "    <tr style=\"text-align: right;\">\n",
       "      <th></th>\n",
       "      <th>T, K</th>\n",
       "      <th>time, x10^(-3) s</th>\n",
       "      <th>D</th>\n",
       "    </tr>\n",
       "  </thead>\n",
       "  <tbody>\n",
       "    <tr>\n",
       "      <th>1</th>\n",
       "      <td>695.137614</td>\n",
       "      <td>0.256</td>\n",
       "      <td>0.000975</td>\n",
       "    </tr>\n",
       "    <tr>\n",
       "      <th>2</th>\n",
       "      <td>869.096409</td>\n",
       "      <td>0.512</td>\n",
       "      <td>0.000980</td>\n",
       "    </tr>\n",
       "    <tr>\n",
       "      <th>3</th>\n",
       "      <td>953.834616</td>\n",
       "      <td>0.768</td>\n",
       "      <td>0.000981</td>\n",
       "    </tr>\n",
       "    <tr>\n",
       "      <th>4</th>\n",
       "      <td>997.734899</td>\n",
       "      <td>1.024</td>\n",
       "      <td>0.000982</td>\n",
       "    </tr>\n",
       "    <tr>\n",
       "      <th>5</th>\n",
       "      <td>1019.546189</td>\n",
       "      <td>1.280</td>\n",
       "      <td>0.000983</td>\n",
       "    </tr>\n",
       "    <tr>\n",
       "      <th>6</th>\n",
       "      <td>1028.394492</td>\n",
       "      <td>1.536</td>\n",
       "      <td>0.000983</td>\n",
       "    </tr>\n",
       "    <tr>\n",
       "      <th>7</th>\n",
       "      <td>1029.268205</td>\n",
       "      <td>1.792</td>\n",
       "      <td>0.000983</td>\n",
       "    </tr>\n",
       "    <tr>\n",
       "      <th>8</th>\n",
       "      <td>1025.098592</td>\n",
       "      <td>2.048</td>\n",
       "      <td>0.000983</td>\n",
       "    </tr>\n",
       "    <tr>\n",
       "      <th>9</th>\n",
       "      <td>1017.696210</td>\n",
       "      <td>2.304</td>\n",
       "      <td>0.000983</td>\n",
       "    </tr>\n",
       "    <tr>\n",
       "      <th>10</th>\n",
       "      <td>1008.220759</td>\n",
       "      <td>2.560</td>\n",
       "      <td>0.000982</td>\n",
       "    </tr>\n",
       "  </tbody>\n",
       "</table>\n",
       "</div>"
      ],
      "text/plain": [
       "           T, K  time, x10^(-3) s         D\n",
       "1    695.137614             0.256  0.000975\n",
       "2    869.096409             0.512  0.000980\n",
       "3    953.834616             0.768  0.000981\n",
       "4    997.734899             1.024  0.000982\n",
       "5   1019.546189             1.280  0.000983\n",
       "6   1028.394492             1.536  0.000983\n",
       "7   1029.268205             1.792  0.000983\n",
       "8   1025.098592             2.048  0.000983\n",
       "9   1017.696210             2.304  0.000983\n",
       "10  1008.220759             2.560  0.000982"
      ]
     },
     "execution_count": 6,
     "metadata": {},
     "output_type": "execute_result"
    }
   ],
   "source": [
    "D_0 = 1e-3\n",
    "E = 149\n",
    "\n",
    "def calc_mass_diffusivity(T, D_0, E):\n",
    "    return D_0 * np.exp(-E/(8.31*T))\n",
    "\n",
    "mass_diffusivity = np.apply_along_axis(calc_mass_diffusivity, axis=0, arr=temperatures, D_0=D_0, E=E)\n",
    "df_out['D'] = mass_diffusivity\n",
    "df_out"
   ]
  },
  {
   "cell_type": "code",
   "execution_count": 7,
   "metadata": {},
   "outputs": [
    {
     "data": {
      "text/latex": [
       "$D_{\\textit{еф}} = 5.40 \\times 10^{-3}$"
      ],
      "text/plain": [
       "<IPython.core.display.Latex object>"
      ]
     },
     "execution_count": 7,
     "metadata": {},
     "output_type": "execute_result"
    }
   ],
   "source": [
    "efficient_mass_diffusivity = np.sum(mass_diffusivity * times) / tau\n",
    "Latex(r'$D_{\\textit{еф}} = %.2f \\times 10^{-3}$' % (efficient_mass_diffusivity * (10**3)))"
   ]
  },
  {
   "cell_type": "markdown",
   "metadata": {},
   "source": [
    "**Розрахувати середні значення \"довжини дифузійного шляху\" $x = (Dt)^{1/2}$ за значеннями ефективних коефіцієнтів $D_{\\textit{еф}}$**"
   ]
  },
  {
   "cell_type": "code",
   "execution_count": 8,
   "metadata": {},
   "outputs": [
    {
     "data": {
      "text/latex": [
       "$x = 3.72 \\times10^{-3}\\, \\text{см}$"
      ],
      "text/plain": [
       "<IPython.core.display.Latex object>"
      ]
     },
     "execution_count": 8,
     "metadata": {},
     "output_type": "execute_result"
    }
   ],
   "source": [
    "distance = (efficient_mass_diffusivity * times[-1]) ** (0.5)\n",
    "Latex(r'$x = %.2f \\times10^{-3}\\, \\text{см}$' % (distance * 10**3))"
   ]
  },
  {
   "cell_type": "code",
   "execution_count": null,
   "metadata": {},
   "outputs": [],
   "source": []
  }
 ],
 "metadata": {
  "hide_input": false,
  "kernelspec": {
   "display_name": "Python 3",
   "language": "python",
   "name": "python3"
  },
  "language_info": {
   "codemirror_mode": {
    "name": "ipython",
    "version": 3
   },
   "file_extension": ".py",
   "mimetype": "text/x-python",
   "name": "python",
   "nbconvert_exporter": "python",
   "pygments_lexer": "ipython3",
   "version": "3.6.5"
  }
 },
 "nbformat": 4,
 "nbformat_minor": 2
}
