{
 "cells": [
  {
   "cell_type": "markdown",
   "metadata": {},
   "source": [
    "# МАТЕМАТИЧНЕ МОДЕЛЮВАННЯ МАТЕРІАЛІВ ТА ТЕХНОЛОГІЧНИХ ПРОЦЕСІВ В МАТЕРІАЛОЗНАВСТВІ\n",
    "Комп'ютерний практикум\n",
    "\n",
    "*Виконав студент групи ФМ-71мп*\n",
    "\n",
    "*Богомаз Ростислав*"
   ]
  },
  {
   "cell_type": "markdown",
   "metadata": {},
   "source": [
    "## ІДЕНТИФІКАЦІЙНІ МАТЕМАТИЧНІ МОДЕЛІ. МЕТОД НАЙМЕНШИХ КВАДРАТІВ\n",
    "\n",
    "**Мета роботи:** освоєння комп’ютерної реалізації багатовимірного методу\n",
    "найменших квадратів для побудови ідентифікаційних регресійних математичних моделей."
   ]
  },
  {
   "attachments": {},
   "cell_type": "markdown",
   "metadata": {},
   "source": [
    "### Завдання та вихідні дані\n",
    "Побудувати математичну модель, використовуючи дані багатофакторного\n",
    "експерименту і методику покрокового регресійного аналізу, яка базується на\n",
    "багатовимірному варіанті методу найменших квадратів. Визначити адекватність моделі."
   ]
  },
  {
   "cell_type": "code",
   "execution_count": 1,
   "metadata": {
    "collapsed": true
   },
   "outputs": [],
   "source": [
    "import numpy as np\n",
    "import pandas as pd\n",
    "\n",
    "from sklearn.linear_model import LinearRegression\n",
    "from sklearn import metrics\n",
    "import matplotlib.pyplot as plt\n",
    "%matplotlib inline"
   ]
  },
  {
   "cell_type": "code",
   "execution_count": 2,
   "metadata": {},
   "outputs": [
    {
     "data": {
      "text/html": [
       "<div>\n",
       "<style>\n",
       "    .dataframe thead tr:only-child th {\n",
       "        text-align: right;\n",
       "    }\n",
       "\n",
       "    .dataframe thead th {\n",
       "        text-align: left;\n",
       "    }\n",
       "\n",
       "    .dataframe tbody tr th {\n",
       "        vertical-align: top;\n",
       "    }\n",
       "</style>\n",
       "<table border=\"1\" class=\"dataframe\">\n",
       "  <thead>\n",
       "    <tr style=\"text-align: right;\">\n",
       "      <th></th>\n",
       "      <th>X1</th>\n",
       "      <th>X2</th>\n",
       "      <th>X3</th>\n",
       "      <th>X4</th>\n",
       "      <th>X5</th>\n",
       "      <th>X6</th>\n",
       "      <th>Y</th>\n",
       "    </tr>\n",
       "  </thead>\n",
       "  <tbody>\n",
       "    <tr>\n",
       "      <th>0</th>\n",
       "      <td>0.21</td>\n",
       "      <td>0.79</td>\n",
       "      <td>0.20</td>\n",
       "      <td>0.65</td>\n",
       "      <td>1.65</td>\n",
       "      <td>0.07</td>\n",
       "      <td>70</td>\n",
       "    </tr>\n",
       "    <tr>\n",
       "      <th>1</th>\n",
       "      <td>0.20</td>\n",
       "      <td>1.10</td>\n",
       "      <td>0.80</td>\n",
       "      <td>0.74</td>\n",
       "      <td>1.51</td>\n",
       "      <td>0.12</td>\n",
       "      <td>73</td>\n",
       "    </tr>\n",
       "    <tr>\n",
       "      <th>2</th>\n",
       "      <td>0.19</td>\n",
       "      <td>0.65</td>\n",
       "      <td>1.05</td>\n",
       "      <td>0.87</td>\n",
       "      <td>1.89</td>\n",
       "      <td>0.06</td>\n",
       "      <td>73</td>\n",
       "    </tr>\n",
       "    <tr>\n",
       "      <th>3</th>\n",
       "      <td>0.26</td>\n",
       "      <td>0.55</td>\n",
       "      <td>0.39</td>\n",
       "      <td>0.68</td>\n",
       "      <td>1.48</td>\n",
       "      <td>0.15</td>\n",
       "      <td>78</td>\n",
       "    </tr>\n",
       "    <tr>\n",
       "      <th>4</th>\n",
       "      <td>0.30</td>\n",
       "      <td>0.59</td>\n",
       "      <td>0.45</td>\n",
       "      <td>0.82</td>\n",
       "      <td>1.18</td>\n",
       "      <td>0.03</td>\n",
       "      <td>80</td>\n",
       "    </tr>\n",
       "    <tr>\n",
       "      <th>5</th>\n",
       "      <td>0.18</td>\n",
       "      <td>0.64</td>\n",
       "      <td>0.61</td>\n",
       "      <td>0.91</td>\n",
       "      <td>1.20</td>\n",
       "      <td>0.09</td>\n",
       "      <td>77</td>\n",
       "    </tr>\n",
       "    <tr>\n",
       "      <th>6</th>\n",
       "      <td>0.20</td>\n",
       "      <td>0.60</td>\n",
       "      <td>0.63</td>\n",
       "      <td>1.05</td>\n",
       "      <td>1.18</td>\n",
       "      <td>0.00</td>\n",
       "      <td>85</td>\n",
       "    </tr>\n",
       "    <tr>\n",
       "      <th>7</th>\n",
       "      <td>0.21</td>\n",
       "      <td>0.58</td>\n",
       "      <td>0.81</td>\n",
       "      <td>0.73</td>\n",
       "      <td>1.54</td>\n",
       "      <td>0.04</td>\n",
       "      <td>73</td>\n",
       "    </tr>\n",
       "    <tr>\n",
       "      <th>8</th>\n",
       "      <td>0.25</td>\n",
       "      <td>0.55</td>\n",
       "      <td>0.76</td>\n",
       "      <td>0.92</td>\n",
       "      <td>1.36</td>\n",
       "      <td>0.14</td>\n",
       "      <td>90</td>\n",
       "    </tr>\n",
       "    <tr>\n",
       "      <th>9</th>\n",
       "      <td>0.19</td>\n",
       "      <td>1.05</td>\n",
       "      <td>0.44</td>\n",
       "      <td>1.22</td>\n",
       "      <td>1.00</td>\n",
       "      <td>0.00</td>\n",
       "      <td>88</td>\n",
       "    </tr>\n",
       "    <tr>\n",
       "      <th>10</th>\n",
       "      <td>0.18</td>\n",
       "      <td>0.92</td>\n",
       "      <td>0.32</td>\n",
       "      <td>0.59</td>\n",
       "      <td>1.25</td>\n",
       "      <td>0.07</td>\n",
       "      <td>76</td>\n",
       "    </tr>\n",
       "    <tr>\n",
       "      <th>11</th>\n",
       "      <td>0.23</td>\n",
       "      <td>0.64</td>\n",
       "      <td>0.28</td>\n",
       "      <td>0.63</td>\n",
       "      <td>1.32</td>\n",
       "      <td>0.06</td>\n",
       "      <td>80</td>\n",
       "    </tr>\n",
       "    <tr>\n",
       "      <th>12</th>\n",
       "      <td>0.26</td>\n",
       "      <td>0.78</td>\n",
       "      <td>0.41</td>\n",
       "      <td>0.74</td>\n",
       "      <td>1.10</td>\n",
       "      <td>0.11</td>\n",
       "      <td>74</td>\n",
       "    </tr>\n",
       "    <tr>\n",
       "      <th>13</th>\n",
       "      <td>0.19</td>\n",
       "      <td>0.82</td>\n",
       "      <td>0.54</td>\n",
       "      <td>0.81</td>\n",
       "      <td>1.05</td>\n",
       "      <td>0.03</td>\n",
       "      <td>88</td>\n",
       "    </tr>\n",
       "    <tr>\n",
       "      <th>14</th>\n",
       "      <td>0.29</td>\n",
       "      <td>0.90</td>\n",
       "      <td>1.10</td>\n",
       "      <td>0.57</td>\n",
       "      <td>1.48</td>\n",
       "      <td>0.00</td>\n",
       "      <td>87</td>\n",
       "    </tr>\n",
       "    <tr>\n",
       "      <th>15</th>\n",
       "      <td>0.30</td>\n",
       "      <td>0.69</td>\n",
       "      <td>0.79</td>\n",
       "      <td>0.61</td>\n",
       "      <td>1.54</td>\n",
       "      <td>0.02</td>\n",
       "      <td>65</td>\n",
       "    </tr>\n",
       "    <tr>\n",
       "      <th>16</th>\n",
       "      <td>0.24</td>\n",
       "      <td>0.76</td>\n",
       "      <td>0.36</td>\n",
       "      <td>1.25</td>\n",
       "      <td>1.63</td>\n",
       "      <td>0.01</td>\n",
       "      <td>79</td>\n",
       "    </tr>\n",
       "    <tr>\n",
       "      <th>17</th>\n",
       "      <td>0.17</td>\n",
       "      <td>0.67</td>\n",
       "      <td>0.43</td>\n",
       "      <td>0.74</td>\n",
       "      <td>1.63</td>\n",
       "      <td>0.12</td>\n",
       "      <td>86</td>\n",
       "    </tr>\n",
       "    <tr>\n",
       "      <th>18</th>\n",
       "      <td>0.19</td>\n",
       "      <td>0.99</td>\n",
       "      <td>0.34</td>\n",
       "      <td>0.87</td>\n",
       "      <td>1.41</td>\n",
       "      <td>0.00</td>\n",
       "      <td>77</td>\n",
       "    </tr>\n",
       "    <tr>\n",
       "      <th>19</th>\n",
       "      <td>0.25</td>\n",
       "      <td>0.81</td>\n",
       "      <td>0.87</td>\n",
       "      <td>0.78</td>\n",
       "      <td>1.05</td>\n",
       "      <td>0.14</td>\n",
       "      <td>72</td>\n",
       "    </tr>\n",
       "  </tbody>\n",
       "</table>\n",
       "</div>"
      ],
      "text/plain": [
       "      X1    X2    X3    X4    X5    X6   Y\n",
       "0   0.21  0.79  0.20  0.65  1.65  0.07  70\n",
       "1   0.20  1.10  0.80  0.74  1.51  0.12  73\n",
       "2   0.19  0.65  1.05  0.87  1.89  0.06  73\n",
       "3   0.26  0.55  0.39  0.68  1.48  0.15  78\n",
       "4   0.30  0.59  0.45  0.82  1.18  0.03  80\n",
       "5   0.18  0.64  0.61  0.91  1.20  0.09  77\n",
       "6   0.20  0.60  0.63  1.05  1.18  0.00  85\n",
       "7   0.21  0.58  0.81  0.73  1.54  0.04  73\n",
       "8   0.25  0.55  0.76  0.92  1.36  0.14  90\n",
       "9   0.19  1.05  0.44  1.22  1.00  0.00  88\n",
       "10  0.18  0.92  0.32  0.59  1.25  0.07  76\n",
       "11  0.23  0.64  0.28  0.63  1.32  0.06  80\n",
       "12  0.26  0.78  0.41  0.74  1.10  0.11  74\n",
       "13  0.19  0.82  0.54  0.81  1.05  0.03  88\n",
       "14  0.29  0.90  1.10  0.57  1.48  0.00  87\n",
       "15  0.30  0.69  0.79  0.61  1.54  0.02  65\n",
       "16  0.24  0.76  0.36  1.25  1.63  0.01  79\n",
       "17  0.17  0.67  0.43  0.74  1.63  0.12  86\n",
       "18  0.19  0.99  0.34  0.87  1.41  0.00  77\n",
       "19  0.25  0.81  0.87  0.78  1.05  0.14  72"
      ]
     },
     "execution_count": 2,
     "metadata": {},
     "output_type": "execute_result"
    }
   ],
   "source": [
    "df = pd.read_csv('data.mnk', names=['X1', 'X2', 'X3', 'X4', 'X5', 'X6', 'Y'])\n",
    "df"
   ]
  },
  {
   "cell_type": "markdown",
   "metadata": {},
   "source": [
    "### Порядок виконання"
   ]
  },
  {
   "cell_type": "markdown",
   "metadata": {},
   "source": [
    "Розмічаємо дані на фактори (матриця X) та результат (массив Y)."
   ]
  },
  {
   "cell_type": "code",
   "execution_count": 3,
   "metadata": {},
   "outputs": [],
   "source": [
    "X = df.iloc[:,df.columns != 'Y']\n",
    "Y = df['Y']"
   ]
  },
  {
   "cell_type": "markdown",
   "metadata": {},
   "source": [
    "Проводимо кореляційний аналіз:"
   ]
  },
  {
   "cell_type": "code",
   "execution_count": 4,
   "metadata": {},
   "outputs": [
    {
     "data": {
      "text/html": [
       "<div>\n",
       "<style>\n",
       "    .dataframe thead tr:only-child th {\n",
       "        text-align: right;\n",
       "    }\n",
       "\n",
       "    .dataframe thead th {\n",
       "        text-align: left;\n",
       "    }\n",
       "\n",
       "    .dataframe tbody tr th {\n",
       "        vertical-align: top;\n",
       "    }\n",
       "</style>\n",
       "<table border=\"1\" class=\"dataframe\">\n",
       "  <thead>\n",
       "    <tr style=\"text-align: right;\">\n",
       "      <th></th>\n",
       "      <th>X1</th>\n",
       "      <th>X2</th>\n",
       "      <th>X3</th>\n",
       "      <th>X4</th>\n",
       "      <th>X5</th>\n",
       "      <th>X6</th>\n",
       "      <th>Y</th>\n",
       "    </tr>\n",
       "  </thead>\n",
       "  <tbody>\n",
       "    <tr>\n",
       "      <th>X1</th>\n",
       "      <td>1.000000</td>\n",
       "      <td>-0.269127</td>\n",
       "      <td>0.224985</td>\n",
       "      <td>-0.258515</td>\n",
       "      <td>-0.034934</td>\n",
       "      <td>-0.016117</td>\n",
       "      <td>-0.155057</td>\n",
       "    </tr>\n",
       "    <tr>\n",
       "      <th>X2</th>\n",
       "      <td>-0.269127</td>\n",
       "      <td>1.000000</td>\n",
       "      <td>-0.046189</td>\n",
       "      <td>0.056107</td>\n",
       "      <td>-0.182688</td>\n",
       "      <td>-0.223716</td>\n",
       "      <td>-0.022913</td>\n",
       "    </tr>\n",
       "    <tr>\n",
       "      <th>X3</th>\n",
       "      <td>0.224985</td>\n",
       "      <td>-0.046189</td>\n",
       "      <td>1.000000</td>\n",
       "      <td>-0.102816</td>\n",
       "      <td>0.204957</td>\n",
       "      <td>0.009477</td>\n",
       "      <td>-0.043821</td>\n",
       "    </tr>\n",
       "    <tr>\n",
       "      <th>X4</th>\n",
       "      <td>-0.258515</td>\n",
       "      <td>0.056107</td>\n",
       "      <td>-0.102816</td>\n",
       "      <td>1.000000</td>\n",
       "      <td>-0.189146</td>\n",
       "      <td>-0.309623</td>\n",
       "      <td>0.381760</td>\n",
       "    </tr>\n",
       "    <tr>\n",
       "      <th>X5</th>\n",
       "      <td>-0.034934</td>\n",
       "      <td>-0.182688</td>\n",
       "      <td>0.204957</td>\n",
       "      <td>-0.189146</td>\n",
       "      <td>1.000000</td>\n",
       "      <td>0.029154</td>\n",
       "      <td>-0.337563</td>\n",
       "    </tr>\n",
       "    <tr>\n",
       "      <th>X6</th>\n",
       "      <td>-0.016117</td>\n",
       "      <td>-0.223716</td>\n",
       "      <td>0.009477</td>\n",
       "      <td>-0.309623</td>\n",
       "      <td>0.029154</td>\n",
       "      <td>1.000000</td>\n",
       "      <td>-0.144291</td>\n",
       "    </tr>\n",
       "    <tr>\n",
       "      <th>Y</th>\n",
       "      <td>-0.155057</td>\n",
       "      <td>-0.022913</td>\n",
       "      <td>-0.043821</td>\n",
       "      <td>0.381760</td>\n",
       "      <td>-0.337563</td>\n",
       "      <td>-0.144291</td>\n",
       "      <td>1.000000</td>\n",
       "    </tr>\n",
       "  </tbody>\n",
       "</table>\n",
       "</div>"
      ],
      "text/plain": [
       "          X1        X2        X3        X4        X5        X6         Y\n",
       "X1  1.000000 -0.269127  0.224985 -0.258515 -0.034934 -0.016117 -0.155057\n",
       "X2 -0.269127  1.000000 -0.046189  0.056107 -0.182688 -0.223716 -0.022913\n",
       "X3  0.224985 -0.046189  1.000000 -0.102816  0.204957  0.009477 -0.043821\n",
       "X4 -0.258515  0.056107 -0.102816  1.000000 -0.189146 -0.309623  0.381760\n",
       "X5 -0.034934 -0.182688  0.204957 -0.189146  1.000000  0.029154 -0.337563\n",
       "X6 -0.016117 -0.223716  0.009477 -0.309623  0.029154  1.000000 -0.144291\n",
       "Y  -0.155057 -0.022913 -0.043821  0.381760 -0.337563 -0.144291  1.000000"
      ]
     },
     "execution_count": 4,
     "metadata": {},
     "output_type": "execute_result"
    }
   ],
   "source": [
    "df.corr()"
   ]
  },
  {
   "cell_type": "markdown",
   "metadata": {},
   "source": [
    "Властивості X1, Х2, Х3 та Х6 мають низький коефіцієнт кореляції тому такі властивості можемо виключити з регресійного аналізу."
   ]
  },
  {
   "cell_type": "code",
   "execution_count": 5,
   "metadata": {
    "collapsed": true
   },
   "outputs": [],
   "source": [
    "Xreduced_1 = X.drop(['X1', 'X2', 'X3', 'X6'], axis=1)"
   ]
  },
  {
   "cell_type": "markdown",
   "metadata": {},
   "source": [
    "Створюємо регресійну модель:"
   ]
  },
  {
   "cell_type": "code",
   "execution_count": 6,
   "metadata": {
    "run_control": {
     "marked": false
    }
   },
   "outputs": [
    {
     "data": {
      "text/plain": [
       "LinearRegression(copy_X=True, fit_intercept=True, n_jobs=1, normalize=False)"
      ]
     },
     "execution_count": 6,
     "metadata": {},
     "output_type": "execute_result"
    }
   ],
   "source": [
    "regressor1 = LinearRegression(normalize=False)\n",
    "regressor1.fit(Xreduced_1, Y)"
   ]
  },
  {
   "cell_type": "code",
   "execution_count": 8,
   "metadata": {
    "run_control": {
     "marked": false
    }
   },
   "outputs": [],
   "source": [
    "y_predictions_1 = regressor1.predict(Xreduced_1)"
   ]
  },
  {
   "cell_type": "markdown",
   "metadata": {},
   "source": [
    "Шукаємо середню похибку та будуємо результат:"
   ]
  },
  {
   "cell_type": "code",
   "execution_count": 9,
   "metadata": {},
   "outputs": [
    {
     "data": {
      "text/plain": [
       "'Середня похибка: 35.42700305168125'"
      ]
     },
     "execution_count": 9,
     "metadata": {},
     "output_type": "execute_result"
    }
   ],
   "source": [
    "error_1 = metrics.mean_squared_error(Y, y_predictions_1)\n",
    "f'Середня похибка: {error_1}'"
   ]
  },
  {
   "cell_type": "markdown",
   "metadata": {},
   "source": [
    "Спробуємо побудувати модель з урахуванням всіх властивостей:"
   ]
  },
  {
   "cell_type": "code",
   "execution_count": 11,
   "metadata": {},
   "outputs": [
    {
     "data": {
      "text/plain": [
       "'Середня похибка: 33.87138426977624'"
      ]
     },
     "execution_count": 11,
     "metadata": {},
     "output_type": "execute_result"
    }
   ],
   "source": [
    "regressor_full = LinearRegression(normalize=False)\n",
    "regressor_full.fit(X, Y)\n",
    "y_predictions_full = regressor_full.predict(X)\n",
    "error_full = metrics.mean_squared_error(Y, y_predictions_full)\n",
    "f'Середня похибка: {error_full}'"
   ]
  },
  {
   "cell_type": "code",
   "execution_count": 12,
   "metadata": {},
   "outputs": [
    {
     "data": {
      "text/plain": [
       "4.3910538513112556"
      ]
     },
     "execution_count": 12,
     "metadata": {},
     "output_type": "execute_result"
    }
   ],
   "source": [
    "(1 - error_full / error_1) * 100"
   ]
  },
  {
   "cell_type": "markdown",
   "metadata": {},
   "source": [
    "Похибка зменшилась на 4%. Далі побудуємо регресійну модель, в якій виключимо параметри, які мають кореляцію менше 0.1."
   ]
  },
  {
   "cell_type": "code",
   "execution_count": 13,
   "metadata": {},
   "outputs": [
    {
     "data": {
      "text/plain": [
       "'Середня похибка: 35.025536843331025'"
      ]
     },
     "execution_count": 13,
     "metadata": {},
     "output_type": "execute_result"
    }
   ],
   "source": [
    "Xreduced_2 = X.drop(['X2', 'X3'], axis=1)\n",
    "regressor2 = LinearRegression(normalize=False)\n",
    "regressor2.fit(Xreduced_2, Y)\n",
    "y_predictions_2 = regressor2.predict(Xreduced_2)\n",
    "error_2 = metrics.mean_squared_error(Y, y_predictions_2)\n",
    "f'Середня похибка: {error_2}'"
   ]
  },
  {
   "cell_type": "code",
   "execution_count": 14,
   "metadata": {},
   "outputs": [
    {
     "data": {
      "text/plain": [
       "1.1332209155952566"
      ]
     },
     "execution_count": 14,
     "metadata": {},
     "output_type": "execute_result"
    }
   ],
   "source": [
    "(1 - error_2 / error_1) * 100"
   ]
  },
  {
   "cell_type": "markdown",
   "metadata": {},
   "source": [
    "Похибка зменшилась на 1% у порівнянні з першою моделлю."
   ]
  },
  {
   "cell_type": "markdown",
   "metadata": {},
   "source": [
    "Побудуємо дані, які дають кожна з моделей."
   ]
  },
  {
   "cell_type": "code",
   "execution_count": 21,
   "metadata": {
    "run_control": {
     "marked": false
    },
    "scrolled": false
   },
   "outputs": [
    {
     "data": {
      "text/plain": [
       "<matplotlib.text.Text at 0x203965e5ac8>"
      ]
     },
     "execution_count": 21,
     "metadata": {},
     "output_type": "execute_result"
    },
    {
     "data": {
      "image/png": "[encoded data removed]",
      "text/plain": [
       "<matplotlib.figure.Figure at 0x203965610f0>"
      ]
     },
     "metadata": {},
     "output_type": "display_data"
    }
   ],
   "source": [
    "plt.figure(figsize=(5,5))\n",
    "plt.plot(Y, Y, color='black', label='')\n",
    "\n",
    "plt.scatter(Y, y_predictions_1, color=\"red\", alpha=.7, edgecolor='black', label='regressor1')\n",
    "plt.scatter(Y, y_predictions_2, color=\"blue\", alpha=.7, edgecolor='black', label='regressor2')\n",
    "plt.scatter(Y, y_predictions_full, color=\"green\", alpha=.7, edgecolor='black', label='full')\n",
    "\n",
    "plt.legend()\n",
    "plt.xlim(Y.min(), Y.max())\n",
    "plt.ylim(Y.min(), Y.max())\n",
    "plt.grid()\n",
    "plt.xlabel('Y')\n",
    "plt.ylabel('Estimated Y')"
   ]
  }
 ],
 "metadata": {
  "hide_input": false,
  "kernelspec": {
   "display_name": "Python 3",
   "language": "python",
   "name": "python3"
  },
  "language_info": {
   "codemirror_mode": {
    "name": "ipython",
    "version": 3
   },
   "file_extension": ".py",
   "mimetype": "text/x-python",
   "name": "python",
   "nbconvert_exporter": "python",
   "pygments_lexer": "ipython3",
   "version": "3.6.2"
  },
  "toc": {
   "nav_menu": {},
   "number_sections": false,
   "sideBar": true,
   "skip_h1_title": true,
   "toc_cell": false,
   "toc_position": {},
   "toc_section_display": "block",
   "toc_window_display": false
  },
  "varInspector": {
   "cols": {
    "lenName": 16,
    "lenType": 16,
    "lenVar": 40
   },
   "kernels_config": {
    "python": {
     "delete_cmd_postfix": "",
     "delete_cmd_prefix": "del ",
     "library": "var_list.py",
     "varRefreshCmd": "print(var_dic_list())"
    },
    "r": {
     "delete_cmd_postfix": ") ",
     "delete_cmd_prefix": "rm(",
     "library": "var_list.r",
     "varRefreshCmd": "cat(var_dic_list()) "
    }
   },
   "types_to_exclude": [
    "module",
    "function",
    "builtin_function_or_method",
    "instance",
    "_Feature"
   ],
   "window_display": false
  }
 },
 "nbformat": 4,
 "nbformat_minor": 2
}
