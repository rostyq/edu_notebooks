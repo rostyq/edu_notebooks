{
 "cells": [
  {
   "cell_type": "markdown",
   "metadata": {},
   "source": [
    "\n",
    "# МАТЕМАТИЧНЕ МОДЕЛЮВАННЯ МАТЕРІАЛІВ ТА ТЕХНОЛОГІЧНИХ ПРОЦЕСІВ В МАТЕРІАЛОЗНАВСТВІ\n",
    "Комп'ютерний практикум\n",
    "\n",
    "*Виконав студент групи ФМ-71мп*\n",
    "\n",
    "*Богомаз Ростислав*"
   ]
  },
  {
   "cell_type": "markdown",
   "metadata": {},
   "source": [
    "## АНАЛІТИЧНА МАТЕМАТИЧНА МОДЕЛЬ НАГРІВАННЯ МЕТАЛЕВОГО ВИРОБУ В ПЕЧІ ДЛЯ НАСТУПНОЇ ТЕРМІЧНОЇ ОБРОБКИ\n",
    "\n",
    "**Мета роботи:** освоєння принципів побудови детермінованої аналітичної математичної моделі із зосередженими параметрами та визначення часу нагріву металевого виробу."
   ]
  },
  {
   "cell_type": "markdown",
   "metadata": {},
   "source": [
    "### Завдання та вихідні дані\n",
    "Розрахувати час нагріву заготівки $t_{h}$, яка нагрівається в печі та побудувати графік залежності температури від часу в процесі нагрівання. Розрахунки провести використовуючи для цього детерміновану, інтегральну, аналітичну математичну модель із зосередженими параметрами.\n",
    "\n",
    "Вихідні дані:"
   ]
  },
  {
   "cell_type": "code",
   "execution_count": 41,
   "metadata": {
    "collapsed": true
   },
   "outputs": [],
   "source": [
    "# Defining variablbbes\n",
    "# Материал Cu\n",
    "# material constants\n",
    "density = 8873  # густина металу кг/м3\n",
    "alpha = 200  # Вт*м-2*К-1\n",
    "heat_capacity = [385, 442]  # 300 K and 800 K\n",
    "thermal_emissivity = 0.78  # для міді (epsilon)\n",
    "\n",
    "# constants\n",
    "Stefan_Bolzman = 5.6704e-8  # Вт / (м^2 * К^4)\n",
    "\n",
    "# geometry, m\n",
    "width, length, high = 0.1, 0.1, 0.1\n",
    "\n",
    "# температура печі\n",
    "T_furnace = 600 + 273.0  # K\n",
    "T_specimen = 20 + 273.0  # K\n",
    "DeltaT = 1  # %"
   ]
  },
  {
   "cell_type": "markdown",
   "metadata": {},
   "source": [
    "### Порядок виконання"
   ]
  },
  {
   "cell_type": "code",
   "execution_count": 42,
   "metadata": {
    "collapsed": true
   },
   "outputs": [],
   "source": [
    "import numpy as np\n",
    "import matplotlib.pyplot as plt\n",
    "%matplotlib inline"
   ]
  },
  {
   "cell_type": "markdown",
   "metadata": {},
   "source": [
    "Розрахунок площі поверхні та маси зразка:"
   ]
  },
  {
   "cell_type": "code",
   "execution_count": 43,
   "metadata": {},
   "outputs": [
    {
     "data": {
      "text/plain": [
       "(0.06000000000000001, 0.0010000000000000002, 8.873000000000003)"
      ]
     },
     "execution_count": 43,
     "metadata": {},
     "output_type": "execute_result"
    }
   ],
   "source": [
    "square = (width * length + width * high + length * high) * 2\n",
    "volume = width * length * high\n",
    "mass = volume * density\n",
    "square, volume, mass"
   ]
  },
  {
   "cell_type": "markdown",
   "metadata": {},
   "source": [
    "Визначаємо температуру закінчення розрахунків Тк:"
   ]
  },
  {
   "cell_type": "code",
   "execution_count": 44,
   "metadata": {},
   "outputs": [
    {
     "data": {
      "text/plain": [
       "864.27"
      ]
     },
     "execution_count": 44,
     "metadata": {},
     "output_type": "execute_result"
    }
   ],
   "source": [
    "T_last = (1 - 0.01 * DeltaT) * T_furnace\n",
    "T_last"
   ]
  },
  {
   "cell_type": "markdown",
   "metadata": {},
   "source": [
    "Розраховуємо середню теплоємність через лінійний закон:"
   ]
  },
  {
   "cell_type": "code",
   "execution_count": 45,
   "metadata": {},
   "outputs": [
    {
     "data": {
      "text/plain": [
       "417.26200000000006"
      ]
     },
     "execution_count": 45,
     "metadata": {},
     "output_type": "execute_result"
    }
   ],
   "source": [
    "heat_cap_line = np.poly1d(np.polyfit([300, 800], heat_capacity, 1))\n",
    "c = heat_cap_line(np.mean([T_furnace, T_specimen]))\n",
    "c"
   ]
  },
  {
   "cell_type": "markdown",
   "metadata": {},
   "source": [
    "Розраховуємо коефіцієнт $k$ та час нагріву:"
   ]
  },
  {
   "cell_type": "code",
   "execution_count": 46,
   "metadata": {},
   "outputs": [
    {
     "data": {
      "text/plain": [
       "(0.0032411708858823842, 1294.6749435417539)"
      ]
     },
     "execution_count": 46,
     "metadata": {},
     "output_type": "execute_result"
    }
   ],
   "source": [
    "k = alpha * square / (c * mass)\n",
    "heat_time = -np.log((T_furnace - T_last) / (T_furnace - T_specimen)) / k\n",
    "k, heat_time\n"
   ]
  },
  {
   "cell_type": "markdown",
   "metadata": {},
   "source": [
    "Будуємо графік:"
   ]
  },
  {
   "cell_type": "code",
   "execution_count": 47,
   "metadata": {},
   "outputs": [
    {
     "data": {
      "image/png": "[encoded data removed]",
      "text/plain": [
       "<matplotlib.figure.Figure at 0x29663e690f0>"
      ]
     },
     "metadata": {},
     "output_type": "display_data"
    }
   ],
   "source": [
    "# дані для побудови\n",
    "lab1_x = np.arange(0, heat_time, 0.5)\n",
    "lab1_y = T_furnace - (T_furnace - T_specimen) * np.exp(-k * lab1_x)\n",
    "\n",
    "plt.plot(lab1_x, lab1_y - 273.0)\n",
    "plt.xticks(np.arange(lab1_x[0], lab1_x[-1] + 60, 120))\n",
    "plt.yticks(np.arange(0, 601, 50))\n",
    "plt.title(\"Процес нагрівання\")\n",
    "plt.ylabel(u\"Температура нагріву, ℃\")\n",
    "plt.xlabel(u\"Час нагріву, c\")\n",
    "plt.grid()"
   ]
  },
  {
   "cell_type": "markdown",
   "metadata": {},
   "source": [
    "### Висновки\n",
    "Була побудована детермінована аналітична математична модель із зосередженими параметрами для визначення часу нагріву металевого виробу.\n",
    "\n",
    "Отримано, що за даними параметрами зразок в печі нагрівається до температури печі за 22 хв. (1300 с).\n"
   ]
  },
  {
   "cell_type": "markdown",
   "metadata": {},
   "source": [
    "## ЧИСЛОВА МАТЕМАТИЧНА МОДЕЛЬ НАГРІВАННЯ МЕТАЛЕВОГО ВИРОБУ В ПЕЧІ ДЛЯ НАСТУПНОЇ ТЕРМІЧНОЇ ОБРОБКИ\n",
    "\n",
    "**Мета роботи:** освоєння принципів побудови детермінованої числової математичної моделі із зосередженими параметрами та визначення впливів залежності питомої теплоємності від температури і випромінювання на процес нагріву металевого виробу. "
   ]
  },
  {
   "cell_type": "markdown",
   "metadata": {},
   "source": [
    "### Завдання та вихідні дані\n",
    "Розрахувати час нагріву заготовки $t_\\text{н}$, яка нагрівається в печі та побудувати графік залежності температури від часу в процесі нагрівання. Розрахунки провести використовуючи ітераційну формулу чисельної математичної моделі із зосередженими параметрами. Дані для розрахунків задані в комп’ютерному практикумі №1.\n",
    "\n",
    "Розрахунки провести при наступних умовах:\n",
    "1. $a_0 = c$; $a_1 = 0$; $\\epsilon = 0$. В цьому випадку розрахунки можна порівняти з результатами, які отримані в комп’ютерному практикумі №1.\n",
    "2. $a_0 \\neq c$; $a_1 \\neq 0$; $\\epsilon = 0$. В цьому випадку розрахунки показують вплив залежності питомої теплоємності від температури на динаміку процесу нагріву.\n",
    "3. $a_0 \\neq c$; $a_1 \\neq 0$; $\\epsilon = 0.78$. В цьому випадку розрахунки показують вплив залежності питомої теплоємності від температури та врахування нагріву шляхом випромінювання на динаміку процесу нагріву.\n",
    "\n",
    "Побудувати графіки для трьох варіантів розрахунків і порівняти їх між собою та з результатами, що отримані в комп’ютерному практикумі №1.  \n"
   ]
  },
  {
   "cell_type": "markdown",
   "metadata": {},
   "source": [
    "### Порядок виконання"
   ]
  },
  {
   "cell_type": "markdown",
   "metadata": {},
   "source": [
    "Реалізовуємо ітеративну функцію для розрахунку температури за формулою:\n",
    "$$ T_{i+1} = T_i + h \\frac{k_1(T_f-T_i)+k_2(T_f^4 - T_i^4)}{a_0 + a_1 T_i} $$\n",
    "де:\n",
    "\n",
    "- $T_{i+1}$, $T_{i}$ та $T_f$ -- відповідно наступна, попередня температури та температура печі,\n",
    "- $h$ -- крок по часу\n",
    "- $a_0$, $a_1$ -- емпіричні коефіцієнти з лінійної апроксимації темпоємності.\n",
    "\n",
    "Коефіцієнти $k_1$, $k_2$ розраховуються таким чином:\n",
    "$$ k_1 = \\frac{\\alpha S}{m},$$\n",
    "$$k_2 = \\frac{\\sigma \\epsilon S}{m}$$,\n",
    "де:\n",
    "\n",
    "- $\\alpha$ - коефіцієнт теплопереносу\n",
    "- $\\sigma$ - стала Стефана-Больцмана\n",
    "- $\\epsilon$ - випромінювальна здатність\n",
    "- $S$ - площа поверхні зразка\n",
    "- $m$ - маса зразка"
   ]
  },
  {
   "cell_type": "code",
   "execution_count": 48,
   "metadata": {
    "collapsed": true
   },
   "outputs": [],
   "source": [
    "def lab2_data(a0, a1, epsilon):\n",
    "    # коефіцієнти\n",
    "    k1 = alpha * square / mass\n",
    "    k2 = Stefan_Bolzman * epsilon * square / mass\n",
    "    step = 10  # крок\n",
    "\n",
    "    time_array = [0]\n",
    "    i = 0\n",
    "\n",
    "    T_array = [T_specimen]\n",
    "    T_next = T_array[0]\n",
    "\n",
    "    while T_next <= T_last:\n",
    "        i += 1\n",
    "        T_next = T_next + step * (k1 * (T_furnace - T_next) +\n",
    "                                  k2 * (T_furnace ** 4 - T_next ** 4)\n",
    "                                  ) / (a0 + a1 * T_next)\n",
    "        T_array.append(T_next)\n",
    "        time_array.append(step*i)\n",
    "    return np.array(time_array), np.array(T_array)"
   ]
  },
  {
   "cell_type": "markdown",
   "metadata": {},
   "source": [
    "$a_0 = c$; $a_1 = 0$; $\\epsilon = 0$:"
   ]
  },
  {
   "cell_type": "code",
   "execution_count": 49,
   "metadata": {
    "collapsed": true
   },
   "outputs": [],
   "source": [
    "lab2_x1, lab2_y1 = lab2_data(c, 0, 0)"
   ]
  },
  {
   "cell_type": "markdown",
   "metadata": {},
   "source": [
    "$a_0 \\neq c$; $a_1 \\neq 0$; $\\epsilon = 0$:"
   ]
  },
  {
   "cell_type": "code",
   "execution_count": 50,
   "metadata": {
    "collapsed": true
   },
   "outputs": [],
   "source": [
    "lab2_x2, lab2_y2 = lab2_data(heat_cap_line[0],\n",
    "                             heat_cap_line[1],\n",
    "                             0)"
   ]
  },
  {
   "cell_type": "markdown",
   "metadata": {},
   "source": [
    "$a_0 \\neq c$; $a_1 \\neq 0$; $\\epsilon = 0.78$:"
   ]
  },
  {
   "cell_type": "code",
   "execution_count": 51,
   "metadata": {
    "collapsed": true
   },
   "outputs": [],
   "source": [
    "lab2_x3, lab2_y3 = lab2_data(heat_cap_line[0],\n",
    "                             heat_cap_line[1],\n",
    "                             thermal_emissivity)"
   ]
  },
  {
   "cell_type": "markdown",
   "metadata": {},
   "source": [
    "Будуємо графік залежності:"
   ]
  },
  {
   "cell_type": "code",
   "execution_count": 52,
   "metadata": {},
   "outputs": [
    {
     "data": {
      "image/png": "[encoded data removed]",
      "text/plain": [
       "<matplotlib.figure.Figure at 0x296618abb00>"
      ]
     },
     "metadata": {},
     "output_type": "display_data"
    }
   ],
   "source": [
    "data_list = [(lab1_x, lab1_y, \"Комп.практ.№1\"),\n",
    "            (lab2_x1, lab2_y1, \"$а_0 = c$; $а_1 = 0$; $\\epsilon = 0$\"),\n",
    "            (lab2_x2, lab2_y2, \"$а_0 ≠ 0; а_1 ≠ 0; \\epsilon = 0$\"),\n",
    "            (lab2_x3, lab2_y3, '$а_0 ≠ 0$; $а_1 ≠ 0$; $\\epsilon = 0.78$')]\n",
    "\n",
    "style_iter = iter(['--', '-.', ':', '-'])\n",
    "\n",
    "for x, y, l in data_list:\n",
    "    plt.plot(x, y-273.0, next(style_iter), label=l)\n",
    "    \n",
    "plt.legend()\n",
    "plt.title(\"Процес нагрівання\")\n",
    "plt.ylabel(u\"Температура нагріву, ℃\")\n",
    "plt.xlabel(u\"Час нагріву, c\")\n",
    "plt.yticks(np.arange(0, 601, 50))\n",
    "plt.xticks(np.arange(0, 1400, 120))\n",
    "plt.grid()"
   ]
  },
  {
   "cell_type": "markdown",
   "metadata": {},
   "source": [
    "Час нагріву до температури в перших двох випадках співпадає з результатом комп'ютерного практикуму №1 з точністю до хвилини. Урахування випромінювання в моделі ($\\epsilon \\neq 0$) скорочує час нагрівання - для даних параметрів час становить 15 хв. "
   ]
  },
  {
   "cell_type": "markdown",
   "metadata": {},
   "source": [
    "### Висновки\n",
    "Побудована детермінована числова математична модель із зосередженими параметрами для визначення впливів залежності питомої теплоємності від температури і випромінювання на процес нагріву металевого виробу.\n",
    "\n",
    "Урахування випромінювання в даній моделі скорочує час нагрівання зразку.\n",
    "\n",
    "Урахування лінійної залежності теплоємності не впливає на отримані результати, отже для задовільної апроксимації достатньо середнього значення на даному проміжку температур."
   ]
  },
  {
   "cell_type": "markdown",
   "metadata": {},
   "source": [
    "## НАГРІВАННЯ МЕТАЛЕВОГО ВИРОБУ В ПЕЧІ ДЛЯ НАСТУПНОЇ ТЕРМІЧНОЇ ОБРОБКИ-3\n",
    "\n",
    "**Мета роботи:** освоєння принципів побудови детермінованої числової математичної моделі із розподіленими параметрами та визначення часу нагріву металевого виробу.\n",
    "\n",
    "### Завдання та вихідні дані\n",
    "Розрахувати час нагріву заготівки $t_h$, яка нагрівається в печі та побудувати графік залежності температури від часу в процесі нагрівання в трьох точках, розташованих по перетину системи ($r_1 = 0, r_1 = \\frac{r_0}{2}, r_1 = r_0$). Розрахунки провести використовуючи ітераційні формули чисельної математичної моделі із розгалуженими параметрами."
   ]
  },
  {
   "cell_type": "code",
   "execution_count": 53,
   "metadata": {
    "collapsed": true
   },
   "outputs": [],
   "source": [
    "# geometry, m\n",
    "R, length = 0.05, 0.1\n",
    "\n",
    "# lambda\n",
    "thermal_conductivity = [401, 366]  # W m-1 K-1 300 K and 800 K\n",
    "\n",
    "# інші потрібні параметри співпадають з даними комп. практикуму №1"
   ]
  },
  {
   "cell_type": "markdown",
   "metadata": {},
   "source": [
    "Розрахунок середньої теплоємності через лінійний закон:"
   ]
  },
  {
   "cell_type": "code",
   "execution_count": 54,
   "metadata": {},
   "outputs": [
    {
     "data": {
      "text/plain": [
       "381.18999999999983"
      ]
     },
     "execution_count": 54,
     "metadata": {},
     "output_type": "execute_result"
    }
   ],
   "source": [
    "lambda_line = np.poly1d(np.polyfit([300, 800], thermal_conductivity, 1))\n",
    "lambd = lambda_line(np.mean([T_specimen, T_furnace]))\n",
    "lambd"
   ]
  },
  {
   "cell_type": "markdown",
   "metadata": {},
   "source": [
    "### Порядок виконання\n",
    "\n",
    "Реалізуємо ітераційну функцію за рівнянням *явної різницевої схеми*:\n",
    "$$T_i^{j+1} = \\left(f + \\frac{f}{i}\\right)T_{i+1}^j + \\left(1-2f\\right)T_i^j + \\left(f-\\frac{f}{i}\\right)T_{i-1}^j,$$\n",
    "де:\n",
    "\n",
    "- $j = 0 \\dots M$ - номера кроки у часі\n",
    "- $i = 1 \\dots N-1$ - номера кроків по довжині (радіусу)\n",
    "- $f$ - параметр, який розраховується за формулою:\n",
    "$$f = \\left( \\frac{\\lambda}{c \\rho} \\right) \\frac{\\tau}{h^2}$$\n",
    "\n",
    "Для визначення крайніх точок $i=0$ та $i=N$ використовуємо формули, які випливають з граничних умов задачі:\n",
    "\n",
    "$$ T_0^{j+1} = (1-2f) T_0^j+2f T_1^j $$\n",
    "\n",
    "$$ T_N^{j+1} = 2f T_{N-1}^j + \\left( 1 - 2f \\left( 1 + \\frac{\\alpha h}{\\lambda} \\right) \\right) T_N^j + 2f \\frac{\\alpha h}{\\lambda} T_f $$\n",
    "\n",
    "При цьому враховуємо умову збіжності даної числової схеми:\n",
    "$$ f \\leq \\frac{1}{2}, $$\n",
    "яка залежить від вибору кроків по часу $\\tau$ та по довжині $h$."
   ]
  },
  {
   "cell_type": "code",
   "execution_count": 55,
   "metadata": {
    "collapsed": true
   },
   "outputs": [],
   "source": [
    "def explicit_scheme(T, tau, R=R, T_f=T_furnace, T_last=T_last, alpha=alpha, \n",
    "                    lambd=thermal_conductivity[0], rho=density, c=heat_capacity[0]):\n",
    "    N = len(T)\n",
    "    h = R / N\n",
    "    a = (lambd / (c * rho))\n",
    "    f = a * tau / (h ** 2)\n",
    "    if f > 0.5:\n",
    "        raise Exception(f\"Не виконується умова збіжності: f = {f}\")\n",
    "    \n",
    "    Tnew = np.copy(T)\n",
    "    i = np.arange(0, N)\n",
    "    time = 0\n",
    "    T_data = [np.copy(T)]\n",
    "    while Tnew[0] < T_last:\n",
    "        _k = alpha * h / lambd\n",
    "        Tnew[1:-1] = (f+f/i[1:-1]) * T[2:] + (1 - 2*f) * T[1:-1] + (f - f/i[1:-1]) * T[:-2]\n",
    "        Tnew[-1] = 2*f * T[-2] + (1 - 2*f * (1+_k)) * T[-1] + 2*f * _k * T_f\n",
    "        Tnew[0] = (1 - 2*f) * T[0] + 2*f * T[1]\n",
    "        T = np.copy(Tnew)\n",
    "        T_data.append(np.copy(Tnew))\n",
    "        time += tau\n",
    "    return np.array(T_data), time\n"
   ]
  },
  {
   "cell_type": "markdown",
   "metadata": {},
   "source": [
    "Розраховуємо час нагріву з параметрами моделі $N = 10$ та $\\tau = 0.1$:"
   ]
  },
  {
   "cell_type": "code",
   "execution_count": 56,
   "metadata": {
    "collapsed": true
   },
   "outputs": [],
   "source": [
    "N = 10\n",
    "T_initial = np.full(N, T_specimen)\n",
    "T_data, time_heat = explicit_scheme(T_initial, 0.1, lambd=20)"
   ]
  },
  {
   "cell_type": "code",
   "execution_count": 57,
   "metadata": {},
   "outputs": [
    {
     "data": {
      "text/plain": [
       "22.16833333333143"
      ]
     },
     "execution_count": 57,
     "metadata": {},
     "output_type": "execute_result"
    }
   ],
   "source": [
    "time_heat/60"
   ]
  },
  {
   "cell_type": "markdown",
   "metadata": {},
   "source": [
    "Нагрів до заданої температури відбувся за *20 хв*."
   ]
  },
  {
   "cell_type": "code",
   "execution_count": 58,
   "metadata": {
    "collapsed": true
   },
   "outputs": [],
   "source": [
    "from matplotlib import animation, rc\n",
    "from IPython.display import HTML\n",
    "rc('animation', html='html5')\n",
    "\n",
    "from IPython.display import HTML"
   ]
  },
  {
   "cell_type": "markdown",
   "metadata": {},
   "source": [
    "Зоображаємо процес нагрівання в часі:"
   ]
  },
  {
   "cell_type": "code",
   "execution_count": 59,
   "metadata": {
    "scrolled": true
   },
   "outputs": [
    {
     "data": {
      "text/html": [
       "<video width=\"432\" height=\"288\" controls autoplay loop>\n",
       "  <source type=\"video/mp4\" src=\"data:video/mp4;base64,AAAAHGZ0eXBNNFYgAAACAGlzb21pc28yYXZjMQAAAAhmcmVlAABVEm1kYXQAAAKuBgX//6rcRem9\n",
       "5tlIt5Ys2CDZI+7veDI2NCAtIGNvcmUgMTM4IHIyMzU4IDllOTQxZDEgLSBILjI2NC9NUEVHLTQg\n",
       "QVZDIGNvZGVjIC0gQ29weWxlZnQgMjAwMy0yMDEzIC0gaHR0cDovL3d3dy52aWRlb2xhbi5vcmcv\n",
       "eDI2NC5odG1sIC0gb3B0aW9uczogY2FiYWM9MSByZWY9MyBkZWJsb2NrPTE6MDowIGFuYWx5c2U9\n",
       "MHgzOjB4MTEzIG1lPWhleCBzdWJtZT03IHBzeT0xIHBzeV9yZD0xLjAwOjAuMDAgbWl4ZWRfcmVm\n",
       "PTEgbWVfcmFuZ2U9MTYgY2hyb21hX21lPTEgdHJlbGxpcz0xIDh4OGRjdD0xIGNxbT0wIGRlYWR6\n",
       "b25lPTIxLDExIGZhc3RfcHNraXA9MSBjaHJvbWFfcXBfb2Zmc2V0PS0yIHRocmVhZHM9NiBsb29r\n",
       "YWhlYWRfdGhyZWFkcz0xIHNsaWNlZF90aHJlYWRzPTAgbnI9MCBkZWNpbWF0ZT0xIGludGVybGFj\n",
       "ZWQ9MCBibHVyYXlfY29tcGF0PTAgY29uc3RyYWluZWRfaW50cmE9MCBiZnJhbWVzPTMgYl9weXJh\n",
       "bWlkPTIgYl9hZGFwdD0xIGJfYmlhcz0wIGRpcmVjdD0xIHdlaWdodGI9MSBvcGVuX2dvcD0wIHdl\n",
       "aWdodHA9MiBrZXlpbnQ9MjUwIGtleWludF9taW49MjUgc2NlbmVjdXQ9NDAgaW50cmFfcmVmcmVz\n",
       "aD0wIHJjX2xvb2thaGVhZD00MCByYz1jcmYgbWJ0cmVlPTEgY3JmPTIzLjAgcWNvbXA9MC42MCBx\n",
       "cG1pbj0wIHFwbWF4PTY5IHFwc3RlcD00IGlwX3JhdGlvPTEuNDAgYXE9MToxLjAwAIAAABmEZYiE\n",
       "AC///vau/MsrRwuVLh1Ze7NR8uhJcv2IMH1oAAADAADXFXgY76hDt0h0D4EJHZe17SGSclX4xRTs\n",
       "b9VOi8dhI+SqcePpCmtvkxiBFtIwkCv51+DAHVPp/D6t5GhoKQ9gt+fSaU7xDVtrNhJ05IXY2cnC\n",
       "pmFNsw8+CxnO3Q4F9SbwnnvzPWPx6cbcne2ofAgQbpL8bM/iyJEPs7KrTJVVxL4vkRe0NXeu+Shk\n",
       "CTbdY5o02DP5a2npUiqwm+JbSyhXMW0U1fXvIFFlS76qTdFugACAh8IL104DeEsz6kt5y79gwUu1\n",
       "MBvZa2EL5VelIT4bfzQKCoivqKlMcW9sTP2Fc+cN0ShGllIa6cQ2KAqSLWRPn7Vesru1AH8EGSSQ\n",
       "iJFSPKg3QFr3GlqxB90ndJikMakY/WcNlu7lcBIb9FHJzD3wTMNwP3I8hBqAgUVAEGqW9RbZyQN7\n",
       "W98wiu8W2qYuDwxEzhOjJ71t6SKdUP1CmqrUEeFLPzlBJRwzPjwb19kGO/qJU8aO1m+AwVXhP/Hn\n",
       "2UJJuGf7F1i1x5BFcDbm8TKE1j3ACkbvwvQdmXPbbwJssbYaFXBBFii1BsTyRWm++/81oU+F8MUa\n",
       "9RYeW/WHnRerRh0D+szqAHx2RcsE04CeOI+8DAG37+DBHd46Yznvs1s3RBrfWWXs6DHrTMWE3kSy\n",
       "400IvIZ/Ja8UX79wUdODOXi4LaXWE5/MDa+Sczow95xSu15zsAfkVdMe1PiX8+WhNw3bA0to23HO\n",
       "bYR0t2Kkg/dm+pcgjxAbCjzsbzetSvIHdKlT7nCTS9rOY66Sohau4zDJWkXkMn1sRH/ktlhkxeJl\n",
       "5/MoN8m/TKVYiQ2GG/vCtCNNldZfMriTQ4JDtbpBpK6QsASJ0lD73/0y2MSn4YTUu6PufBpodmm+\n",
       "BCDJUGt/gq2BF5GrOvNj1tMI5Gio5wKMsjVWey4vNBMsZwNkVgQBNhsuANbbyEGfLbQTacgFVgEG\n",
       "dZPPksY0J2rdv4OHBMNtOPByHgahK29osm5RCgOomCIrj4t6t4UwFUa0G3FWj1MFkxl0N/SoeI64\n",
       "H1ASAACU1N8tJaDUUtjlLyLvD3mzhaVWLAYtAMokJnwwAZ6HZuSS8gx8J2rQtgJyJdBwYiiIpR9L\n",
       "momG7LXu0M5g7syMyPg+lOvQ8f+eQnoS0tckioT08nEnvOd/pMBXME+CFqISP5MqKL+lE4bm2fXr\n",
       "3RE4tmM8lZ64MoQ7R9TOdP416Z/f4oxANSq0LsdliqA6pj2NRQh7frXiaE+dYYRkhfwyHzeZLDS1\n",
       "/RMwACvIOW841+uAI7gM7jICL2ZIkHYK8D+niSJjVXfUyLm5S3n7qJ/vWG/iMPl6vmAdE//5EoUs\n",
       "I88t8Mitg67H/VuxGElpzBzr7WBZgI4X288PKy1jqhwXQ28/wEn90P72+4RZa2/jXv379medLBwx\n",
       "c4hkpRDSuJjkB//F9zOzA8sUsUnZeR3mJs+u2tVEXsbourmSYepG2QCUzPsAq/5EM5lMh6NQFQ7Q\n",
       "TYqsWPbTlcG9/HcFwLL5IbLJVoDTAxjGqK2DTSgtifPT9i9rSG3Nv/q0rmRJ0W3nPdU5rvW9JUcu\n",
       "EGz6ZmwhubA8ZOVCdzsMxi94ZSbh16WLk9Ozu7Fh03Hy2MZgGSsroSK76WUbcH00r5dqRkIT/bI6\n",
       "GIt/l1GAt3xwFQDA7Fc+xJCvZhKek32YncbYQBcLIq17NhCfuzv7gwft5sHuS6m/K148kepiCUFK\n",
       "ymcXd9nlV6Z+3Aty+tmzm1gzhJmRwcNlmSz5Q1rrPmlJ70jIJ7Pag3E6ufg1wXZXPwMGIUA6YxGs\n",
       "nZhS3dotZHv82dIUtXDfotXPN2e+ZqecbBuFsgENy5gENX26zpcB+Fc0IshVRbfllz9Zn9Ur2MX9\n",
       "aAVexwoL8zNtsx+KakR0Nr5ErcUC+a/jNVx/a1jyRYIi1Sz+nGyg/YhjpjOMVS7teWxnuFgvNB/b\n",
       "+KnqDwxbYJd3duKQvzlTFFhVd97QUz8AmgKvjd/0F92rvBOTT4g3keEUUEkd8IhVpOwCiWEjWBt/\n",
       "tlRCddN/6+mUgdSY6XivhgVBl1g35yaZQ97wJlHi2JndKVaeWMcpwJYoLTnmimPVOXvW0To+ZK6f\n",
       "1YLirk/3020Gxh0iHeFTO4X5XFuyH5cXwr+dVwDlOJiDkNosxKU3+saxnEv/le5MgKnRd8qsFvQN\n",
       "z+mA+PNKRHS6OD1viEz/qZj3GUegO6LAA2eJY+Iz5X3z3RRr9KBoHR+A6vpAU9+bjGn8ku00eFYq\n",
       "AVDxIS2aW8i20HeIjqZWu+1PXhxs5pDMRG1vCSClD5qU4fKvoZEjCn/GbzvCnhfTFU+a+k6UqHus\n",
       "UJvrFi8DFnN38X3ZAQxPPAi9L5Hr4xGjLSRDAcmGRYMf4egDCwzwj8h+qRrj/nrwtnwjWuv40OlW\n",
       "XAXXOb8+wzgcaTXB2rdKAl6w4uj14Oqu9Z+LCZTl1u3c+i0L1+4MZIed5zUw6NUOPRzFICW6hzFk\n",
       "faYHKgC4l5zzDs2lup3wX774XPpA1cWaMwJqFIsO3YwaZ4+YLFj+2TNIFApetHj63B3al324OhUa\n",
       "0rtN7vhMelA4Y4bV6zgWhCX88uJj6WnIeeaJwewdyju/Nbsa0YZ+0W8I/ePjN5Eu6blKf/rB7KfJ\n",
       "J614RZ8kEacAi5gBVBeCsd9qy/rHQTSfUG86WTT0zypanON1Xb2I1c9BLY/OmCm/YYuG/3Tay4K2\n",
       "ArJdyrjkZ32tYxj7CP+FBU1CsmRMc4OuWuj3SJ/v47khJkl4vDw32AUfxTJudbl3qecjEA4GPRl0\n",
       "nBU5Mw1n1olP2H7zdbQq5rOpo2IjI60U/JODDC1obF3Ccm7OG/hkztv7XzLliJibGDNfVjng/X/B\n",
       "Hg4uAdFHXSz8sfocWuzylmbJ1KjY7sz1UzYKYW8ClA89KuViCZrc1F2W1sY0Ig4dzVbpeE4iosQk\n",
       "53Ag+0/AaQzHlHEb9V/QP7M6QmwL7ylvXFL1okdZoXHaprC1y4X6/JyvRCZuCt5TBhaCTc+Tsmjr\n",
       "f/o3B4eXZSaQrHSxUcCENJoELRqrkKaQkluxzF9nrshbZk0vtHKimMVmc0P0N3izF6tQPhaJumBZ\n",
       "Ed7CAqUYXFmILr7p5YSr8X40BV+lAreTnpaiIgobWg6bUegQmg3ZarRuK205U6dIeN7ipdITltVl\n",
       "RvMLvdSNYgYNOn7l1fXSGwf9t4K1G9IfgU9cqwpom7yx+F/vCgLaLp1DRe1lRklFjISukM7n8Tlt\n",
       "KapakP2DPijfbph07RaD9FMOIIy/DNzecgjW5tXzhS8rVVc+1GPzwJjtFa3hlcd5zVRAOTgJeO3x\n",
       "Q7MEnmi+CJmjFmE8D5udsAge/C5N6jhUl0g/Y9zqeDiL1gCTrRb5O47HPsCuckyiCnisrd+a8252\n",
       "xuwLTCn4fBbVYGay7kpv0d63CgZml1Sv8VIDihNBtgMdNFfC+4iQAoZxCdqiRn87WVREO4iwtpvC\n",
       "SxoWwgOyQX1k8FaW+wz9otfRc3vP25WbBgV1xBv10Zfe0Ij5S8+Ie89VDNSqXW4pdYvJfeY8hRtc\n",
       "eExQsAbGREJniIXNMzVjKWXvpb8oNeezBjnSfLvkuiwM16w27f4bWctS7Zb14AAXcmruVA8qrqVP\n",
       "Ae3AjeyYEW2o9EFaoVGTwnN106WTwQGPgA6RlQrm8Oo01PGdNK/yQF6X6cgA6/pIP+hMsmZYe/Wg\n",
       "HGN2vqpjh3T0t4VmsQBWaFoOLOLhG+KNt0bIfzLI1n5vtqIyu1V2ljYLUDmk1YNf0M03Q92/Lv4c\n",
       "RTjEy7FlvksoyhGhu0ma94YYlMifqzuK7Ib6k1tcnjD/63dTNy11c6upYiJj33LS88pYFTfo+ntS\n",
       "05xIf8dHVwfw0wVPSqh6KLzIRFTHj9wLx6nXScy6esQFP/dN+e3YfdA3X4fjowXzttX0UXwd3slj\n",
       "QEeJkpvwUgcK8U6fBgtCKCaZt2Ug6Ziguthp1k6gFW4YeTuN3GPgngURJivf5d0edkj1kTWgJT95\n",
       "ZqW70+1wTCpgxw2ZfkSAMZjZr4vYlLJbRKraFxM9Qn4pRb2aokKDIHz+bmWubhKv3qbgFLiy1QF8\n",
       "UicZ56g2Jj1T5Do2Nkz4VwunM7h+ckP5BxzhdGMJFEoSohxOHtZZhgx2Fa2TSmaBPGq1EPgWMs1D\n",
       "WazIiIoUXWBM+3NJQMTpuMupHEo7DWcV/5EpucKlSH1YixNIUQi/V8JpeKyrBKVJ9go06T9QJTju\n",
       "ooufwXIGsTnPJuNkIfznd9A1Wq10UvbvMT+Fm/6fSzNItFEZ/0oBBFG/iBswo+ygF8RiCuf0u4LX\n",
       "FIayRq8LKZTbKdStsWUAXNpVR0v69F9qBIL2nQQDodk8Ny04c3jAlndn7dNw//nvyNbJPhGiA06H\n",
       "mub3Fm22wqFckkRbsr5hw/uWdsNz3j51Q+JGjm+MVqjpwpifsIjt/E+BbtdSETv//oMw5MA0j0QZ\n",
       "t/136n9cP+hG77/SQAtJwrX963zUtKMpY9ZY6SiWTWXUN+Aup9z4sQLR+ka1OzK6OtQjAw1Kifuo\n",
       "9nhZK458Osc4WX5omoYhg8bn8yKmCaQYyx4eIZ6gGwWrrY2waUCas4+M4V/MmJ2NgfZyGvyA3U8N\n",
       "UxVCbUnTBRI7H4HxRo+ogBfiwWqYjox3cdLQSfbw3R0zf0rdxaLE/1WGz+5RU2NktVa5bKCG97uL\n",
       "vbkzro6DMIbrjpsRFpTYjD10/vioCYAy1FZRQNyTM4LV5sjLdsckPmVf0Ol6rZEk7fN7/u6igaxU\n",
       "XG+R4IssBNSnVT8i8Z1jwPcsDsQpOD5PIZdE1kzRXpoUbDCTH5ryGot3Q2/iLuID98JB7cK6Mdc9\n",
       "SGiwT+whdmW5cIYYLNMPqb0JlKZh3Oa+ZXKbERf0GIVCX52EFQQGsnnu0GCtRpGDWXFnW92zrJDC\n",
       "CrXR+J95b2213sF+n/dxnmfry68rr4G/ItNFbbyX24KntKY+zb/v1pRaoU+pSkDsMJfypAMV4rmO\n",
       "aipC2MwU3+KPuH4tHDASrd0nQAmp55kDd3jtNg7SSgYEEn+GLzYmeop3ZkzOddtz57er0OQTWuD5\n",
       "W8YP9Ig7Oe3sChTWqXsnvn/8MbpA9kQZ7jzxFFlRdVyz8Haap1ERfAKEm5FpU0N4P/BQPycpdzb5\n",
       "liPisozc/r1o8avJ01AfhvB2Vnka7QBfiGfdViHHEZrwjLapViKX9rtuRX+PpIF/CD7Giki72AAG\n",
       "Agb57CRV6n/7KsW8FD+hG91yC2/z2QWwonadx71LK9x5rm0nZ1Zncan+9ZO74ti6nGckqtbD3A5Z\n",
       "1piwhgkwVautMLDrUj1i+CJX/og3vc9bBsLT14pEEZBpleDUPXgcCcAnO/oGbVux6ONxjYBbTRe4\n",
       "rMWnPmG3KKeiNILI85dMjwELfnpfqVD3VMNnucs83pPtz4LiCsBT7x5N3alkBLBn+jMXYJSgBbKz\n",
       "X6mzQ9PiVznLgLdYsF2Q7TdFbG4KcM7eGDDd/lp6oh9k5auiBXbQ6LS6a7vgR+1TrXVFs8mX55vt\n",
       "+MkGFKHqdMwQn6b+Tg0E1UR810aecMHxg4pasqg59zrU8uQ9TUUOVUBoJf1TFiQT8rXGtk915S4s\n",
       "g8ayY/WVkGXcCoTnuUe5IsqOBX4/YjkoXDJZQtbeIBq+Eptp4/ZGJtWqU4J0y3remDQ9pMMQyk+M\n",
       "q5wVXAzPdAbN4pz/uvDspWJJHrt47SHBeZ0WWHMjI+EdN7aW7G/3Ke0DyecFiqoXnsMhp+Dt0EHx\n",
       "fClgofZO3CEIZ/mgwwKdC3va9uIXD5ofoBcHHgi6LrvGq8Eur5puoc4ddqaNuTVwfy24/2sOMVeC\n",
       "BYXppV78lMHw4pEF87Mj7iCmmhCjzl9PzzeklUFevuhBt4n9yJgnvirTSLeuz88qBovgOT9QVfn+\n",
       "nfMOWb6F2GYw4aiBTTQoh21VEQS+oDdnNlr0cN0+wwWBQ8Y+SoiUVYjEsYXPNvOMTfttNtmnh7s6\n",
       "4+L//PJ+yI6RJFSMtPIoF682b7JZm4LCYC9dzjrBshKupQkhSMX4ORtTXAk1Ld9TrsQDuLAgLk8/\n",
       "C3Tg12FmzRSKmRyq0iDsMay/CWvkVKvrdq60pwpDHDutmiM014dzKMEwxLhjwkGGuC6eF6sMnF2y\n",
       "9/GWf28/YBm/iBqfg3nC+vz4i84gAEQYUMEvgIJMzlvKSRjyP5gw1hFasgnokxOl2sKYc/tIitMg\n",
       "J9sVfsmKKNvZTmrJa1o/ePM5y1wZcnhknFVyWOi9ytcBIgFf1PpIgxKRF8MX4LIZkvjcFsSypR1x\n",
       "bE2LWlE/m+dFpZHyvUsYOXDYADjz+86+Ss7AvlmOC63c7kq/Pv4Bg3cGLrLS1a7tGRcdn9eoKYMK\n",
       "j1SiqseFJZcxAN4BeKgOyB1KQ7I0adlF/0yyE61IoUd3dNI+wl20SOon/pz/YUQeZC3Mw0Lo5HFO\n",
       "FYa6WN9Q/S8rQlRCT/8YVuQtmXN/JgabdxK+u2FiLmoio/0oJyS7s2/RHi316KwdXH9x4GWQwaI/\n",
       "qLhGeex8gdvj3d/qqGkJrZn1vV2JaZbGV5yJCe1FhkI1DvDAKW/Sz564nv9nRmzZnyO5K71Dizqj\n",
       "+iB0VBGlJrc3jEpxe60inHGzh/+4K4VWBooKAzNcIlvdvV/+t1hAUT7wCtdH8K12aOlPKuZr/2WX\n",
       "0GxvHWgj4Cpxhd/P1id0rfNNJ3Q57ynPa9tpNsV06zUyNX8e/omDx+pmR1FamnzM5UR2tHerwapU\n",
       "5qMzL3clRbDbRcEG5D4C1E6/YTFtNwQfuggy0NMIbOp4lj/8zs7Y50Zvx2SAe4WESWh27UvQSm8A\n",
       "xkU+S2lcmr7P74E7Q00qpgZuFe+MuKxQ5HYnShrXXM2wMCzPG28vR6TB++sdEBT/oomAG3+b60+i\n",
       "z5eetAFRdcjrsfEgzKzbePvUkH0MchOxsaL6eDeQazKRU4rYI78PHvZrC6SO6nmGqRsKZvYopn2B\n",
       "XK6xZcsY849IfkAs69xkhMgvLtuyYOHBc9bYUTpzHpaINJYKzIeqqzy/r6/huPr/9ZdSy4UboHz1\n",
       "B01dQtX7jMjY58xTEBh6GmtW2L42w1kfwKISB6fJYN0ykD/1S742FbcGgf6aOnJAdh4y/G7cOoUF\n",
       "r7CaqVSJvEIvBxl/84nd5cmNQ4xDRL7EBntDkICcoYx//Kz9eOZRd8xoOs5VoJm1ft4vk+jcf5Zl\n",
       "CetekzJZTKtp/LGt1Z4ee9HNP3ITcndrLWByqQvE3BV5s15FUIa+WWb6oH67XM82GGKqnLdxfIUT\n",
       "PhM1KgzKfJ84Hlgb3ylMK6jB1QPIfP1CVQn0N27Eu3UdYRxbwM+Nk1m+H5FhzrlGLvRaRFCpd9tJ\n",
       "OBfuIFtvGIL2BTm7mcR1aSEW7CWtqtSLs80SucIYAcnL8q6NfHxHB2El59zXbmYg75jAttj0sLK7\n",
       "CczW2MK5D2rhOWUIFyVFi1OL+zw6ZUbffjPgkRp97n/yNZxaNsn5kSIg8PXcpkwT/WIGw4UoDdp7\n",
       "gpa+BoxX64YbxWjakPiP2i1Q84UcJeZIX5wCH66YNA5lSWgwLNRQkEbUwx8W0qYSV95SUyGKvBd0\n",
       "1iCcCdvZB8yZWhHmFYZ1FfUHaUrsgsXcl/m6NlT8wtI66jlCOUd98cwduxZ+O0itEnTWR4/gRmQA\n",
       "Zl7jXc8cqDzidVqFLuxg5gI98BHEBJqFYWUwgjJIlwWUYJYER/ynTnOTL703Zxhb5j0V9AhxQOH+\n",
       "me2VT5FH8cin2vb82ogHzpFvM3ihIuFIKtgdVo2ehwSEek1HbA8vDAn0ihCfnzAMQGG+l5qc9r2z\n",
       "z6PFfjIv/eVUApT8QCI6AHPjkbM1e04RZSoIRogtY6qhuM4A0nSXTIXhXHAfEyrf649DDJ+JBxVM\n",
       "unhhe/0bOr5kvfuaCGppG2HO/TV8IVTNztjSGsJQB5vxlQZtCwX014DhSUthXcv5KEbLE/SWCsEg\n",
       "XHS930gCJj2JYPGeGWJ3rqk5mD1V1eudUQT3uv8E80jngjyUHVw2h16vba189WbLH4XHRi1uZQzJ\n",
       "t9f5J7ji2ZVSrzdpjf+cIAQh06r29kMd6std2aiPYT120LgkpkqeqYFTMc1J/oXe2TUd1WOqjS0W\n",
       "0y8NxaIqSnkZj2c32QDVXxh6wbqvWn3O06Tg0glowqOM2TgHtRTdc+VWF12fZybVJ2EKBXTUcTdS\n",
       "6I1Ip5TukIbZp3odhpjWu/nD5r6+5MbFHovLRNeQ7mU3i4C5vF8H/WEmEfvtgEU1lgQwNknOA2pJ\n",
       "e+bqTGaKgtbnqGmrUzDSd0PdalwfBIH6E6r4Hhoyl8tV3WBXI+k+A7gd9qGE5xvLE/vQgSsoDXI9\n",
       "QyB3xTs9kPD2BEeY/KH5LCVy1o+Lo+8vXPoqyuZ7+UOler4V58MVrZdMCDah8SNNRPVZjsHnjXvC\n",
       "8RSnWNE37gdyICB+4MAMhzH+aIl6JuW5J04OhDKWwa6uJUhTQnSHxwx9XU8HBNcjB9aYi/8eXBR4\n",
       "fNNnc26t3xJ4AkOtzvLvd+NMm/CAUmv634pp5VfVTlskrX8UasNUKsD3ianZtXLel8XqDfDdMR12\n",
       "WVZZdHiPuWtJIXbBmhf6GhaPXcOtd687ouy/GPNllfEwUUsnSARxOF3ZAS5ySYK1J0bBP2oj3zkB\n",
       "QGP2KCTJE2am/wgrhR5U6cDqAECRecV880GjMXSh6QAAA9VBmiFsQv/+jLBbcTk5z4JQrnADo6Gq\n",
       "EFsNoSFHXfrWFNob33S4Efp0oLJgXevyHzqhUZtKGCDnmeFgtstLycHQInjAVHhLQebk/nsj+D10\n",
       "XAqKAirjGuWxpP1M409Cnae/k+r25Iwqc/9a+upp1bQNBxRzuo/HlgxVliwHDosVN8jMh8IZdAvH\n",
       "wMCxOX7Tp191jdGcjDp8cKIcJEW25GkwAtbfQTwIl7M4558gd3tDXDKLHizseUjyyjOhPlIgE5I7\n",
       "Fw1UVD+K2/r8/8Mg+HHQPdW4/5N6fyNOne+P18BbSr4+hjVRU5EzmyC/9Ho0CmfKv/gr5CCRZrmx\n",
       "xaTkcJ3aTdT/iHv1ieOO9I+5hb5x7VlDi1202n75TBqCuJgTyoqwEnVVMTmfMIUuCiCv3IhIowoU\n",
       "hsdoPzmzoQXN8/SjcqlgBo3FxXACsaMNuWSqmjWTK4oPfXHGl2Nlw4WbtNc9+6z2kC4l37/p4GKy\n",
       "N6KfSkPFjlSewtMlFU5PQL3mzPWlcyysXWNs0dzpp679m45QbweFtORnqgICLho0340cViqnpnzN\n",
       "YVCQ0e+sIWYlOuoUEVGz3wGNzdVfgBvvJ20K5bbFCsI5RI6tvCKoG6yAL4B6oae+ZQ6lalu6uGSz\n",
       "XjC6sZrdo3rI9AjZKSjsAnxmdrMUaKQNAMFDXEfCtBJMsDlS/oK3/GILkWdARPyQHo6lEhRPH+gc\n",
       "jL2JqsofeZRyd8/IlvxR8Oy0r6FSEEGPOUwkajsByD/vN9yOB+zvtdcUvcZu1rc8cAtq9AobR/DD\n",
       "NLoZyUEQZj+rnRbRcWPkYgg3ia/UwdYDuun7RhWqI4SBpDbeJP4G62FudoryM5uh0GKdETsrAyoI\n",
       "V6PvyHoghFimaBMh4GKGKbVWakjb8lNlaCzsM0W7xdsl2GeHYzLnkfnZ/D9i93e8RRyRzE//zQi5\n",
       "dHSYC6s9z2mBFtZ36F+vaiRWMLe3tG0pw1sffDHE1KpmBSxNtO7iQ7DrfoCiXWSSO/AKYHv7/mZ7\n",
       "bUNAxI/wCtY3MX+7+QZi4Id0Rkl9Gd6b0Oee11TbvJlPCEe2/ChBObyQVWY1LOP0JbpoAkthJxsV\n",
       "YsxFqqO51yp2loZDHawePdoBjvBt9T1y5613Kx35hPAcosMwK4lgPuEiCsA8gJfzNh+zt/7IRfkH\n",
       "h+m++FlXkBrpSUQhqCo2+s/PJGBZ1nAl0YrIgx4FAzdajJEMvVtcsI3jpgEBRPHL/mU0/d3Lm2Tq\n",
       "zScWutlraw2v4fkvbw2kB175Do77sMZ8aC/+kchn/n212Ww1LRHoZUe+6shEVHQAAALIQZpCPCGT\n",
       "KYQz//6eEAu3RqYNmjjRAM4xBa4SfRY+BeYD+Nk4cC4lBpjNmSxwPVIXGTh0SzvwS4zf0KmJbyWj\n",
       "A0o3u/t0MGUi4dYcvcEbV2ovvH/uig1/D9vq8ULZddSH/Bl8lkcI/Y5qhd83inbdLw6693Jpa1kF\n",
       "AP2HxVsTV+CyHhGWa2182k4SnDOfOoBDzRkAgw4sMReSgu8vkdTg9A+jZItlaXmvpJPjNksX30+H\n",
       "/WDgwrOrMed0Xwo9FfmsbBNlEQyjhixOs3Q9CVckKpPLFS0qU1JPsjxvimPaT+ELJtmwSgnBAVCq\n",
       "mt/9FTmyHz1iuwWjpWEzmEdH8/1YW+Ka+c/yLR06NQZrh0tYCO2xK+mDmPZwOf6W4GyPCijdn2e+\n",
       "do0ASF7xLE5+T1RGpm1DSLyAjaHYgxKS4NJ7fcBJka7JvHQ3gpqwdqtoXcdfw8KzYuFjYZCdem/T\n",
       "4whQQQyIrTI22xwOmTRQd8Hh1V7nIGNkhy+v/i4miUUAUnBrXRf0AENgVHrGAv9sOsRtmP3s3xNk\n",
       "ViQkMrEALmc4vkVk2oyXxdk+E6IKv7xTBXD+JNQ+szxBjwizTZzstTd18h7nRjSQSV7LX9yqWvVf\n",
       "pQ9Ex368HV3A4e/i8qeTimMshKRHfnxNM/eJLrmi+1Z1/XMJ9ic1LeSawH3FpZW7nvxrK/PsWkuV\n",
       "uURIoCJeXUk+2iBEAUORl0j2SXn9hLMXm/AqOa0JCEhbBgR8Axw51Uv5bj25ZSA3s+Sk7d4O9nsB\n",
       "umyJhOr1BjHFU9NBQ12hxtitkFzKapiSh0gaf/DA1n9wCLn3+D8bWevHJpMCBjvC4PaQ0DQdcFOn\n",
       "xm7FioD9ipHBlyS7aoURYAwwGyhJqH5ke2TDCoGIvRmLTAX+NgIJPNh8ld05MUvjA1Aus2/txq6x\n",
       "m3ZxhUcCBP/sDEuDuV5v2sUa9Fj+FQAAAn1BmmZJ4Q8mUwIZ//6eEAu3Rq+PvVdQKoEBhXaWttk2\n",
       "+6SlYshhkN8owv/qpyXpPN1TwAi7P2gjHz1sN/wUNqNepC0uOj3yrtwyuqott0MGQFPRtcxgcz9f\n",
       "tQHiwLFvnCL1Faa00XFR7lz9yskuH6PD96XM9PZtf8bXziACRuWKMdKS/GOxJtTJSAcRCDduDdOK\n",
       "viob7Cw6Ck6HYp1EUyvniGtNIVOuuIJV/lRszSwf841DLbJMeDU0nNCWZcVUzRfXYmG9hrdr1Pzx\n",
       "1VxDnFOkK1krwjXXrlGytQd5/hiIGSYrlGjYme+HRLzxlx+G6ITFwthcY5PzjT+/eQbySMugJkrd\n",
       "xWv5LbEjUNAvFDX8c8T/bpxGRLUtXG+djWJiscmzPHE7CHo/0rCzT8EXr1OVI59cjqDkqPdHRTPz\n",
       "286yWoWHO0Tq2ydfcoM6WIUnxN6QwGV7MqMNxx2kg3j4A6rvWdJfS8ZPcUCcJZqd2pBzDVX/78dH\n",
       "osR6J2HbyVw9S4Z4G8Xd4+SP9gNS9iT6IK1DjXyOB5qYC4yG4IMerK1C2moiLtbzpK6NdOoy1lC5\n",
       "YftZwnPYItgXYBmF8qotaV82xUCaUEYNPkBT4vj6nPyM00HSCakksdfDMwYGGxEWOnROmtNtYvFl\n",
       "4AztiAFVdbKnh1h6JkL9PCG13n2CK1dZrDDc4Stlk0gHkybJGpUxQuFg+402ZOeY5zhBleQzVryF\n",
       "tzHsR8e3mkFfARkDSx3wSmyk8B+JIq4w2oQac5A9SBZb8JL/cD5z551b8jAjQ5iUFRM2D7MdF1ax\n",
       "MpC2eD+uupUnXH7O9vS1VTmaQLvoQVoHnfQiBprP0Xi3hkfoAAAB3EGehEURPCf/A4guEML6Hy06\n",
       "8W54QXwDzBjcsOTQB+joRf5PAAADAAle+Aal4N4ZTQNfnnhdrETnx1Bic5o4C8jgFWMgAH9iBJnz\n",
       "RLys6+DrdZh3U1StsUwYsW8SfyyU1Eaq8lWWDC22FFbJ+8/fSM69aC/EiGXq04vEu6ihOhEknC4/\n",
       "6OtFm+x2I+99BhnNdZfy8EJT+bgFZNBuOcmLlwG2kCeVw3F6M0PbnvepWDNN6qkajg+TOjVnNXN7\n",
       "qiAKCpR0jsLcrv7LqSJdpz+W68+Shk9J0Q/BceKKJ4uqv/MUXjuRsyCjCRtX++t6QchPls4H1Zhc\n",
       "c8H1UxeHKqbPHU7YxLoXwVrm/XK92vh6coqFbt1mRiJRUHmk2Oxjwt/nzxV6BrVzQc/ydYkWAIdk\n",
       "ZB4OTE8xeCLiYnWuu5Dc5F9KNA+fIV3PwEjnpN3rK8a7XWzt/p+O/WTRelAj6uWUplF9Iv4crWsh\n",
       "rds8woPCU6NojWkOEFEqY64C3VhK/161jq+K94Y9UBPoozcR+ssfRg5ucCE5SOb0+MroY0BVBzIp\n",
       "qSowoyVmH9ps4MuqWXQtsp7jcdstS45tSqYs3li+ABbzqnN8osIPaMq1/iGwAPE4DEQ4tjSD/DTn\n",
       "pRiBAAABygGeo3RCPwFQJgEg5NDwA3kttx6vopx6f6oMD2AOAFs7kmOc3KO/DNg5njnctkCxgx3B\n",
       "3zMtKPouJthcqQl2K3qNuU4qYE6Shi/Ph188S9OFvepc+8J7z0WxFGG2HYliAAAaQRJjeFAo3pUq\n",
       "22vPJ7MjPUkdkWpXX75kcVvZw3gzbU+pMlmdeM039FlKk5LVb/M77g3giMpNFI1/YRfa2eQIlalr\n",
       "R+ZXIoWfIcf4x++JLjtE9u/1ry8iXD4lM6danTw+V4AKak9U2OC+j47HG+gEYucdYTJBS7e9UH67\n",
       "8+IuD/x4YAoGFwYrMRWIAwBfJQYwa6oVl+3xyJqtsNLSFek+y4ZJqmqGcC00/4b+67CjF2jM91G5\n",
       "93LdXpzi/UnsfyO95mRhnwKOek9GafEErQKvuyxniONsaGItRtdG7Q6YFJNdoLCbdy2Hbn/CRhnv\n",
       "hlbItg3Gfss/VwctT9Qt2ULYnNLVC9vjO6QIg/flHpV372gk1rENvkhJ9EsnPihgK2tun9T+5JyZ\n",
       "0i1IShOIy8b2ChmFGmMIYVaVU4rMwnrEGKXhp11Yg2q6gG0PI2IOvejHBSsEorakXV0bToC2HiZG\n",
       "XZUXeyQLnq9bAAABywGepWpCPwAC14h4EzGjYmi3hhWpfwPaDoASw+LNhS7MwA8NsN840+7oojGH\n",
       "ZmSfwLgNSlfnJOryFgxgUMjLcWOGxF+nAzKjT0OVtIxdtIeRWjbbmHFmIM54+LzSuTTlyMIpR1za\n",
       "AniOQoh1aTgKVYEU11IgG8CPu5xGXJ7mhYHYLt7eRGRwbomehAjTgCjo60pwhm/nU4v+c0lLHupS\n",
       "Xq0d8aIvZ1UJp446Nj8MXdvWUbR0svttDwo2qtVS3wLbKCHPzpuEA9KK859PEQAK60kV7W71V+mL\n",
       "uuQ2o1/qteCzufudXU5kWK+2ezBoDkvFkZRKACQNWnmlLXQS5MySllCXGvfwy7Eu1Nsg55Z8ojN0\n",
       "O1bnClPQO9E067Zz/LU+WicLCCu5q86CMQEO52RR0T2A4+PTVGJNfmnFgoLvuwb1KRt+LEyyy6mJ\n",
       "4ATRbHH7TsVTxWN5T3rs77OAZ6clNn+sJX8uEZIEyUg6ccawAVrM8Hy0gxqaC1cQTZ49vSxCANTJ\n",
       "iqbXah2eVMzRUlha8r8pVMMkrrkQ6geSwfqtW8np18rpWZx3W6C3Arz9+Ktp5XHJVcEkq0igpWZh\n",
       "6oJkUdrSkp+aRIqNOfxEwQAAAeNBmqpJqEFomUwIX//+jLAQDn9Xdvu+9RxP+Bgw32cp+cFE1KQd\n",
       "ige3jPAHG5cwM7lAeD8yYY0KkyvS8mdPSk3zvynmQrHtVhxfXXZEujDERdy0UUDCJiuiMxHibZrv\n",
       "zyRpChzMOYwmYuWEG+jYzBxJHdtZCid50kBRmgrzZhAjg9gMvd70EG6Yg6eNRvGxcoWSrRVWYhv1\n",
       "VrPBmppE/Lwe/t588jR7XLQ3SVRcD4EA0T8dnsWzBWz0pTEM7m16x2Lzag4nNlGevaQh5bbfZG1V\n",
       "fwautjXV4DW0+qRPeaDM7ssThu2opn+RsxOv5k6qJtbofXzBPQpyJA4vN4RnhAdKInCCJwaFxlXV\n",
       "iwGyyMV+cg3r85EZoB5NiqwksIkSEIe0qiPMn5wHmbJo8PNdN3am8st9hehYg7HXsSC+9KEIqjEi\n",
       "0pXxOII0OTPEW3wQSX6Avsm562r/wGMR5aQc722Sui5EYpom75U1/qAHsMO1SkM0/Yx0KaFHjs55\n",
       "IjayzgCNPpiTNMK711I89IBR2G611sYR7oFewwEHnEwjLN0yHRShPSH+MzNtTA4f66QCoqkxPd/a\n",
       "tdvM1Is7LJGyJhLd+XnYMRUF2EmzwGb0z7DwoKKEaoPWjxdpseGk9H9kndZV0jcAAAHzQZ7IRREs\n",
       "J/8DiPZrjXc+r8jWpihatTSPfezZ5fP72Fw4bUnJa8ccRpeKYlWe+HzsG7hVAmAJ/Gd8KYr9uSPV\n",
       "kOGRL8LN3tNXbBJ5WNMSALSpQ3zkiVIqcTvfrRllAQtRGz0CJT1ew5gYsiAp3QlxGj2XR8KO4IXz\n",
       "4yZPAbpEHWmwUtaLSN6cdeaUm++juJtROgu/BJXntfPhBzT4oqCji6jrs9O/J/T0dTWP3dltP7hK\n",
       "KaU6eZDnBZVhwu46igrcYMKedAtbhLUxcDiR/B7WX7KdKOsOmucBjzzeXK+bGEqUPsmstlB5gA0e\n",
       "VgjO1mZoYfJOh5Nez1/df1k///JnyxRrTKpcKAZs58rBxshfekwS6OyJg5WhLge2+CI+phiaai7n\n",
       "Myn2F8K5FTD7pQMdG39d6CFRf+531lnl4cjRnN4ns3iq09WztvJ6XQiEePFHl7vHRkLiHZQkX8E4\n",
       "6ZfArY9SX2nODxeF2ifkNUB3ofQIltNtr7eIZHrOr5bySXxWXWo9XXRY30MTLhy21kCIj1icxHvi\n",
       "pm/PqjIUHJ4ZnB0aVszWqEpJdBvmYHOeLtU15FKMIwrCTJYUPP+09p9r2jFTPVdwpILP88PcKDT3\n",
       "G6y/GUfNqwx6yX5V29X8qFI2j31HBlpuZWb9J1+zwrGiOPp9LgAAAUYBnud0Qj8AB5c0K88qVTZe\n",
       "yBxn9zAAYL7TjvAHI4jow2pxlEAbVj0dmxQd8eJFxQqI2x1ixq/++CGiD6Fbf7kT2W0s7AVBp0J4\n",
       "ms9J4oO2r35olLge2OFKSbLE06cBVFT1kRVtve+qhoFDrXZXojGdMna5im/9HWGj6zW9Ehum+x1B\n",
       "/rOsQDBKU7WqDdcZCXXf4DfDk2ieOBJms3p8UV2WTWKJkl+reBeVjx1aHogyV4O3q6DHD6nk2Xtg\n",
       "edX97o5/GBbElasT6V7RoS71boemqvJcuowcl+5hUBTdQNEW5Wp98ko4QxyK6kK4BYMLnzY/07DX\n",
       "ULN+fcwjHY3WaMA/SSMbdJKzx3UF7UvIAhE4JFDj0XkDTlYDM0nOMtn+MYCarw1FlGFgronh4BF2\n",
       "WObvxGIqhn+a76sKemhrntXoZJ5sYFIIWAAAAU0BnulqQj8AC/TB4ExoI9QgAcULWcxab/k2PztI\n",
       "14qAC72rsj/bua1xmg/Ne/oOiiMYdmWOkDySdb2oJIiKnmkFz2CiqKXDJuuErPhprr9gdldPGgXW\n",
       "WxHztHF46Nl/jZ2uttWdZ9xXKdWv7B1B/hEOQZuSeya1jtlT7giGlspztTSOaQr5uJVDCbQwFiOm\n",
       "i9V/GdLg3lc5o0E8sfibvwTzbJtqf0SYz6MNw5siomXlBBce3J/PAWrt+Q5zGxSzsqPARMMpSKoX\n",
       "juQNbTLG4jwcQ8CBVA2kGbNZB73g05VaAaYXCogs0bOvD4Im+QVVApVBAkURfFYk5tSXvjaEe36/\n",
       "pKVr8rOqy2eM+b4cR0fXxAeoK/wORBt8KsQhm6XHkw0iLFU2agcOYcsk1JXTHQoq23sx1QwVYVkq\n",
       "ME2MGQkrbcvvQMZsrdtpp1ZoFcEAAAGyQZrrSahBbJlMCF///oywOPcz1O1D8o3OuNYFgxS0LkLw\n",
       "qgaMKoBlyVhAq+WYrZctWqQhWvwSGvQAB3fpUbcKKjgD9C8ZcUVue79fkHNJjRBeH4wJZipbUsZg\n",
       "0wM5QrGOkc0bZJgi/I4TrnHuurTFmHAsOWoa5e55JD4VD+9n0gGreSsdQV97usG/fG1tVNmd9ml6\n",
       "AKO9DOVHTW5b4zwt6FwUK5eQUU9E6/kSrghD12n/1qA+Aw7xBNFRqxqTi2U/ZtJJN3VIlSnKJR5l\n",
       "ugTH/4gxLgV4m6oKeOPNqpkjrCj+hESEeJbnr89KwrO6QTPdclct7DKLRIz6GLzUFWeZsav5IcII\n",
       "8jved2P3RrZbhSG7rOYVJY78uPpVkkVvVr0fjDU2EB4VlljYiqZv33qVLRq1o//cVyRVkUDei4BF\n",
       "or4HSdf4DuT861Pxq7qdPJjGcMbTJbu68ksozhhYo+xNFJHX4Yju+RckQRtTRaHFvL8Hsb6yz3Xf\n",
       "Y81w4ERHAFnqRKEg9Ydol+O6fZ7yYH20fl3Cw1BeNRalaOoYvOJVz4S/OkXGFPhZpur47JlIUVXp\n",
       "nUAAAAH3QZsMSeEKUmUwIX/+jLAE4kFOugkYRNk7dSdqKLWyX6JGKua4EEyxy+g1gW9V6b56CdWC\n",
       "mIjDLsl8MmoZWQEdPHkLbTGYfxaGTiNUnZhV/RSAvd58inqjueHyiPpukeGPJozyfrA/7yEQGFNk\n",
       "K4/DIN9QNQg/4/nTZHIo4TYwSVEd0U+5myYneMAj6SYPHBWjAu3f9roPazW75FdjQkt7Whnl/PxD\n",
       "RUqpMT6PAgL1E7EN2qE2xnP/kb0HoHg+d3fBcJTD8pdeV+fPoGhUILBcWhBwm0obwXPEkIxSHwNG\n",
       "j4tcKHyz1hBdqMJm6k4xJ9gMcORQdN/4gzChlQ+OtfCAiYabXAeWcPidH+NEB0a+pLxRVP2dP75Y\n",
       "Ge+L8AA7WS+g1naW3xVBnj4FYaoKk5sBCma8NFcHrYYh8mCtaw/7TjeLY99tLugm4cdDRLvxlwy5\n",
       "7EPlBQW36lDQKAD//zfhVN2kWCVMRCls6b28XYu/syWxECGOpNWwRfngsU1AIHeJbv+Q4KA7TB/F\n",
       "hj0wuzjtBf3QlJZTR3/zSn54Gszoy/ZS3AL8S5V80OFh5fOWgfg0QOy1M2AhkAg/bnRch5fGmGf2\n",
       "qZbXEt3vsIagloQT959RJL0SOCE7xxdz5ZcrOPcEkIyVdJm1sX11Pl8GhLMzMubw7wDuG4AAAAFg\n",
       "QZstSeEOiZTAhn/+nhAHW9fwd4ExrR6M3saoCu6wP+JP4SwFqaC/hLgWB1jrYOa1T6gkaMnRYsmY\n",
       "oUh0ADQTTbRBUX9brLrfs/UJvvxe50H08WW4LvHyyU8cEcG5s2qLXHAhzS0HrmAM5zFhGGr1FpHg\n",
       "VzG+ocXu4tQ4juYg+/kwucOG0XMqLtLUPGl98Pm1U900QuWznPWmnchbuW403wO75g7McVP8VGY1\n",
       "qZsuUy7PX6w13utJVOa7W9Gz9JdLNiNNtW2addat1LoJi7kOpgpTgbHxmM+uBmGxAnInpJRflzhp\n",
       "A1L7SZITdY+lTwfed4pkKPwd9VCN8U8awpJ/RHxYxXmLnwSexnkndRxdYTpmzAU0NvXneGqPK8u4\n",
       "jKJtIz6Isp/XuDvelAdCtuPKbg+P8PLqPAbBqpCmRrKtxNxyaEdsJxL+lVU16XpBfQJIC+MdR3yh\n",
       "CvmZGBvDy2A+oQAAAWlBm1FJ4Q8mUwIZ//6eEADS7lzgAO0IsYXjMqv89io2KhGrD1e36HkJtnrF\n",
       "VQiNKSRjlhSwcrJsYBS69cNYq8Nz4+As4eXHDKDZC6QLFVaZq0FycBtmFaJpePDyr6g6ApHk844w\n",
       "uel4coS40WxHyQ1V9O7k43ecn942nqV2C5tLPB23W3LTCyTX3ZDHNizn/myzL0BAvq1V29Zl8WZM\n",
       "XIKhhtNVT4IwtgE0uhPTDrGeZBquSWNg+ITEhf109bqGyFYkOHcGaiT2OJGDvL32EtgOvNbmZzl3\n",
       "3BUUCC71mOnedXAkNzLI9lcb89k0OAAgtFtE39qpUzpJhUCSUNNqnvrLFv7CL1ts/Xe4dRMwn5lj\n",
       "+DsQRDCMv8DZNUqly+my4EVPZcMVXW59tS/EleynLXCUJjTrwpTQC4pNN8/cqrdZOmuGu8E7kloa\n",
       "8yz5TzM2eoRPt3bUQUHQRkaDie5AGg03IzyAlnixb17JAAABYUGfb0URPCf/AjnZ+RxwvFBps1lG\n",
       "j8XAIRdAC25me2gGRqqfbuc4ZkmSUIUKuaQgDZroiMzh9pDC9bxQw0sL52+g232MGCMDgPeIb9kF\n",
       "JkvEWZYxEMkxFVBBY9xDrFxFw6w/FNaQS24Akyz6tjeJH17tqRvFt3GZkiJ4lU6OzOeppWBEgpC1\n",
       "0IJOapegCc+2c5zKADvjjyNYX59bh08onRODlqwoQpQTYKGyz4vdg2udCqJfnPxP+Q1PeoRJ9I1c\n",
       "LyMnXauIz5a3wDXqGqQQC2871bI/4n26qiWAHkcsWaPZFZX6Fd+POB0slYqDHJEz0v4xJwerCE9D\n",
       "mE/8oGywbbomI/xKUheSLevQw5Ucd/nlmPx4ucC4A7HHy6fGLJEE5GgRSjZINPv/rE2zVXH+gerg\n",
       "vHQErgF5EY9F6XRFfydkGub/VTQgbk0y0K4VTc+R7lLYRhf76e7O6V9LdAUQiZuxAAAA3gGfjnRC\n",
       "PwAukuClbZvvzXdggbABdRgb/s5UbHHsF/jLdPA27oUBemdP0LrB/B4bB2ZH1TuDc2JRrXJapIFu\n",
       "vqEPRNXLxDK2Qm8t7DMQVIBsW2ML2ZXCDYoQDk8mkESE6H9itylQdsJvw8CpLc4lM2kK1aobxBR0\n",
       "uVCF4aF82XxxXTFSvP8VY3P1N2O8OfKlljMHRoJD5Hforl/d1obwM5cPa1jLrfmospSMbIxKZS8l\n",
       "1yokT8hqs42HujcQmK24J+vJPcxlAP2LkW8MMF+3B1rwZF05/REPnuG26/XoQAAAAQUBn5BqQj8A\n",
       "Q3kPAmQCCDWItQBWfG3PWOKVkR7Lv0zg76L8hDjGsHFSBayGIDTYm5co8+43jDnpphQ9ZL4zcL9m\n",
       "MSrbifdap1EiiYnKAgh+6iFibiKnbJSuXu5ntCIuMcNZ/jojHVGwYig7KRETN/za6i1L07l6mig3\n",
       "N+r4UYrzbbhT7mbbro+tmobnS8KHxwii91wxOuON1zhE9grUDllsxV6ZuSASzZAgoVJTLICr6KTo\n",
       "LqNPc5AC8xBtibKyyQgjbHueEZP+PWGYuSvcShUQcWg9vYJVJtPqL1gJWBppfwjYOUJj+1J5zKSm\n",
       "WAe3S5wco1OjOQxFaW0q/8CZhq8v6cU4vLQAAAF6QZuVSahBaJlMCF///oywBGe56gFrb4lviAx0\n",
       "z3lr1/uhTVPDh0e8nhE3rzMYPtxDAOO1xn5X6tbQzP8aHYK72m2VewfdCAnhEOISN2FRyfurgySG\n",
       "AS7rNLUWPxxQ+1d1IaIwe924jjbMaNBwjO5qTNQnYnw2uWyDLiL/hWR1FJXxqhaACLT1N/PgjM92\n",
       "gnLRHNjGHVCu8NEj4hnavaG16NR6RP3AsLXEC9iVxGFfB2KanRhqK1Munym6GA0jpgu0ivgTQ70c\n",
       "s/bGbxzJpL2oWLtWpUoIIgh1fpTpihQJ7icxw1AOYcqz/r00JvL04LZeWLs+5JBZcsYIHxO8B/lE\n",
       "34OAWWLBkvbhl9npIjKFyzkhrkjJJOEU/sICdQ+vbm42PSpFpm42bFKT5EWyh1KgBZxVfsttNuWI\n",
       "31Y0aII9KPvT6u90X+jYNsZwfTUjQ+pk7mw+md9tTTr+TSCjKz3Z+FAu600s6O28dJ1hFblZ6rLB\n",
       "hYqJqN/D/aRXAAABHUGfs0URLCf/AS3c3hwPt3ewMrKQEc3KvVE38N6WxADXO8T5olBO5viN6XgY\n",
       "GxnrLI7QL/QpjJI5vpZ7UgyhiYjul5y0JIhmdGOHtblKRx6Va3R9SZP6nDR/cVNwY6MdmecklnMG\n",
       "tZQWlTAZbr15I3DCEERo2ivhjwq9Ik2/k8IdFKpfKuF6UeS6nmxgS7abacTtV10ty+jqPe3vSSEA\n",
       "DE77gkoCBn+riLPWE6ai5lHSOhJXNmhtj4ZGVyIMXD3zZ8dd1Y10Kdz3F71fhEcC1MDPssPTXhWq\n",
       "LFfg49PFluUfsSLHPwiQKUREoBFpfzsoAHnuP6QF28GJ8sQ05k2UvSWx7XE8r7fqPY2hbrY59oqd\n",
       "g8Dj2yhfMPLkG0jKrAAAAKUBn9J0Qj8AYi2l2APFpZv1JTFSgngANyZ6lLPX5LFxkVuDWkTtae2m\n",
       "YasbW6/UrS6dUcyZs3uGW00OwlxV3TuHF0emZlIPg8FE1l+oCMDSSowCEIbxpE9ick+IRx5H7MJ6\n",
       "BnLM/o95Vuid8B9IktCwXCs7y/0JNFxFeniNJv5kCRXhexFMBZ6bM2vrQFyHvq66oPuQALEJMzbT\n",
       "yV8mrZEkjjLFmlgAAADAAZ/UakI/AWvGIXCryxyN8zxGQBBT48oBBP+bZF4m+GB2UNbZ+H0DiRN3\n",
       "Y2ZY5wFYQr0Ubo5x1V4l9+My7n0CKuoUoC7W3JTl/6Q75Y85L2L4X67jYc4i1voDAd5c3e4j+Bgv\n",
       "e1yufWAUGs5wd/vRNtwKrnI7CuhhIZSkYNIrRVa7oxmWdibEXaKzP2Y3QN7d3VsWNJuDzTeFglVY\n",
       "Rqkz/nzUdAyOEskO9eHAhoBVu1BkmcplqhH/5pq2Bw2y818RAAABZEGb2UmoQWyZTAhX//44QBDf\n",
       "mbatakgnkoASBtel9IS3Qao8HxLjCW0PsD5YmszxICMMAO5GMWkwh76tPa7p2E/duo6aY9JN7x3d\n",
       "6UlbrM/Pzap3yapgkHjGJmC1M4pi6IW25305LrgIAddk+OFMR2LjktG2q3O1K2/RHPERO89esTIp\n",
       "K0mG7zA5HzGHkYJfqm9oWnXLrQdik9ulYChLjNQQZbgE3Zwol6JZLOiCVxi5sJFdRcY6HEvRoaW9\n",
       "bRQeLZN5fk0Pts1vCI/3TEd7k3/kAvYT0L8EU/u2iV0T/gCxgENi9CQIyZEk+4li80Z6ZQhuSve1\n",
       "LTsSEnylQouEJQZCX2TXq/W88/T9jE+5FihHXAj/NWpxSZOSBo0wLd9p98C6LUDpsIKIk8ZZSutX\n",
       "zZgh8ORh5u/rKwbVXIPbIV+WK6fAQkSGQ60Zrw440jmfFPTD3HAzC+dbY7OeG/OXjhasOkxaAAAB\n",
       "JUGf90UVLCf/AS2MOdFUwIH7LiJNwQJuADpATALXDGeDa6VrYUaCdmWvzjRkJjDJzkNs3/rbTFuP\n",
       "TMHHOj3Tt54wLCl/qr14R1DtHeOTu/8AunUKu+aJcnmF05WJyTWXoremnY0CqjKDtBvyu4pRSmnE\n",
       "W23MeR05rMEOrnf+CqxJVuGWPcmZK4X44x0nqWcVXmzv+S3tzeeRuslB1bzaqHQy1gCgKivFsiSp\n",
       "sK9LxIQy5KfYf99WO1zaHO2xw3t1x669OBN1Twh5GkAeJ3Wr44qzXPczkh2DhgcLWIklnMqpb0On\n",
       "owQoQ/dL0wF4XaExIgdsJV1q6+bMXLg42UPOOhw19pnfZLxJGG3nPHwDzJQWdCfqnrGpu9WgDt6/\n",
       "tIBcDTwXWcBxAAAAzQGeFnRCPwFrJ9hbyCqoR/Q4y6dABKjAgxpQMY0pELCnkXEFp7IVyCciq0sW\n",
       "CHOV4pWC20FrvooXLBnOG7MaWqfRgbtHs09bFmEn8IUbLPzVANMwDVw2/3A7XEb8VAX3e/vo/PvU\n",
       "O9+MGZXRSLpCVjM/8nLR34rRVQkGGsM0aaRXSNfTshkBOQtlMNeIoi4+I0bswVCNH4wBV8Q/yByQ\n",
       "NO3avS4QQjOgmyHYMd+3fWa1bznB+d4LvlYbEkgfB1XryxTLACojEKbr4dWe0WEAAAD+AZ4YakI/\n",
       "AN1u2esKcXxY5gAsOV0nQVJccL/TjrzFFdCFYbufDhwReQKPArYMpM18+lp136oDA7tv8Feuvqg8\n",
       "8y8AW84+WH/HflcLTLACaNvEfQdhLhKYJGw2YAJZhlxDLfGvomjyi1oF/AP1ztnEKyCQA/rGa4S3\n",
       "r00yv8hvhmco9+flAj3wTYaeNQErpscV2G57leL6midr+x5VuXHJ8BubqwDVpEskPGroaugazPm5\n",
       "Wzuo2PNtj8Rc3TpHS+/OW+Yi7TBIpPZLKY/kzUYXLPUXG0J9W+Oe1NiOw87CYWSTdoB6K4cUHiyl\n",
       "ACCSIxKMkZrSgSrdB4FeT1gbCSAAAAC1QZoaSahBbJlMCFf//jhADNq02FN/voDKZkAQu00b/H6I\n",
       "S6GfrjT8cWavzpnrbZQ3epof8nqkgUixGv+nsZ9xhIX+fr9A8WCgKfuJsGi//2Ei7VCcqMliToFj\n",
       "dX/Eyea/3JhRBEZMbUtw0zXSqR4BMMZ/ha9PUyfi+uVjtDIiOgLxr74Bn1pZOtFa9RIpTKa3ML0Y\n",
       "6J7vR3gJnipFCF/e2k3fvRctgB1uN1ySaOVVLgBtviwc0QAAAIhBmjtJ4QpSZTAhX/44QAzHaVvp\n",
       "eduqsAN12hdOPjityRpLxi5pgcp5mMO/CBkCDI0hzWzxil9zI6fC9bU21pAf1YRMTduFMlPx+JEV\n",
       "WwGH2qVLxUm5voQMJODkRW+w6Zk+xCU8ETX5d+7QZw48bdsatQKlilPEnwl8HUr/7JzvQbDSqa5O\n",
       "0DugAAAAp0GaXEnhDomUwIV//jhADNjDbZYADiZgH4o9kLK1XCI2tfCEnZLhTpgM0FWPr7YKSYiO\n",
       "Wm3oN1VsNzYLelvN/Nbw01ch9wwcupDPhYdzCE5V5kSMOGFzZUKsara+Y9QR9ZXJe6GVGPkSMPcg\n",
       "NPw+LOAT1X1qhZviHrPrXp3HVaNf5GBmfn0MeOCwutlDj9dNOdUy2x+Nzjal9h/ltfPtE9slA2E2\n",
       "YBQRAAAAvEGafUnhDyZTAhX//jhADNmrA6mAFUyPKKQ+dx0bPZZyLinbN4Fzgf3dnMi8zMwrPl7w\n",
       "SRH43im4G191zi6NPuNnVRcxYhyvx6B5kuFi4XylRGeXH5jTYZsdVtSuetqafty8jZR/vAbGScYB\n",
       "Q2IAhvKXDl4wB0S4fJuYhXzDGeIwR/d5BqZMsgt5pRq5+Vd48ZgiPba8OVbF2i4urYg9Eqn3bU62\n",
       "B/vJx5/4tQs8mCdcezJLTpTzw7dHWKSBAAAAxEGanknhDyZTAhX//jhADMexlxaEt3QAjI6K2n6G\n",
       "F6Xv8yL89Pg83RKOpHZ+3gbNmujqZQdnwekKdujKHA4TML6lHQRex1TxolP/L3wEuBUAAHqppHcw\n",
       "NLOZ8aL880yYcdwU6Ws2SDh1c0NJo+Q1rtmukDPpmCtlY+spYavPY8VruAJFt0CJdV0H2YeKy0UJ\n",
       "i9QzZth50BY0h4NRYjsgBxfX4ZMmZN1kSPUSLAA8MdikVfnTmWczPcfbuGONtUyxDsgAg4AAAADZ\n",
       "QZq/SeEPJlMCFf/+OEAM3oC382MMQfAEeyviIYXE4wlq2aYArQo51LP2grsEPCwYrHY06i4Phqmu\n",
       "JMAFnpko9Ywrnw6XpHPOlfT8IlCWp5JckjYzXeorYP9CwrAFEd0J6Ud+52X9smMpjEKWwe72Mrvo\n",
       "3tn5AsyTDLK+l94BaGOZdCNyDMx5LwUkv04aF4CwqLeArIcL9d7deNX06T1/pFU0QVG/mnw4Kqd5\n",
       "oml/0I+nRa5fk4NrPHOqbHxcrkIUKi4QVB+3Jcg+wK2NtfxeJFUtn21TLAAzIAAAAOtBmsBJ4Q8m\n",
       "UwIV//44QA/fuRtDs7L4AFnvBS6nmGN/N4HPTdAq/NM43xwtHKFBgkxONWg/8FJ4U1oX7mSZmAi+\n",
       "a1LwFzadNRPLSqi6EMrAhY+/3y+igsHpnu8r57Z4bQv13WpfpKhKTUxmEs09htoporD46daYQ/K0\n",
       "sqOP+u5+MB/as7T2RFQBLUc6FlFRgzRZs1QqaFiIZdIwS1d2LT6I/8X0+ds9JDYIJra0Std2+gTp\n",
       "r7NFDeNvCePhrKLQMVyYhW4dfBV8qbgP2gTJycBmSj4v9ZAcKVFtKO10FbowuUkSVGB1bUqgAGVB\n",
       "AAABBEGa4UnhDyZTAhX//jhAEd7VYA+bKkpSLLWb2OSxSoM7RLsMDwU2YAe5Y4uU7zzPQoCm16Km\n",
       "gDXz2rLBUiCd1s+WJS9M9uEmerW4p2d7bND6VPfir/JT95QkOkLV5LIxlxfvHorO5tA3E2/U+Tsx\n",
       "+qQC3XMA8Uycg9UH/eeg8r4q3s6BIAGEmbCLCQBYVkO+AhBMSm0aatvKC8id1g/m6HPNdd6HD/gR\n",
       "qKepNgY5TjpKO53pMMY2mFbSDz6eDKOrRsOZOohIVpG9ftqrxK8R+FF3yFmJ4X0VH3p2bxf94+Jj\n",
       "GNj+Ur20z3+AnUWd6sJjzeoLkZAOTjSDJfWDPKpW1qVQACDgAAABD0GbAknhDyZTAhf//oywBQXm\n",
       "qAAZmF+gKxegkwrlwUf00JKAbjVEOaupTsxFeyD3pVBqk5YQ/4HxM7ccJgSHCVkbR3aKYXv2R7Y0\n",
       "fLC1CdUlihI3nqa4RQKGU/oRML1yQ6lhBarzTpnrqMTVDODvE0b172QM0zYFyWmt2jhmyMVEIhE3\n",
       "VMJbVixgJmJUWF964zFs0wcoCbL9EVi3M84KeqyCc3ZpM5102GgIW5sTJHxgNTBhnlXN3ZFSP6I1\n",
       "28FXpe4AoFFWDGwWdB2wxAzQ+16rOfq7VZB6Yigth1VEnzmeNTvPZf+SXrMn9WN+m5rDkagIUX/m\n",
       "o3gSrgoWsBScheuWd9CckvFEP/ftUywAFlEAAADmQZsjSeEPJlMCF//+jLARjn9xtTnHL60KgBrk\n",
       "XiEbSOxeZYGDSiCKTTGxoDo4Uev9gLWrqWo0Pgu1FHeKlp5b4mtEySjwMszJcJdYMT6d1ZNTM0zm\n",
       "bigFsCGeK1m/DiT/V5EH+kyIethURkzL5lrjlALgturB2T/Y7MiLz553biOnmd7AojiNYQ2q8WGF\n",
       "+bKcMMlR/9JFzUTveqH6ZWEaM5BusMt5XqB4d18ztEZ0FrwJuJDdo0OnDeG6aNV5ny24I387Q1f/\n",
       "hotBsoseZQ75PaqhvqmdyUWFolxGspA8ucmNMq149IAAAADVQZtESeEPJlMCF//+jLAw+Jz7ynbK\n",
       "jvZv7jG75MxX+lf6GoS/HXiERxb6QSuPUirMvvjNKYMUeWADKS//9B2sVzxGOHKbZ3w+AvQozLUf\n",
       "+03uQclgAy5oM3DGAc8hYLCqIEJ8BqCssHKLyHn1IOd8lcpHwPVZC1r/q5RoPZBWSC7atG/zYZSK\n",
       "tVS851U0oPeH4Q7tsCvF4cM6jjWzvFiAfecnS9M7nlIqj9n8IcfG9EGA+7hfZmltJ2Af3y3W8+vM\n",
       "BgAWO0SNbCaYfhQqfB/RbHFiO4UNAAAAskGbZUnhDyZTAhf//oywB3//3d6cxF+1vXq2uQh/xgA5\n",
       "0gMlEUu+1CziX64VJR05vpYPqiTB1TFcJUHhHny5ViCdAypJSRgT3SLYMLWnx4vOVTONOf5COb5D\n",
       "SCLgHnnxa4rynxXloDNjqFoyEoVtHh8lwJ1SxYGwE6/1+dA2eFYV7hh25EeKfK+I+hr2fLa95rln\n",
       "8PVGsPjFalgxXLz3m8Zg3Jiff/jeQwe666MMg6Z5PmEAAAC1QZuGSeEPJlMCGf/+nhAu2jVmSuLK\n",
       "zX+eXVjbpnwQjQQgAt7AcFaoucDiHXaxvxGqz3NNtlaoze60raGp69cQUciJt2zuxL+agYNrDff8\n",
       "fMF8fvInVigAACc8cAtd5jhnkAxRQXb5hV/LSotL0vFDlpOTOGAqj/gQ4gcOhdXE3TGPK4yyKAAI\n",
       "OB5tOW7cp2d9AgcbeGlIj6i2X6wZDAvLd1TboJD3wR+LGbgMrJjet3JR8GHoIQAAAH5Bm6pJ4Q8m\n",
       "UwIZ//6eEBitx6uLCb7Wb8YYfdDnVgALmnVDRXS39Dry4mrSoFDECzliT/EY501+18s8MckzC4Xw\n",
       "SvpKJKdT4yH2CyeyMOQAAArwPJAEawLIIIISnHX8YDjveZWa9r8LV0/KrK0rTgOzRRgK4tUqhaLu\n",
       "dk5gEHEAAADEQZ/IRRE8J/8DP2PvlsL3vfO/BHK8szx0N+BYeZgDOlX9Ou1vkcuOBQJc6dgdYZP7\n",
       "fFaU8H29IK8Ciq5oxR1ie+8sMh2r0/YkblGdRMp3wIfKYiHrgAmVyoVfU3FpgRGMNpLHhm5BzBjy\n",
       "enojCeb3N9tLaSp2z9+44AidYrQli1I5SIn2gkpzlD6pmpTlJlc1e+8CA/z/JEBXP3+HNh6ttvI/\n",
       "oC31XEgDNLPUrCakZWdMv6Y8LzWht3WnhB9utZ+BVk0W8AAAAGEBn+d0Qj8Csg6xCjzWc85FRsON\n",
       "1Q0RudptJwAJyN6dugUG5njTReTfBe4t5qG59FO2QwQoy39LrUFWqOA5bAH//Tylo3jyMElVseWe\n",
       "mzNA9+p3f5VuDYijFiVck3jK2RjwAAAARAGf6WpCPwQCjz453ROV1Hn2kkVdcJvkaiDZk633EbbP\n",
       "X6SojvRPhRLx0mcCE3rj5UvOWTtSFoNU5BZCAAagVR3JXionAAAA1EGb7kmoQWiZTAhf//6MsFtx\n",
       "OmCVzYjC5RliaBWT4AHG0q0qD+JpqUI33STD9R8dv1FiSh1nBvWGB8KHSUJ1QOxvAG99H9H0n3Ye\n",
       "Czy3YEvJVNMiuecxoqlihIHZWC8tI9BgA0RZcw1HtXIQAACw85s8otJqfTYP+Papd2hSRu1Bz6np\n",
       "9Q0yAMG60qbO61/CcAcFP60jj9gBbY+xCQLQ406aw8TS44bWCULbjYngurk2oqTwMBitgC2MqqXu\n",
       "xF30ei8UrCTkSMM1GwmvHkIWqplgABWwAAAAdUGeDEURLCf/A4ffilHS37FqkZ8x/9Q07T1M+5Pd\n",
       "p3M29GAFfXizIbBMKvKQWC7dPqKK861c9JTN+I/UnHLxPNWtlGQi3SFbtBBjWeBKtbvl/3ZelJPX\n",
       "geLRv0xs09e80BZbF9zu1+Kl4LXEnhAAGhs/pGWbIAAAAGMBnit0Qj8C6A3hMhuRb2rVE0gJj1K6\n",
       "Vp+VM39tjHpmv/voKsgBIhYFCC6FnorEgTSvei/a3CIKg7G85UaMcFDHuVDQZ5ECFgHH11sNvF+D\n",
       "NUDNYnlBCqqVQAJcRjy8RnVGX9kAAABQAZ4takI/BDDWvOS5HbET4mTog94AEv5GmeA2YK8gy+kn\n",
       "0e1El3uAOl4PSBoTqbx3KDe//F2SHUWWrMHAxxhL1qWMDI5GQABizWMXI/0Em0EAAACeQZoySahB\n",
       "bJlMCFf//jhA+NSJazoGUiBj//tSScM++2iAEtRAQJCR+cz+jHjWkxBK5/uZymvuMcOjzEO/yTpX\n",
       "qt7I+bDvriUzEKPMGX4hzVV2UBaFvL+yG324OBJs9qMfWXINqG2Y4V5GaJ/pWJX4xYb3eW26CqQz\n",
       "kqHclh0zGjpYwMbrJ6SnqKwqmfqUjCYCOJDox+W7LiKqZYAAVsEAAACQQZ5QRRUsJ/8D3c/LDzvJ\n",
       "fWqm3wEye2mgH26g/AAJSjP3C1q7XAEbtYSKXvrJ0PG20gXcTP3oi2WUML1FubjtuDUGm2WKen0p\n",
       "CpqFDuN1Uzq/BAfFlaAYwMHP3wMkWbn2F0gQtZOWaC0U8zNzdG3UIvF/Tu83jruk1GoiCuWDzQRY\n",
       "+3ihUkSQLwgAFWUCpFWMAAAAWAGeb3RCPwUTPeK01JS0DE1hMQjBOAE7GK5NefEPFJ7Vm1bb5nr7\n",
       "5SpkmbPac06FMSFWRodNSDXyByvUiKNVW/gzxfOph2Qg9GxSPfomEABrSEobnHV0TMgAAAA3AZ5x\n",
       "akI/BRRNoYO9yWGi/R9db1Ih+QUSIWInsqszYTWs2QUClMa6qLfJ9XfxkANtErZdzNMlbQAAAIBB\n",
       "mnVJqEFsmUwIR//94QSLJMoa/B1+9G7MiACdj1jpIJcNr8X4IS7K998nLvVD+WQanmDffDBCVQnD\n",
       "LTQ7LPXCI9ZE1RNr/Exj34+5dWps7oHIGsgJZiqHBFRT394IuLUKIo8gupoLgaosVfk1GZpC8BRp\n",
       "05Tp5bvuj7VMsABFwAAAAEdBnpRCEf8FE1HOapkNxjdDSLrRl03GJM3MV/qAAJwgGO/wzS5nJr1T\n",
       "EVP3vDE/42vKCMx400TAeW+Mtfh2uL6ABPfKiwVR8AAAAD4BnrNpEI8EYdWklmTQxgf8HiWvSE6K\n",
       "qq34WVGN0y8hsqjc4pmdnZTszYQyZNfGAE4GNIS2lNgAL5J/U1so4QAABTZtb292AAAAbG12aGQA\n",
       "AAAAAAAAAAAAAAAAAAPoAAAFRgABAAABAAAAAAAAAAAAAAAAAQAAAAAAAAAAAAAAAAAAAAEAAAAA\n",
       "AAAAAAAAAAAAAEAAAAAAAAAAAAAAAAAAAAAAAAAAAAAAAAAAAAAAAAACAAAEYHRyYWsAAABcdGto\n",
       "ZAAAAAMAAAAAAAAAAAAAAAEAAAAAAAAFRgAAAAAAAAAAAAAAAAAAAAAAAQAAAAAAAAAAAAAAAAAA\n",
       "AAEAAAAAAAAAAAAAAAAAAEAAAAABsAAAASAAAAAAACRlZHRzAAAAHGVsc3QAAAAAAAAAAQAABUYA\n",
       "AAIAAAEAAAAAA9htZGlhAAAAIG1kaGQAAAAAAAAAAAAAAAAAACgAAAA2AFXEAAAAAAAtaGRscgAA\n",
       "AAAAAAAAdmlkZQAAAAAAAAAAAAAAAFZpZGVvSGFuZGxlcgAAAAODbWluZgAAABR2bWhkAAAAAQAA\n",
       "AAAAAAAAAAAAJGRpbmYAAAAcZHJlZgAAAAAAAAABAAAADHVybCAAAAABAAADQ3N0YmwAAACzc3Rz\n",
       "ZAAAAAAAAAABAAAAo2F2YzEAAAAAAAAAAQAAAAAAAAAAAAAAAAAAAAABsAEgAEgAAABIAAAAAAAA\n",
       "AAEAAAAAAAAAAAAAAAAAAAAAAAAAAAAAAAAAAAAAAAAAAAAY//8AAAAxYXZjQwFkABX/4QAYZ2QA\n",
       "FazZQbCWhAAAAwAEAAADAUA8WLZYAQAGaOvjyyLAAAAAHHV1aWRraEDyXyRPxbo5pRvPAyPzAAAA\n",
       "AAAAABhzdHRzAAAAAAAAAAEAAAA2AAABAAAAABRzdHNzAAAAAAAAAAEAAAABAAABQGN0dHMAAAAA\n",
       "AAAAJgAAAAMAAAIAAAAAAQAABQAAAAABAAACAAAAAAEAAAAAAAAAAQAAAQAAAAABAAAFAAAAAAEA\n",
       "AAIAAAAAAQAAAAAAAAABAAABAAAAAAMAAAIAAAAAAQAABQAAAAABAAACAAAAAAEAAAAAAAAAAQAA\n",
       "AQAAAAABAAAFAAAAAAEAAAIAAAAAAQAAAAAAAAABAAABAAAAAAEAAAUAAAAAAQAAAgAAAAABAAAA\n",
       "AAAAAAEAAAEAAAAADQAAAgAAAAABAAAFAAAAAAEAAAIAAAAAAQAAAAAAAAABAAABAAAAAAEAAAUA\n",
       "AAAAAQAAAgAAAAABAAAAAAAAAAEAAAEAAAAAAQAABQAAAAABAAACAAAAAAEAAAAAAAAAAQAAAQAA\n",
       "AAABAAAEAAAAAAEAAAIAAAAAAQAAAAAAAAAcc3RzYwAAAAAAAAABAAAAAQAAADYAAAABAAAA7HN0\n",
       "c3oAAAAAAAAAAAAAADYAABw6AAAD2QAAAswAAAKBAAAB4AAAAc4AAAHPAAAB5wAAAfcAAAFKAAAB\n",
       "UQAAAbYAAAH7AAABZAAAAW0AAAFlAAAA4gAAAQkAAAF+AAABIQAAAKkAAADEAAABaAAAASkAAADR\n",
       "AAABAgAAALkAAACMAAAAqwAAAMAAAADIAAAA3QAAAO8AAAEIAAABEwAAAOoAAADZAAAAtgAAALkA\n",
       "AACCAAAAyAAAAGUAAABIAAAA2AAAAHkAAABnAAAAVAAAAKIAAACUAAAAXAAAADsAAACEAAAASwAA\n",
       "AEIAAAAUc3RjbwAAAAAAAAABAAAALAAAAGJ1ZHRhAAAAWm1ldGEAAAAAAAAAIWhkbHIAAAAAAAAA\n",
       "AG1kaXJhcHBsAAAAAAAAAAAAAAAALWlsc3QAAAAlqXRvbwAAAB1kYXRhAAAAAQAAAABMYXZmNTUu\n",
       "MTkuMTA0\n",
       "\">\n",
       "  Your browser does not support the video tag.\n",
       "</video>"
      ],
      "text/plain": [
       "<matplotlib.animation.FuncAnimation at 0x296618b9320>"
      ]
     },
     "execution_count": 59,
     "metadata": {},
     "output_type": "execute_result"
    }
   ],
   "source": [
    "xR = np.linspace(0, R, N)\n",
    "\n",
    "fig, ax = plt.subplots()\n",
    "line, = ax.plot(xR, T_initial)\n",
    "ax.set_yticks(np.arange(0, 601, 50))\n",
    "\n",
    "plt.title(\"Процес нагрівання\")\n",
    "plt.ylabel(u\"Температура нагріву, ℃\")\n",
    "plt.xlabel(u\"Координата, м\")\n",
    "plt.grid()\n",
    "\n",
    "def animate(i):\n",
    "    line.set_ydata(T_data[i]-273.0)  # update the data\n",
    "    return line,\n",
    "\n",
    "# Init only required for blitting to give a clean slate.\n",
    "def init():\n",
    "    line.set_ydata(np.ma.array(xR, mask=True))\n",
    "    return line,\n",
    "\n",
    "ani = animation.FuncAnimation(fig, animate, np.arange(0, len(T_data), 250), init_func=init,\n",
    "                              interval=25, blit=True)\n",
    "plt.close()\n",
    "ani"
   ]
  },
  {
   "cell_type": "markdown",
   "metadata": {},
   "source": [
    "Будуємо графік залежності температури від часу в процесі нагрівання в трьох точках, розташованих по перетину системи ($r_1 = 0, r_2 = \\frac{r_0}{2}, r_3 = r_0$):"
   ]
  },
  {
   "cell_type": "code",
   "execution_count": 60,
   "metadata": {},
   "outputs": [
    {
     "data": {
      "image/png": "[encoded data removed]",
      "text/plain": [
       "<matplotlib.figure.Figure at 0x29663d5fda0>"
      ]
     },
     "metadata": {},
     "output_type": "display_data"
    }
   ],
   "source": [
    "x_time = np.linspace(0, time_heat/60, len(T_data))\n",
    "it = iter(['--', '-.', ':'])\n",
    "for y, labl in zip(T_data.T[[0, 5, 9]]-273.0, ['$r_1=0$', r'$r_2=\\frac{R}{2}$', '$r_3 = R$']):\n",
    "    plt.plot(x_time, y, next(it), label=labl)\n",
    "plt.legend()\n",
    "plt.title(\"Процес нагрівання в окремих точках\")\n",
    "plt.ylabel(u\"Температура нагріву, ℃\")\n",
    "plt.xlabel(u\"Час, хв\")\n",
    "plt.grid()"
   ]
  },
  {
   "cell_type": "markdown",
   "metadata": {},
   "source": [
    "Динаміка нагрівання в усіх троьх зрізах системи однакова."
   ]
  },
  {
   "cell_type": "markdown",
   "metadata": {},
   "source": [
    "### Висновки\n",
    "\n",
    "Реалізована детермінована числова математична модель із розподіленими параметрами та визначений час нагріву металевого виробу, який становить 20 хв.\n",
    "\n",
    "Для зразка з даними параметрами урахування внутрішніх координат не вносить значних змін у результати."
   ]
  }
 ],
 "metadata": {
  "kernelspec": {
   "display_name": "Python 3",
   "language": "python",
   "name": "python3"
  },
  "language_info": {
   "codemirror_mode": {
    "name": "ipython",
    "version": 3
   },
   "file_extension": ".py",
   "mimetype": "text/x-python",
   "name": "python",
   "nbconvert_exporter": "python",
   "pygments_lexer": "ipython3",
   "version": "3.6.2"
  }
 },
 "nbformat": 4,
 "nbformat_minor": 2
}
