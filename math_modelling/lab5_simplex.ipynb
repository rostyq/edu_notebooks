{
 "cells": [
  {
   "cell_type": "markdown",
   "metadata": {},
   "source": [
    "# МАТЕМАТИЧНЕ МОДЕЛЮВАННЯ МАТЕРІАЛІВ ТА ТЕХНОЛОГІЧНИХ ПРОЦЕСІВ В МАТЕРІАЛОЗНАВСТВІ\n",
    "Комп'ютерний практикум\n",
    "\n",
    "*Виконав студент групи ФМ-71мп*\n",
    "\n",
    "*Богомаз Ростислав*"
   ]
  },
  {
   "cell_type": "markdown",
   "metadata": {},
   "source": [
    "## 5. СИМПЛЕКС- ЗАГРАТОВАНИЙ ПЛАНОВАНИЙ ЕКСПЕРИМЕНТ ДЛЯ ПОБУДОВИ МАТЕМАТИЧНОЇ МОДЕЛІ “СКЛАД - ВЛАСТИВОСТІ” СПЛАВУ СИСТЕМИ $Al\\!-\\!Mg\\!-\\!Zn$\n",
    "\n",
    "**Мета роботи:** опанування методу планування експерименту типу “склад -\n",
    "властивості” та побудови математичних моделей високих порядків на прикладі\n",
    "дослідження сплаву системи $Al\\!-\\!Mg\\!-\\!Zn$."
   ]
  },
  {
   "cell_type": "markdown",
   "metadata": {},
   "source": [
    "### Завдання комп’ютерного практикуму\n",
    "\n",
    "Побудувати матрицю симплекс-решітчастого плану для заданої викладачем\n",
    "властивості сплаву системи $Al\\!-\\!Mg\\!-\\!Zn$. По даним експерименту “склад - властивості”\n",
    "побудувати математичну модель четвертого порядку. По результатам моделювання\n",
    "побудувати графічну інтерпретацію моделі у вигляді ліній рівного рівня."
   ]
  },
  {
   "cell_type": "markdown",
   "metadata": {},
   "source": [
    "### Матеріали"
   ]
  },
  {
   "cell_type": "code",
   "execution_count": 2,
   "metadata": {
    "collapsed": true
   },
   "outputs": [],
   "source": [
    "import numpy as np\n",
    "import pandas as pd\n",
    "from sklearn.preprocessing import PolynomialFeatures\n",
    "from sklearn.linear_model import Ridge\n",
    "\n",
    "from IPython.display import Latex\n",
    "import matplotlib.pyplot as plt\n",
    "%matplotlib inline"
   ]
  },
  {
   "cell_type": "markdown",
   "metadata": {},
   "source": [
    "### Порядок виконання комп’ютерного практикуму\n",
    "\n",
    "**Заповнити матрицю симплекс-решітчастого плану з факторами (компонентами\n",
    "сплаву), які виражені у долях, та результатами\n",
    "вимірювань вказаної викладачем властивості сплаву системи $Al\\!-\\!Mg\\!-\\!Zn$. Досліджуваною властивістю є відношення $$y = \\frac{\\sigma_{0.2}}{\\sigma_B}$$**"
   ]
  },
  {
   "cell_type": "code",
   "execution_count": 3,
   "metadata": {
    "scrolled": false
   },
   "outputs": [
    {
     "data": {
      "text/html": [
       "<div>\n",
       "<style>\n",
       "    .dataframe thead tr:only-child th {\n",
       "        text-align: right;\n",
       "    }\n",
       "\n",
       "    .dataframe thead th {\n",
       "        text-align: left;\n",
       "    }\n",
       "\n",
       "    .dataframe tbody tr th {\n",
       "        vertical-align: top;\n",
       "    }\n",
       "</style>\n",
       "<table border=\"1\" class=\"dataframe\">\n",
       "  <thead>\n",
       "    <tr style=\"text-align: right;\">\n",
       "      <th></th>\n",
       "      <th>Zn</th>\n",
       "      <th>Mg</th>\n",
       "      <th>Al</th>\n",
       "      <th>y</th>\n",
       "    </tr>\n",
       "  </thead>\n",
       "  <tbody>\n",
       "    <tr>\n",
       "      <th>0</th>\n",
       "      <td>0.070</td>\n",
       "      <td>0.010</td>\n",
       "      <td>0.920</td>\n",
       "      <td>0.73</td>\n",
       "    </tr>\n",
       "    <tr>\n",
       "      <th>1</th>\n",
       "      <td>0.055</td>\n",
       "      <td>0.025</td>\n",
       "      <td>0.920</td>\n",
       "      <td>0.69</td>\n",
       "    </tr>\n",
       "    <tr>\n",
       "      <th>2</th>\n",
       "      <td>0.040</td>\n",
       "      <td>0.040</td>\n",
       "      <td>0.920</td>\n",
       "      <td>0.58</td>\n",
       "    </tr>\n",
       "    <tr>\n",
       "      <th>3</th>\n",
       "      <td>0.025</td>\n",
       "      <td>0.055</td>\n",
       "      <td>0.920</td>\n",
       "      <td>0.47</td>\n",
       "    </tr>\n",
       "    <tr>\n",
       "      <th>4</th>\n",
       "      <td>0.010</td>\n",
       "      <td>0.070</td>\n",
       "      <td>0.920</td>\n",
       "      <td>0.47</td>\n",
       "    </tr>\n",
       "    <tr>\n",
       "      <th>5</th>\n",
       "      <td>0.010</td>\n",
       "      <td>0.055</td>\n",
       "      <td>0.935</td>\n",
       "      <td>0.46</td>\n",
       "    </tr>\n",
       "    <tr>\n",
       "      <th>6</th>\n",
       "      <td>0.010</td>\n",
       "      <td>0.040</td>\n",
       "      <td>0.950</td>\n",
       "      <td>0.46</td>\n",
       "    </tr>\n",
       "    <tr>\n",
       "      <th>7</th>\n",
       "      <td>0.010</td>\n",
       "      <td>0.025</td>\n",
       "      <td>0.965</td>\n",
       "      <td>0.49</td>\n",
       "    </tr>\n",
       "    <tr>\n",
       "      <th>8</th>\n",
       "      <td>0.010</td>\n",
       "      <td>0.010</td>\n",
       "      <td>0.980</td>\n",
       "      <td>0.57</td>\n",
       "    </tr>\n",
       "    <tr>\n",
       "      <th>9</th>\n",
       "      <td>0.025</td>\n",
       "      <td>0.010</td>\n",
       "      <td>0.965</td>\n",
       "      <td>0.58</td>\n",
       "    </tr>\n",
       "    <tr>\n",
       "      <th>10</th>\n",
       "      <td>0.040</td>\n",
       "      <td>0.010</td>\n",
       "      <td>0.950</td>\n",
       "      <td>0.61</td>\n",
       "    </tr>\n",
       "    <tr>\n",
       "      <th>11</th>\n",
       "      <td>0.055</td>\n",
       "      <td>0.010</td>\n",
       "      <td>0.935</td>\n",
       "      <td>0.66</td>\n",
       "    </tr>\n",
       "    <tr>\n",
       "      <th>12</th>\n",
       "      <td>0.040</td>\n",
       "      <td>0.025</td>\n",
       "      <td>0.935</td>\n",
       "      <td>0.59</td>\n",
       "    </tr>\n",
       "    <tr>\n",
       "      <th>13</th>\n",
       "      <td>0.025</td>\n",
       "      <td>0.040</td>\n",
       "      <td>0.935</td>\n",
       "      <td>0.47</td>\n",
       "    </tr>\n",
       "    <tr>\n",
       "      <th>14</th>\n",
       "      <td>0.025</td>\n",
       "      <td>0.025</td>\n",
       "      <td>0.950</td>\n",
       "      <td>0.52</td>\n",
       "    </tr>\n",
       "  </tbody>\n",
       "</table>\n",
       "</div>"
      ],
      "text/plain": [
       "       Zn     Mg     Al     y\n",
       "0   0.070  0.010  0.920  0.73\n",
       "1   0.055  0.025  0.920  0.69\n",
       "2   0.040  0.040  0.920  0.58\n",
       "3   0.025  0.055  0.920  0.47\n",
       "4   0.010  0.070  0.920  0.47\n",
       "5   0.010  0.055  0.935  0.46\n",
       "6   0.010  0.040  0.950  0.46\n",
       "7   0.010  0.025  0.965  0.49\n",
       "8   0.010  0.010  0.980  0.57\n",
       "9   0.025  0.010  0.965  0.58\n",
       "10  0.040  0.010  0.950  0.61\n",
       "11  0.055  0.010  0.935  0.66\n",
       "12  0.040  0.025  0.935  0.59\n",
       "13  0.025  0.040  0.935  0.47\n",
       "14  0.025  0.025  0.950  0.52"
      ]
     },
     "execution_count": 3,
     "metadata": {},
     "output_type": "execute_result"
    }
   ],
   "source": [
    "data = pd.read_csv('lab5_data.csv', names=['Zn', 'Mg', 'Al', 'y'])\n",
    "data"
   ]
  },
  {
   "cell_type": "markdown",
   "metadata": {},
   "source": [
    "Розмітимо матрицю факторів `X`, та відгук `y`:"
   ]
  },
  {
   "cell_type": "code",
   "execution_count": 4,
   "metadata": {
    "collapsed": true
   },
   "outputs": [],
   "source": [
    "X = data[['Mg', 'Zn', 'Al']]\n",
    "y = data['y']"
   ]
  },
  {
   "cell_type": "markdown",
   "metadata": {},
   "source": [
    "**Розрахувати коефіцієнти математичної моделі четвертого порядку.**\n",
    "\n",
    "Для цього побудуємо матрицю факторів взаємодій до 4-го порядку."
   ]
  },
  {
   "cell_type": "code",
   "execution_count": 5,
   "metadata": {},
   "outputs": [
    {
     "data": {
      "text/plain": [
       "(15, 34)"
      ]
     },
     "execution_count": 5,
     "metadata": {},
     "output_type": "execute_result"
    }
   ],
   "source": [
    "poly = PolynomialFeatures(degree=4, include_bias=False, interaction_only=False)\n",
    "Xnew = poly.fit_transform(X)\n",
    "Xnew.shape"
   ]
  },
  {
   "cell_type": "markdown",
   "metadata": {},
   "source": [
    "Створюємо модель 4-го порядку (квазілінійна регресія) та знаходимо коефіцієнти мат. моделі:"
   ]
  },
  {
   "cell_type": "code",
   "execution_count": 10,
   "metadata": {},
   "outputs": [
    {
     "data": {
      "text/plain": [
       "(6.81, array([  1.59e+00,   3.06e+00,  -4.65e+00,   3.05e+00,  -9.24e-01,\n",
       "         -5.39e-01,   3.14e+00,   8.44e-01,  -4.95e+00,   4.02e-01,\n",
       "         -9.12e-02,   2.74e+00,   9.00e-02,  -9.22e-01,  -2.35e+00,\n",
       "          2.48e-01,   2.80e+00,  -1.04e+00,  -1.56e+00,   3.80e-02,\n",
       "         -4.57e-03,   3.68e-01,  -2.82e-04,  -8.63e-02,   2.46e+00,\n",
       "          9.66e-03,   8.06e-02,  -9.17e-01,  -3.89e+00,   1.37e-02,\n",
       "          2.25e-01,   2.50e+00,  -2.62e+00,   4.95e+00]))"
      ]
     },
     "execution_count": 10,
     "metadata": {},
     "output_type": "execute_result"
    }
   ],
   "source": [
    "regressor = Ridge(alpha=1e-5)\n",
    "regressor.fit(Xnew, y)\n",
    "\n",
    "%precision 2\n",
    "regressor.intercept_, regressor.coef_"
   ]
  },
  {
   "cell_type": "markdown",
   "metadata": {},
   "source": [
    "**Перевірити адекватність моделі.**\n",
    "\n",
    "Оцінимо коефіцієнт кореляції між відгуком моделі та експериментальними значеннями:"
   ]
  },
  {
   "cell_type": "code",
   "execution_count": 11,
   "metadata": {},
   "outputs": [
    {
     "data": {
      "text/latex": [
       "$R^2 = 0.94$"
      ],
      "text/plain": [
       "<IPython.core.display.Latex object>"
      ]
     },
     "execution_count": 11,
     "metadata": {},
     "output_type": "execute_result"
    }
   ],
   "source": [
    "R = regressor.score(Xnew, y)\n",
    "Latex(f'$R^2 = {R:.2f}$')"
   ]
  },
  {
   "cell_type": "code",
   "execution_count": 12,
   "metadata": {},
   "outputs": [
    {
     "data": {
      "text/plain": [
       "<matplotlib.text.Text at 0x1c4c6273f28>"
      ]
     },
     "execution_count": 12,
     "metadata": {},
     "output_type": "execute_result"
    },
    {
     "data": {
      "image/png": "[encoded data removed]",
      "text/plain": [
       "<matplotlib.figure.Figure at 0x1c4c608c5c0>"
      ]
     },
     "metadata": {},
     "output_type": "display_data"
    }
   ],
   "source": [
    "plt.figure(figsize=(5,5))\n",
    "plt.plot(y, y, color='black', label='')\n",
    "\n",
    "plt.scatter(y, regressor.predict(Xnew), color=\"red\", alpha=.7, edgecolor='black', label='модель 4-го порядку')\n",
    "\n",
    "plt.legend()\n",
    "plt.xlim(y.min(), y.max())\n",
    "plt.ylim(y.min(), y.max())\n",
    "plt.grid()\n",
    "plt.xlabel('Експериментальні значення, $y$')\n",
    "plt.ylabel('Відгук моделі, $\\hat{y}$')"
   ]
  },
  {
   "cell_type": "markdown",
   "metadata": {},
   "source": [
    "**Побудувати графік ліній рівного рівня**"
   ]
  },
  {
   "cell_type": "code",
   "execution_count": 13,
   "metadata": {},
   "outputs": [
    {
     "data": {
      "text/plain": [
       "<matplotlib.text.Text at 0x1c4c63237f0>"
      ]
     },
     "execution_count": 13,
     "metadata": {},
     "output_type": "execute_result"
    },
    {
     "data": {
      "image/png": "[encoded data removed]",
      "text/plain": [
       "<matplotlib.figure.Figure at 0x1c4c5beb7b8>"
      ]
     },
     "metadata": {},
     "output_type": "display_data"
    }
   ],
   "source": [
    "delta = 0.001\n",
    "x1 = np.arange(data.Mg.min(), data.Mg.max()+0.001, delta)\n",
    "x2 = np.arange(data.Zn.min(), data.Zn.max()+0.001, delta)\n",
    "x3 = 1 - x1 - x2\n",
    "X1, X2 = np.meshgrid(x1, x2)\n",
    "\n",
    "Y = regressor.predict(poly.fit_transform(np.c_[X1.ravel(), X2.ravel(), (1 - X1 - X2).ravel()]))\n",
    "Y = Y.reshape(X1.shape)\n",
    "\n",
    "plt.figure()\n",
    "CS = plt.contour(X1, X2, Y)\n",
    "plt.clabel(CS, inline=1, fontsize=10)\n",
    "plt.title(r'Графік ліній рівного рівня $\\frac{\\sigma_{0.2}}{\\sigma_B}$')\n",
    "plt.xlabel('Вміст $Mg$, %')\n",
    "plt.ylabel('Вміст $Zn$, %')"
   ]
  },
  {
   "cell_type": "markdown",
   "metadata": {},
   "source": [
    "### Висновок\n",
    "\n",
    "Опанували методу планування експерименту типу “склад -\n",
    "властивості” та побудови математичних моделей високих порядків на прикладі\n",
    "дослідження сплаву системи $Al\\!-\\!Mg\\!-\\!Zn$.\n",
    "\n",
    "Була побудована модель 4-го порядку відгуки якої корелюють з експериментальними даними з коефіцієнтом 0.96."
   ]
  }
 ],
 "metadata": {
  "hide_input": false,
  "kernelspec": {
   "display_name": "Python 3",
   "language": "python",
   "name": "python3"
  },
  "language_info": {
   "codemirror_mode": {
    "name": "ipython",
    "version": 3
   },
   "file_extension": ".py",
   "mimetype": "text/x-python",
   "name": "python",
   "nbconvert_exporter": "python",
   "pygments_lexer": "ipython3",
   "version": "3.6.2"
  }
 },
 "nbformat": 4,
 "nbformat_minor": 2
}
