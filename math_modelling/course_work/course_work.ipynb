{
 "cells": [
  {
   "cell_type": "markdown",
   "metadata": {},
   "source": [
    "### Завдання №15\n",
    "\n",
    "1. По наведеним експериментальним даним побудувати математичні моделі межі текучості $G_T$ і відносного звуження $\\phi$:\n",
    "$$G_T = f_1(C,T_{\\textit{від}})\\\\\n",
    "\\phi = f_2(C, T_{\\textit{від}})$$\n",
    "Довести іх адекватність.\n",
    "\n",
    "2. Оптимізувати вміст вуглецю і температуру відпуску сталі з ціллю досягнення поєднання максимальних значень межі текучості $G_T$ і відносного звуження $\\phi \\geq 65$.\n",
    "\n",
    "3. Визначити вміст вуглецю і температуру відпуску сталі для отримання:\n",
    "$$420 \\leq G_T \\leq 520 \\\\\n",
    "67 \\leq \\phi \\leq 70$$\n",
    "\n",
    "Вихідні дані приведені в таблиці:\n",
    "<table style=\"undefined;table-layout: fixed; width: 350px\">\n",
    "<colgroup>\n",
    "<col style=\"width: 27px\">\n",
    "<col style=\"width: 51px\">\n",
    "<col style=\"width: 71px\">\n",
    "<col style=\"width: 35px\">\n",
    "<col style=\"width: 35px\">\n",
    "<col style=\"width: 35px\">\n",
    "<col style=\"width: 31px\">\n",
    "<col style=\"width: 34px\">\n",
    "<col style=\"width: 31px\">\n",
    "</colgroup>\n",
    "  <tr>\n",
    "    <th rowspan=\"2\">№</th>\n",
    "    <th rowspan=\"2\">C, %</th>\n",
    "    <th rowspan=\"2\">Tвід, °C</th>\n",
    "    <th colspan=\"3\">GT, МПа</th>\n",
    "    <th colspan=\"3\">φ, %</th>\n",
    "  </tr>\n",
    "  <tr>\n",
    "    <td>1</td>\n",
    "    <td>2</td>\n",
    "    <td>3</td>\n",
    "    <td>1</td>\n",
    "    <td>2</td>\n",
    "    <td>3</td>\n",
    "  </tr>\n",
    "  <tr>\n",
    "    <td>1</td>\n",
    "    <td>0.3</td>\n",
    "    <td>400</td>\n",
    "    <td>550</td>\n",
    "    <td>540</td>\n",
    "    <td>545</td>\n",
    "    <td>66</td>\n",
    "    <td>65</td>\n",
    "    <td>64</td>\n",
    "  </tr>\n",
    "  <tr>\n",
    "    <td>2</td>\n",
    "    <td>0.3</td>\n",
    "    <td>500</td>\n",
    "    <td>490</td>\n",
    "    <td>490</td>\n",
    "    <td>490</td>\n",
    "    <td>71</td>\n",
    "    <td>70</td>\n",
    "    <td>73</td>\n",
    "  </tr>\n",
    "  <tr>\n",
    "    <td>3</td>\n",
    "    <td>0.3</td>\n",
    "    <td>600</td>\n",
    "    <td>400</td>\n",
    "    <td>400</td>\n",
    "    <td>400</td>\n",
    "    <td>78</td>\n",
    "    <td>77</td>\n",
    "    <td>75</td>\n",
    "  </tr>\n",
    "  <tr>\n",
    "    <td>4</td>\n",
    "    <td>0.35</td>\n",
    "    <td>400</td>\n",
    "    <td>630</td>\n",
    "    <td>630</td>\n",
    "    <td>635</td>\n",
    "    <td>61</td>\n",
    "    <td>60</td>\n",
    "    <td>59</td>\n",
    "  </tr>\n",
    "  <tr>\n",
    "    <td>5</td>\n",
    "    <td>0.35</td>\n",
    "    <td>500</td>\n",
    "    <td>540</td>\n",
    "    <td>546</td>\n",
    "    <td>543</td>\n",
    "    <td>67</td>\n",
    "    <td>67</td>\n",
    "    <td>67</td>\n",
    "  </tr>\n",
    "  <tr>\n",
    "    <td>6</td>\n",
    "    <td>0.35</td>\n",
    "    <td>600</td>\n",
    "    <td>420</td>\n",
    "    <td>421</td>\n",
    "    <td>420</td>\n",
    "    <td>74</td>\n",
    "    <td>73</td>\n",
    "    <td>73</td>\n",
    "  </tr>\n",
    "  <tr>\n",
    "    <td>7</td>\n",
    "    <td>0.4</td>\n",
    "    <td>400</td>\n",
    "    <td>700</td>\n",
    "    <td>705</td>\n",
    "    <td>720</td>\n",
    "    <td>58</td>\n",
    "    <td>69</td>\n",
    "    <td>59</td>\n",
    "  </tr>\n",
    "  <tr>\n",
    "    <td>8</td>\n",
    "    <td>0.4</td>\n",
    "    <td>500</td>\n",
    "    <td>590</td>\n",
    "    <td>587</td>\n",
    "    <td>590</td>\n",
    "    <td>65</td>\n",
    "    <td>66</td>\n",
    "    <td>67</td>\n",
    "  </tr>\n",
    "  <tr>\n",
    "    <td>9</td>\n",
    "    <td>0.4</td>\n",
    "    <td>600</td>\n",
    "    <td>450</td>\n",
    "    <td>455</td>\n",
    "    <td>450</td>\n",
    "    <td>71</td>\n",
    "    <td>72</td>\n",
    "    <td>71</td>\n",
    "  </tr>\n",
    "</table>\n",
    "\n",
    "Якщо в пунктах 2 та 3 розв'язки не будуть визначені, то змінити задані межі властивостей у відповідності до методу послідовних поступок."
   ]
  },
  {
   "cell_type": "markdown",
   "metadata": {},
   "source": [
    "### Необхідні матеріали"
   ]
  },
  {
   "cell_type": "code",
   "execution_count": 1,
   "metadata": {},
   "outputs": [],
   "source": [
    "from IPython.display import Latex\n",
    "import matplotlib.pyplot as plt\n",
    "%matplotlib inline\n",
    "\n",
    "import pandas as pd\n",
    "import numpy as np\n",
    "from sklearn.linear_model import LinearRegression\n",
    "from sklearn.metrics import r2_score"
   ]
  },
  {
   "cell_type": "markdown",
   "metadata": {},
   "source": [
    "### Виконання\n",
    "\n",
    "#### Побудова математичних моделей\n",
    "Зчитуємо дані властивостей `X`: концентрацію (%) та температуру відпуску (°C). Для кожного спостереження відгуків `G_T` та `phi` шукаємо середнє медіанне:"
   ]
  },
  {
   "cell_type": "code",
   "execution_count": 2,
   "metadata": {
    "collapsed": true
   },
   "outputs": [],
   "source": [
    "X = np.genfromtxt('X.csv', delimiter=',')\n",
    "G_T = np.median(np.genfromtxt('G_T.csv', delimiter=','), axis=1)\n",
    "phi = np.median(np.genfromtxt('phi.csv', delimiter=','), axis=1)"
   ]
  },
  {
   "cell_type": "markdown",
   "metadata": {},
   "source": [
    "По зчитаним даним створюємо математичні моделі $f_1$ і $f_2$ для межі текучості $G_T$ і відносного звуження $ϕ$ відповідно. Як математичну модель використовуємо лінійну регресію:"
   ]
  },
  {
   "cell_type": "code",
   "execution_count": 3,
   "metadata": {},
   "outputs": [
    {
     "data": {
      "text/plain": [
       "LinearRegression(copy_X=True, fit_intercept=True, n_jobs=1, normalize=False)"
      ]
     },
     "execution_count": 3,
     "metadata": {},
     "output_type": "execute_result"
    }
   ],
   "source": [
    "f1 = LinearRegression()\n",
    "f1.fit(X, G_T)\n",
    "\n",
    "f2 = LinearRegression()\n",
    "f2.fit(X, phi)"
   ]
  },
  {
   "cell_type": "markdown",
   "metadata": {},
   "source": [
    "Інтерпретуємо моделі:"
   ]
  },
  {
   "cell_type": "code",
   "execution_count": 4,
   "metadata": {},
   "outputs": [
    {
     "data": {
      "text/latex": [
       "$f_1(C,T_{\\textit{від}}) = 677 + 1033\\,C -1.02\\,T_{\\textit{від}} \\\\ f_2(C,T_{\\textit{від}}) = 57 -57\\,C + 0.06\\,T_{\\textit{від}}$"
      ],
      "text/plain": [
       "<IPython.core.display.Latex object>"
      ]
     },
     "execution_count": 4,
     "metadata": {},
     "output_type": "execute_result"
    }
   ],
   "source": [
    "Latex('$f_1(C,T_{\\\\textit{від}}) = %.0f + %.0f\\,C %.2f\\,T_{\\\\textit{від}} \\\\\\ f_2(C,T_{\\\\textit{від}}) = %.0f %.0f\\,C + %.2f\\,T_{\\\\textit{від}}$' % (f1.intercept_, *f1.coef_, f2.intercept_, *f2.coef_))"
   ]
  },
  {
   "cell_type": "markdown",
   "metadata": {},
   "source": [
    "Оцінимо коефіцієнти кореляції між відгуками даних моделей з експериментальними даними:"
   ]
  },
  {
   "cell_type": "code",
   "execution_count": 13,
   "metadata": {
    "scrolled": true
   },
   "outputs": [
    {
     "data": {
      "text/latex": [
       "$R_1^2 = 0.96, \\; R_2^2 = 0.98$"
      ],
      "text/plain": [
       "<IPython.core.display.Latex object>"
      ]
     },
     "execution_count": 13,
     "metadata": {},
     "output_type": "execute_result"
    }
   ],
   "source": [
    "R1 = f1.score(X, G_T)\n",
    "R2 = f2.score(X, phi)\n",
    "Latex(f\"$R_1^2 = {R1:.2f}, \\; R_2^2 = {R2:.2f}$\")"
   ]
  },
  {
   "cell_type": "markdown",
   "metadata": {},
   "source": [
    "Для обох моделей коефіцієнт кореляції більше 95%, що свідчить про адекватність даних моделей."
   ]
  },
  {
   "cell_type": "markdown",
   "metadata": {},
   "source": [
    "#### Оптимізація\n",
    "\n",
    "Маємо табличне представлення даних:"
   ]
  },
  {
   "cell_type": "code",
   "execution_count": 6,
   "metadata": {},
   "outputs": [
    {
     "data": {
      "text/html": [
       "<div>\n",
       "<style>\n",
       "    .dataframe thead tr:only-child th {\n",
       "        text-align: right;\n",
       "    }\n",
       "\n",
       "    .dataframe thead th {\n",
       "        text-align: left;\n",
       "    }\n",
       "\n",
       "    .dataframe tbody tr th {\n",
       "        vertical-align: top;\n",
       "    }\n",
       "</style>\n",
       "<table border=\"1\" class=\"dataframe\">\n",
       "  <thead>\n",
       "    <tr style=\"text-align: right;\">\n",
       "      <th></th>\n",
       "      <th>C</th>\n",
       "      <th>T</th>\n",
       "      <th>G_T</th>\n",
       "      <th>phi</th>\n",
       "    </tr>\n",
       "  </thead>\n",
       "  <tbody>\n",
       "    <tr>\n",
       "      <th>0</th>\n",
       "      <td>0.30</td>\n",
       "      <td>400.0</td>\n",
       "      <td>545.0</td>\n",
       "      <td>65.0</td>\n",
       "    </tr>\n",
       "    <tr>\n",
       "      <th>1</th>\n",
       "      <td>0.30</td>\n",
       "      <td>500.0</td>\n",
       "      <td>490.0</td>\n",
       "      <td>71.0</td>\n",
       "    </tr>\n",
       "    <tr>\n",
       "      <th>2</th>\n",
       "      <td>0.30</td>\n",
       "      <td>600.0</td>\n",
       "      <td>400.0</td>\n",
       "      <td>77.0</td>\n",
       "    </tr>\n",
       "    <tr>\n",
       "      <th>3</th>\n",
       "      <td>0.35</td>\n",
       "      <td>400.0</td>\n",
       "      <td>630.0</td>\n",
       "      <td>60.0</td>\n",
       "    </tr>\n",
       "    <tr>\n",
       "      <th>4</th>\n",
       "      <td>0.35</td>\n",
       "      <td>500.0</td>\n",
       "      <td>543.0</td>\n",
       "      <td>67.0</td>\n",
       "    </tr>\n",
       "    <tr>\n",
       "      <th>5</th>\n",
       "      <td>0.35</td>\n",
       "      <td>600.0</td>\n",
       "      <td>420.0</td>\n",
       "      <td>73.0</td>\n",
       "    </tr>\n",
       "    <tr>\n",
       "      <th>6</th>\n",
       "      <td>0.40</td>\n",
       "      <td>400.0</td>\n",
       "      <td>705.0</td>\n",
       "      <td>59.0</td>\n",
       "    </tr>\n",
       "    <tr>\n",
       "      <th>7</th>\n",
       "      <td>0.40</td>\n",
       "      <td>500.0</td>\n",
       "      <td>590.0</td>\n",
       "      <td>66.0</td>\n",
       "    </tr>\n",
       "    <tr>\n",
       "      <th>8</th>\n",
       "      <td>0.40</td>\n",
       "      <td>600.0</td>\n",
       "      <td>450.0</td>\n",
       "      <td>71.0</td>\n",
       "    </tr>\n",
       "  </tbody>\n",
       "</table>\n",
       "</div>"
      ],
      "text/plain": [
       "      C      T    G_T   phi\n",
       "0  0.30  400.0  545.0  65.0\n",
       "1  0.30  500.0  490.0  71.0\n",
       "2  0.30  600.0  400.0  77.0\n",
       "3  0.35  400.0  630.0  60.0\n",
       "4  0.35  500.0  543.0  67.0\n",
       "5  0.35  600.0  420.0  73.0\n",
       "6  0.40  400.0  705.0  59.0\n",
       "7  0.40  500.0  590.0  66.0\n",
       "8  0.40  600.0  450.0  71.0"
      ]
     },
     "execution_count": 6,
     "metadata": {},
     "output_type": "execute_result"
    }
   ],
   "source": [
    "df = pd.DataFrame({'C':X[:, 0], 'T':X[:, 1], 'G_T':G_T, 'phi':phi}, columns=['C', 'T', 'G_T', 'phi'])\n",
    "df"
   ]
  },
  {
   "cell_type": "markdown",
   "metadata": {},
   "source": [
    "Знайдемо вміст вуглецю (С) та температуру відпуску за яких отримується максимальна межа текучості. За умови, що відносне звуження $\\phi \\geq 65\\%$:"
   ]
  },
  {
   "cell_type": "code",
   "execution_count": 7,
   "metadata": {},
   "outputs": [
    {
     "data": {
      "text/plain": [
       "C        0.4\n",
       "T      500.0\n",
       "G_T    590.0\n",
       "phi     66.0\n",
       "Name: 7, dtype: float64"
      ]
     },
     "execution_count": 7,
     "metadata": {},
     "output_type": "execute_result"
    }
   ],
   "source": [
    "df[df.phi >= 65].sort_values('G_T', ascending=False).iloc[0]"
   ]
  },
  {
   "cell_type": "markdown",
   "metadata": {},
   "source": [
    "Отримуємо: $C = 0.4\\,\\%$ і $T_{\\textit{від}} = 500\\,°C$. При цьому максимальна межа текучості становить $G_T = 590\\,\\text{МПа}$."
   ]
  },
  {
   "cell_type": "markdown",
   "metadata": {},
   "source": [
    "Визначимо вміст вуглецю і температуру відпуску сталі для отримання:\n",
    "$$420 \\leq G_T \\leq 520 \\\\\n",
    "67 \\leq \\phi \\leq 70$$"
   ]
  },
  {
   "cell_type": "code",
   "execution_count": 8,
   "metadata": {},
   "outputs": [
    {
     "data": {
      "text/html": [
       "<div>\n",
       "<style>\n",
       "    .dataframe thead tr:only-child th {\n",
       "        text-align: right;\n",
       "    }\n",
       "\n",
       "    .dataframe thead th {\n",
       "        text-align: left;\n",
       "    }\n",
       "\n",
       "    .dataframe tbody tr th {\n",
       "        vertical-align: top;\n",
       "    }\n",
       "</style>\n",
       "<table border=\"1\" class=\"dataframe\">\n",
       "  <thead>\n",
       "    <tr style=\"text-align: right;\">\n",
       "      <th></th>\n",
       "      <th>C</th>\n",
       "      <th>T</th>\n",
       "      <th>G_T</th>\n",
       "      <th>phi</th>\n",
       "    </tr>\n",
       "  </thead>\n",
       "  <tbody>\n",
       "  </tbody>\n",
       "</table>\n",
       "</div>"
      ],
      "text/plain": [
       "Empty DataFrame\n",
       "Columns: [C, T, G_T, phi]\n",
       "Index: []"
      ]
     },
     "execution_count": 8,
     "metadata": {},
     "output_type": "execute_result"
    }
   ],
   "source": [
    "df[((df.G_T >= 420) & (df.G_T <= 520)) & ((df.phi >= 67) & (df.phi <= 70))]"
   ]
  },
  {
   "cell_type": "markdown",
   "metadata": {},
   "source": [
    "В таблиці не існує даних, які задовільнили б такі умови. Перевіримо умови для межі текучості та відносного звуження окремо:"
   ]
  },
  {
   "cell_type": "code",
   "execution_count": 9,
   "metadata": {},
   "outputs": [
    {
     "data": {
      "text/html": [
       "<div>\n",
       "<style>\n",
       "    .dataframe thead tr:only-child th {\n",
       "        text-align: right;\n",
       "    }\n",
       "\n",
       "    .dataframe thead th {\n",
       "        text-align: left;\n",
       "    }\n",
       "\n",
       "    .dataframe tbody tr th {\n",
       "        vertical-align: top;\n",
       "    }\n",
       "</style>\n",
       "<table border=\"1\" class=\"dataframe\">\n",
       "  <thead>\n",
       "    <tr style=\"text-align: right;\">\n",
       "      <th></th>\n",
       "      <th>C</th>\n",
       "      <th>T</th>\n",
       "      <th>G_T</th>\n",
       "      <th>phi</th>\n",
       "    </tr>\n",
       "  </thead>\n",
       "  <tbody>\n",
       "    <tr>\n",
       "      <th>1</th>\n",
       "      <td>0.30</td>\n",
       "      <td>500.0</td>\n",
       "      <td>490.0</td>\n",
       "      <td>71.0</td>\n",
       "    </tr>\n",
       "    <tr>\n",
       "      <th>5</th>\n",
       "      <td>0.35</td>\n",
       "      <td>600.0</td>\n",
       "      <td>420.0</td>\n",
       "      <td>73.0</td>\n",
       "    </tr>\n",
       "    <tr>\n",
       "      <th>8</th>\n",
       "      <td>0.40</td>\n",
       "      <td>600.0</td>\n",
       "      <td>450.0</td>\n",
       "      <td>71.0</td>\n",
       "    </tr>\n",
       "  </tbody>\n",
       "</table>\n",
       "</div>"
      ],
      "text/plain": [
       "      C      T    G_T   phi\n",
       "1  0.30  500.0  490.0  71.0\n",
       "5  0.35  600.0  420.0  73.0\n",
       "8  0.40  600.0  450.0  71.0"
      ]
     },
     "execution_count": 9,
     "metadata": {},
     "output_type": "execute_result"
    }
   ],
   "source": [
    "df[((df.G_T >= 420) & (df.G_T <= 520))]"
   ]
  },
  {
   "cell_type": "code",
   "execution_count": 10,
   "metadata": {},
   "outputs": [
    {
     "data": {
      "text/html": [
       "<div>\n",
       "<style>\n",
       "    .dataframe thead tr:only-child th {\n",
       "        text-align: right;\n",
       "    }\n",
       "\n",
       "    .dataframe thead th {\n",
       "        text-align: left;\n",
       "    }\n",
       "\n",
       "    .dataframe tbody tr th {\n",
       "        vertical-align: top;\n",
       "    }\n",
       "</style>\n",
       "<table border=\"1\" class=\"dataframe\">\n",
       "  <thead>\n",
       "    <tr style=\"text-align: right;\">\n",
       "      <th></th>\n",
       "      <th>C</th>\n",
       "      <th>T</th>\n",
       "      <th>G_T</th>\n",
       "      <th>phi</th>\n",
       "    </tr>\n",
       "  </thead>\n",
       "  <tbody>\n",
       "    <tr>\n",
       "      <th>4</th>\n",
       "      <td>0.35</td>\n",
       "      <td>500.0</td>\n",
       "      <td>543.0</td>\n",
       "      <td>67.0</td>\n",
       "    </tr>\n",
       "  </tbody>\n",
       "</table>\n",
       "</div>"
      ],
      "text/plain": [
       "      C      T    G_T   phi\n",
       "4  0.35  500.0  543.0  67.0"
      ]
     },
     "execution_count": 10,
     "metadata": {},
     "output_type": "execute_result"
    }
   ],
   "source": [
    "df[((df.phi >= 67) & (df.phi <= 70))]"
   ]
  },
  {
   "cell_type": "markdown",
   "metadata": {},
   "source": [
    "Приймаємо рішення розширити інтервал для відносного звуження:\n",
    "$$ 67 \\leq \\phi \\leq 71$$"
   ]
  },
  {
   "cell_type": "code",
   "execution_count": 11,
   "metadata": {},
   "outputs": [
    {
     "data": {
      "text/html": [
       "<div>\n",
       "<style>\n",
       "    .dataframe thead tr:only-child th {\n",
       "        text-align: right;\n",
       "    }\n",
       "\n",
       "    .dataframe thead th {\n",
       "        text-align: left;\n",
       "    }\n",
       "\n",
       "    .dataframe tbody tr th {\n",
       "        vertical-align: top;\n",
       "    }\n",
       "</style>\n",
       "<table border=\"1\" class=\"dataframe\">\n",
       "  <thead>\n",
       "    <tr style=\"text-align: right;\">\n",
       "      <th></th>\n",
       "      <th>C</th>\n",
       "      <th>T</th>\n",
       "      <th>G_T</th>\n",
       "      <th>phi</th>\n",
       "    </tr>\n",
       "  </thead>\n",
       "  <tbody>\n",
       "    <tr>\n",
       "      <th>1</th>\n",
       "      <td>0.3</td>\n",
       "      <td>500.0</td>\n",
       "      <td>490.0</td>\n",
       "      <td>71.0</td>\n",
       "    </tr>\n",
       "    <tr>\n",
       "      <th>8</th>\n",
       "      <td>0.4</td>\n",
       "      <td>600.0</td>\n",
       "      <td>450.0</td>\n",
       "      <td>71.0</td>\n",
       "    </tr>\n",
       "  </tbody>\n",
       "</table>\n",
       "</div>"
      ],
      "text/plain": [
       "     C      T    G_T   phi\n",
       "1  0.3  500.0  490.0  71.0\n",
       "8  0.4  600.0  450.0  71.0"
      ]
     },
     "execution_count": 11,
     "metadata": {},
     "output_type": "execute_result"
    }
   ],
   "source": [
    "df[((df.G_T >= 420) & (df.G_T <= 520)) & ((df.phi >= 67) & (df.phi <= 71))]"
   ]
  }
 ],
 "metadata": {
  "hide_input": false,
  "kernelspec": {
   "display_name": "Python 3",
   "language": "python",
   "name": "python3"
  },
  "language_info": {
   "codemirror_mode": {
    "name": "ipython",
    "version": 3
   },
   "file_extension": ".py",
   "mimetype": "text/x-python",
   "name": "python",
   "nbconvert_exporter": "python",
   "pygments_lexer": "ipython3",
   "version": "3.6.2"
  }
 },
 "nbformat": 4,
 "nbformat_minor": 2
}
