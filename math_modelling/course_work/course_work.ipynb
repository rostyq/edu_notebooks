{
 "cells": [
  {
   "cell_type": "markdown",
   "metadata": {},
   "source": [
    "### Завдання №15\n",
    "\n",
    "1. По наведеним експериментальним даним побудувати математичні моделі межі текучості $G_T$ і відносного звуження $\\phi$:\n",
    "$$G_T = f_1(C,T_{\\textit{від}})\\\\\n",
    "\\phi = f_2(C, T_{\\textit{від}})$$\n",
    "Довести іх адекватність.\n",
    "\n",
    "2. Оптимізувати вміст вуглецю і температуру відпуску сталі з ціллю досягнення поєднання максимальних значень межі текучості $G_T$ і відносного звуження $\\phi \\geq 65$.\n",
    "\n",
    "3. Визначити вміст вуглецю і температуру відпуску сталі для отримання:\n",
    "$$420 \\leq G_T \\leq 520 \\\\\n",
    "67 \\leq \\phi \\leq 70$$\n",
    "\n",
    "Вихідні дані приведені в таблиці:\n",
    "<table style=\"undefined;table-layout: fixed; width: 350px\">\n",
    "<colgroup>\n",
    "<col style=\"width: 27px\">\n",
    "<col style=\"width: 51px\">\n",
    "<col style=\"width: 71px\">\n",
    "<col style=\"width: 35px\">\n",
    "<col style=\"width: 35px\">\n",
    "<col style=\"width: 35px\">\n",
    "<col style=\"width: 31px\">\n",
    "<col style=\"width: 34px\">\n",
    "<col style=\"width: 31px\">\n",
    "</colgroup>\n",
    "  <tr>\n",
    "    <th rowspan=\"2\">№</th>\n",
    "    <th rowspan=\"2\">C, %</th>\n",
    "    <th rowspan=\"2\">Tвід, °C</th>\n",
    "    <th colspan=\"3\">GT, МПа</th>\n",
    "    <th colspan=\"3\">φ, %</th>\n",
    "  </tr>\n",
    "  <tr>\n",
    "    <td>1</td>\n",
    "    <td>2</td>\n",
    "    <td>3</td>\n",
    "    <td>1</td>\n",
    "    <td>2</td>\n",
    "    <td>3</td>\n",
    "  </tr>\n",
    "  <tr>\n",
    "    <td>1</td>\n",
    "    <td>0.3</td>\n",
    "    <td>400</td>\n",
    "    <td>550</td>\n",
    "    <td>540</td>\n",
    "    <td>545</td>\n",
    "    <td>66</td>\n",
    "    <td>65</td>\n",
    "    <td>64</td>\n",
    "  </tr>\n",
    "  <tr>\n",
    "    <td>2</td>\n",
    "    <td>0.3</td>\n",
    "    <td>500</td>\n",
    "    <td>490</td>\n",
    "    <td>490</td>\n",
    "    <td>490</td>\n",
    "    <td>71</td>\n",
    "    <td>70</td>\n",
    "    <td>73</td>\n",
    "  </tr>\n",
    "  <tr>\n",
    "    <td>3</td>\n",
    "    <td>0.3</td>\n",
    "    <td>600</td>\n",
    "    <td>400</td>\n",
    "    <td>400</td>\n",
    "    <td>400</td>\n",
    "    <td>78</td>\n",
    "    <td>77</td>\n",
    "    <td>75</td>\n",
    "  </tr>\n",
    "  <tr>\n",
    "    <td>4</td>\n",
    "    <td>0.35</td>\n",
    "    <td>400</td>\n",
    "    <td>630</td>\n",
    "    <td>630</td>\n",
    "    <td>635</td>\n",
    "    <td>61</td>\n",
    "    <td>60</td>\n",
    "    <td>59</td>\n",
    "  </tr>\n",
    "  <tr>\n",
    "    <td>5</td>\n",
    "    <td>0.35</td>\n",
    "    <td>500</td>\n",
    "    <td>540</td>\n",
    "    <td>546</td>\n",
    "    <td>543</td>\n",
    "    <td>67</td>\n",
    "    <td>67</td>\n",
    "    <td>67</td>\n",
    "  </tr>\n",
    "  <tr>\n",
    "    <td>6</td>\n",
    "    <td>0.35</td>\n",
    "    <td>600</td>\n",
    "    <td>420</td>\n",
    "    <td>421</td>\n",
    "    <td>420</td>\n",
    "    <td>74</td>\n",
    "    <td>73</td>\n",
    "    <td>73</td>\n",
    "  </tr>\n",
    "  <tr>\n",
    "    <td>7</td>\n",
    "    <td>0.4</td>\n",
    "    <td>400</td>\n",
    "    <td>700</td>\n",
    "    <td>705</td>\n",
    "    <td>720</td>\n",
    "    <td>58</td>\n",
    "    <td>69</td>\n",
    "    <td>59</td>\n",
    "  </tr>\n",
    "  <tr>\n",
    "    <td>8</td>\n",
    "    <td>0.4</td>\n",
    "    <td>500</td>\n",
    "    <td>590</td>\n",
    "    <td>587</td>\n",
    "    <td>590</td>\n",
    "    <td>65</td>\n",
    "    <td>66</td>\n",
    "    <td>67</td>\n",
    "  </tr>\n",
    "  <tr>\n",
    "    <td>9</td>\n",
    "    <td>0.4</td>\n",
    "    <td>600</td>\n",
    "    <td>450</td>\n",
    "    <td>455</td>\n",
    "    <td>450</td>\n",
    "    <td>71</td>\n",
    "    <td>72</td>\n",
    "    <td>71</td>\n",
    "  </tr>\n",
    "</table>\n",
    "\n",
    "Якщо в пунктах 2 та 3 розв'язки не будуть визначені, то змінити задані межі властивостей у відповідності до методу послідовних поступок."
   ]
  },
  {
   "cell_type": "markdown",
   "metadata": {},
   "source": [
    "### Необхідні матеріали"
   ]
  },
  {
   "cell_type": "code",
   "execution_count": 1,
   "metadata": {
    "collapsed": true
   },
   "outputs": [],
   "source": [
    "from IPython.display import Latex\n",
    "import numpy as np\n",
    "from sklearn.linear_model import LinearRegression\n",
    "from scipy.optimize import minimize"
   ]
  },
  {
   "cell_type": "markdown",
   "metadata": {},
   "source": [
    "### Виконання\n",
    "\n",
    "#### Побудова математичних моделей\n",
    "Зчитуємо дані властивостей `X`: концентрацію (%) та температуру відпуску (°C). Для кожного спостереження відгуків `G_T` та `phi` шукаємо середнє медіанне:"
   ]
  },
  {
   "cell_type": "code",
   "execution_count": 2,
   "metadata": {
    "collapsed": true
   },
   "outputs": [],
   "source": [
    "X = np.genfromtxt('X.csv', delimiter=',')\n",
    "G_T = np.median(np.genfromtxt('G_T.csv', delimiter=','), axis=1)\n",
    "phi = np.median(np.genfromtxt('phi.csv', delimiter=','), axis=1)"
   ]
  },
  {
   "cell_type": "markdown",
   "metadata": {},
   "source": [
    "По зчитаним даним створюємо математичні моделі $f_1$ і $f_2$ для межі текучості $G_T$ і відносного звуження $ϕ$ відповідно. Як математичну модель використовуємо лінійну регресію:"
   ]
  },
  {
   "cell_type": "code",
   "execution_count": 3,
   "metadata": {},
   "outputs": [
    {
     "data": {
      "text/plain": [
       "LinearRegression(copy_X=True, fit_intercept=True, n_jobs=1, normalize=False)"
      ]
     },
     "execution_count": 3,
     "metadata": {},
     "output_type": "execute_result"
    }
   ],
   "source": [
    "f1 = LinearRegression()\n",
    "f1.fit(X, G_T)\n",
    "\n",
    "f2 = LinearRegression()\n",
    "f2.fit(X, phi)"
   ]
  },
  {
   "cell_type": "markdown",
   "metadata": {},
   "source": [
    "Інтерпретуємо моделі:"
   ]
  },
  {
   "cell_type": "code",
   "execution_count": 4,
   "metadata": {},
   "outputs": [
    {
     "data": {
      "text/latex": [
       "$f_1(C,T_{\\textit{від}}) = 677 + 1033\\,C -1.02\\,T_{\\textit{від}} \\\\ f_2(C,T_{\\textit{від}}) = 57 -57\\,C + 0.06\\,T_{\\textit{від}}$"
      ],
      "text/plain": [
       "<IPython.core.display.Latex object>"
      ]
     },
     "execution_count": 4,
     "metadata": {},
     "output_type": "execute_result"
    }
   ],
   "source": [
    "Latex(r'$f_1(C,T_{\\textit{від}}) = %.0f + %.0f\\,C %.2f\\,T_{\\textit{від}} \\\\ f_2(C,T_{\\textit{від}}) = %.0f %.0f\\,C + %.2f\\,T_{\\textit{від}}$' % (f1.intercept_, *f1.coef_, f2.intercept_, *f2.coef_))"
   ]
  },
  {
   "cell_type": "markdown",
   "metadata": {},
   "source": [
    "Оцінимо коефіцієнти кореляції між відгуками даних моделей з експериментальними даними:"
   ]
  },
  {
   "cell_type": "code",
   "execution_count": 5,
   "metadata": {
    "scrolled": true
   },
   "outputs": [
    {
     "data": {
      "text/latex": [
       "$R_1^2 = 0.96, \\; R_2^2 = 0.98$"
      ],
      "text/plain": [
       "<IPython.core.display.Latex object>"
      ]
     },
     "execution_count": 5,
     "metadata": {},
     "output_type": "execute_result"
    }
   ],
   "source": [
    "R1 = f1.score(X, G_T)\n",
    "R2 = f2.score(X, phi)\n",
    "Latex(f\"$R_1^2 = {R1:.2f}, \\; R_2^2 = {R2:.2f}$\")"
   ]
  },
  {
   "cell_type": "markdown",
   "metadata": {},
   "source": [
    "Для обох моделей коефіцієнт кореляції більше 95%, що свідчить про адекватність даних моделей."
   ]
  },
  {
   "cell_type": "markdown",
   "metadata": {},
   "source": [
    "#### Оптимізація\n",
    "\n"
   ]
  },
  {
   "cell_type": "markdown",
   "metadata": {},
   "source": [
    "Знайдемо вміст вуглецю (С) та температуру відпуску за яких отримується максимальна межа текучості. За умови, що відносне звуження $\\phi \\geq 65\\%$:"
   ]
  },
  {
   "cell_type": "markdown",
   "metadata": {},
   "source": [
    "Визначимо додаткові функції, які повертають від'ємне значення функцій $f_1, f_2$. Така потреба зумовлена функцією мінімізації, тобто мінімізовуючи від'ємну функцію виконується задача максимізації:"
   ]
  },
  {
   "cell_type": "code",
   "execution_count": 6,
   "metadata": {
    "collapsed": true,
    "run_control": {
     "marked": false
    }
   },
   "outputs": [],
   "source": [
    "def F1(args):\n",
    "    return -f1.predict([args])\n",
    "\n",
    "def F2(args):\n",
    "    return -f2.predict([args])"
   ]
  },
  {
   "cell_type": "markdown",
   "metadata": {},
   "source": [
    "Накладаємо на оптимізатор обмеження $\\phi \\geq 65\\,\\%$ і знаходимо значення параметрів при яких отримаємо максимальне значення межі текучості:"
   ]
  },
  {
   "cell_type": "code",
   "execution_count": 7,
   "metadata": {},
   "outputs": [
    {
     "data": {
      "text/latex": [
       "Отримуємо: $C = 0.4\\,\\%$ і $T_{\\textit{від}} = 503\\,°C$. При цьому $G_T = 579\\,\\text{МПа}, \\phi = 65\\,\\%$."
      ],
      "text/plain": [
       "<IPython.core.display.Latex object>"
      ]
     },
     "execution_count": 7,
     "metadata": {},
     "output_type": "execute_result"
    }
   ],
   "source": [
    "constr1 = {'type':'ineq', 'fun':lambda x: -F2(x) - 65}\n",
    "opt1 = minimize(F1, [0.31, 401], bounds=((0.3, 0.4), (400, 600)), constraints=constr1, tol=1e-5)\n",
    "Latex(r\"Отримуємо: $C = %.1f\\,\\%%$ і $T_{\\textit{від}} = %.0f\\,°C$. При цьому $G_T = %.0f\\,\\text{МПа}, \\phi = %.0f\\,\\%%$.\"%(*opt1.x, -opt1.fun, f2.predict([opt1.x])))"
   ]
  },
  {
   "cell_type": "markdown",
   "metadata": {},
   "source": [
    "Визначимо вміст вуглецю і температуру відпуску сталі для отримання:\n",
    "$$420 \\leq G_T \\leq 520 \\\\\n",
    "67 \\leq \\phi \\leq 70$$\n",
    "\n",
    "Як ОПР визначаємо межу текучості як більш пріорітетну властивість. Далі проводимо оптимізацію функції $f_1$ з урахуванням вищевказаних обмежень:"
   ]
  },
  {
   "cell_type": "code",
   "execution_count": 8,
   "metadata": {},
   "outputs": [
    {
     "data": {
      "text/latex": [
       "Отримуємо: $C = 0.3\\,\\%$ і $T_{\\textit{від}} = 459\\,°C$. При цьому $G_T = 520\\,\\text{МПа}, \\phi = 68\\,\\%$."
      ],
      "text/plain": [
       "<IPython.core.display.Latex object>"
      ]
     },
     "execution_count": 8,
     "metadata": {},
     "output_type": "execute_result"
    }
   ],
   "source": [
    "constr2 = [{'type':'ineq', 'fun':lambda x: F1(x) + 520},\n",
    "           {'type':'ineq', 'fun':lambda x: -F1(x) - 420},\n",
    "           {'type':'ineq', 'fun':lambda x: F2(x) + 70},\n",
    "           {'type':'ineq', 'fun':lambda x: -F2(x) - 67}]\n",
    "\n",
    "opt2 = minimize(F1, [0.35, 450], bounds=((0.3, 0.4), (400, 600)), constraints=constr2)\n",
    "Latex(r\"Отримуємо: $C = %.1f\\,\\%%$ і $T_{\\textit{від}} = %.0f\\,°C$. При цьому $G_T = %.0f\\,\\text{МПа}, \\phi = %.0f\\,\\%%$.\"%(*opt2.x, -opt2.fun, f2.predict([opt2.x])))"
   ]
  },
  {
   "cell_type": "markdown",
   "metadata": {},
   "source": [
    "Якщо визначити відносне звуження як більш приорітетну властивість, то:"
   ]
  },
  {
   "cell_type": "code",
   "execution_count": 9,
   "metadata": {},
   "outputs": [
    {
     "data": {
      "text/latex": [
       "отримуємо: $C = 0.3\\,\\%$ і $T_{\\textit{від}} = 492\\,°C$. При цьому $G_T = 487\\,\\text{МПа}, \\phi = 70\\,\\%$."
      ],
      "text/plain": [
       "<IPython.core.display.Latex object>"
      ]
     },
     "execution_count": 9,
     "metadata": {},
     "output_type": "execute_result"
    }
   ],
   "source": [
    "opt3 = minimize(F2, [0.35, 450], bounds=((0.3, 0.4), (400, 600)), constraints=constr2)\n",
    "Latex(r\"отримуємо: $C = %.1f\\,\\%%$ і $T_{\\textit{від}} = %.0f\\,°C$. При цьому $G_T = %.0f\\,\\text{МПа}, \\phi = %.0f\\,\\%%$.\"%(*opt3.x, f1.predict([opt3.x]), -opt3.fun))"
   ]
  }
 ],
 "metadata": {
  "hide_input": false,
  "kernelspec": {
   "display_name": "Python 3",
   "language": "python",
   "name": "python3"
  },
  "language_info": {
   "codemirror_mode": {
    "name": "ipython",
    "version": 3
   },
   "file_extension": ".py",
   "mimetype": "text/x-python",
   "name": "python",
   "nbconvert_exporter": "python",
   "pygments_lexer": "ipython3",
   "version": "3.6.2"
  }
 },
 "nbformat": 4,
 "nbformat_minor": 2
}
