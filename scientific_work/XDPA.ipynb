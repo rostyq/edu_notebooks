{
 "cells": [
  {
   "cell_type": "markdown",
   "metadata": {},
   "source": [
    "# X-ray diffraction phase analysis\n",
    "\n",
    "**Мета роботи:** навчитися проводити аналіз результатів, отриманих методом рентгеноструктурного фазового аналізу, – розраховувати міжплощинні відстані та розмір областей когерентного розсіювання."
   ]
  },
  {
   "cell_type": "code",
   "execution_count": 350,
   "metadata": {},
   "outputs": [
    {
     "data": {
      "text/html": [
       "<script>requirejs.config({paths: { 'plotly': ['https://cdn.plot.ly/plotly-latest.min']},});if(!window.Plotly) {{require(['plotly'],function(plotly) {window.Plotly=plotly;});}}</script>"
      ],
      "text/vnd.plotly.v1+html": [
       "<script>requirejs.config({paths: { 'plotly': ['https://cdn.plot.ly/plotly-latest.min']},});if(!window.Plotly) {{require(['plotly'],function(plotly) {window.Plotly=plotly;});}}</script>"
      ]
     },
     "metadata": {},
     "output_type": "display_data"
    }
   ],
   "source": [
    "import glob\n",
    "import pandas as pd\n",
    "import numpy as np\n",
    "import matplotlib.pyplot as plt\n",
    "import plotly.plotly as py\n",
    "import plotly.graph_objs as go\n",
    "from plotly.offline import init_notebook_mode\n",
    "init_notebook_mode(connected=True)"
   ]
  },
  {
   "cell_type": "markdown",
   "metadata": {},
   "source": [
    "## Хід виконання роботи"
   ]
  },
  {
   "cell_type": "markdown",
   "metadata": {},
   "source": [
    "Матеріал досліджуваної тонкої плівки, а також параметри її термічної обробки надаються викладачем. Також повідомляється матеріал аноду, у випромінюванні якого проводились рентгеноструктурні дослідження.\n",
    "\n",
    "> Досліджувались тонкі плівки FePt (30 нм) після відпалів у двох атмосферах - азоту і суміші аргону з воднем. \n",
    "\n",
    "**Досліджуваний плівковий матеріал** $FePt\\,(30\\,\\text{нм})$\n",
    "\n",
    "**Атмосфери в який відпалювався зразок** $H_2\\!+\\!Ar$ і $N_2$\n",
    "\n",
    "**Анодний матеріал** $Cu,\\, \\lambda_{Cu} = 1.54184\\,Å$\n",
    "\n",
    "**Температури відпалу** 500, 600, 700, 800 K"
   ]
  },
  {
   "cell_type": "code",
   "execution_count": 368,
   "metadata": {},
   "outputs": [
    {
     "data": {
      "text/plain": [
       "['500K', '600K', '700K', '800K']"
      ]
     },
     "execution_count": 368,
     "metadata": {},
     "output_type": "execute_result"
    }
   ],
   "source": [
    "Lambda = 1.54184\n",
    "temperatures = [f'{temperature}K' for temperature in range(500, 801, 100)]\n",
    "temperatures"
   ]
  },
  {
   "cell_type": "markdown",
   "metadata": {},
   "source": [
    "Будуються дифрактограми досліджуваної тонкої плівки з використанням наданих викладачем вихідних результатів рентгеноструктурного аналізу (дифрактограми будуються на одному графіку одна поверх іншої у порядку зростання температури відпалу)."
   ]
  },
  {
   "cell_type": "code",
   "execution_count": 332,
   "metadata": {},
   "outputs": [
    {
     "data": {
      "text/plain": [
       "{'Ar+H2': ['./data/XDPA/FePt_500_Ar+H2.txt',\n",
       "  './data/XDPA/FePt_600_Ar+H2.txt',\n",
       "  './data/XDPA/FePt_700_Ar+H2.txt',\n",
       "  './data/XDPA/FePt_800_Ar+H2.txt'],\n",
       " 'N2': ['./data/XDPA/FePt_500_N2.txt',\n",
       "  './data/XDPA/FePt_600_N2.txt',\n",
       "  './data/XDPA/FePt_700_N2.txt',\n",
       "  './data/XDPA/FePt_800_N2.txt']}"
      ]
     },
     "execution_count": 332,
     "metadata": {},
     "output_type": "execute_result"
    }
   ],
   "source": [
    "files = {\n",
    "    'N2': sorted(glob.glob('./data/XDPA/*N2.txt')),\n",
    "    'Ar+H2': sorted(glob.glob('./data/XDPA/*Ar+H2.txt')),\n",
    "}\n",
    "files"
   ]
  },
  {
   "cell_type": "code",
   "execution_count": 333,
   "metadata": {},
   "outputs": [
    {
     "data": {
      "text/html": [
       "<div>\n",
       "<style scoped>\n",
       "    .dataframe tbody tr th:only-of-type {\n",
       "        vertical-align: middle;\n",
       "    }\n",
       "\n",
       "    .dataframe tbody tr th {\n",
       "        vertical-align: top;\n",
       "    }\n",
       "\n",
       "    .dataframe thead th {\n",
       "        text-align: right;\n",
       "    }\n",
       "</style>\n",
       "<table border=\"1\" class=\"dataframe\">\n",
       "  <thead>\n",
       "    <tr style=\"text-align: right;\">\n",
       "      <th></th>\n",
       "      <th>afterdep</th>\n",
       "    </tr>\n",
       "    <tr>\n",
       "      <th>angle</th>\n",
       "      <th></th>\n",
       "    </tr>\n",
       "  </thead>\n",
       "  <tbody>\n",
       "    <tr>\n",
       "      <th>20.00</th>\n",
       "      <td>11.0</td>\n",
       "    </tr>\n",
       "    <tr>\n",
       "      <th>20.04</th>\n",
       "      <td>13.0</td>\n",
       "    </tr>\n",
       "    <tr>\n",
       "      <th>20.08</th>\n",
       "      <td>11.0</td>\n",
       "    </tr>\n",
       "    <tr>\n",
       "      <th>20.12</th>\n",
       "      <td>7.5</td>\n",
       "    </tr>\n",
       "    <tr>\n",
       "      <th>20.16</th>\n",
       "      <td>9.5</td>\n",
       "    </tr>\n",
       "  </tbody>\n",
       "</table>\n",
       "</div>"
      ],
      "text/plain": [
       "       afterdep\n",
       "angle          \n",
       "20.00      11.0\n",
       "20.04      13.0\n",
       "20.08      11.0\n",
       "20.12       7.5\n",
       "20.16       9.5"
      ]
     },
     "execution_count": 333,
     "metadata": {},
     "output_type": "execute_result"
    }
   ],
   "source": [
    "afterdep = pd.read_csv(glob.glob('./data/XDPA/*after_deposition.txt')[0],\n",
    "                   sep='\\t',\n",
    "                   header=-1,\n",
    "                   names=['angle', 'afterdep'],\n",
    "                      index_col=0)\n",
    "afterdep.head()"
   ]
  },
  {
   "cell_type": "code",
   "execution_count": 334,
   "metadata": {},
   "outputs": [
    {
     "data": {
      "text/html": [
       "<div>\n",
       "<style scoped>\n",
       "    .dataframe tbody tr th:only-of-type {\n",
       "        vertical-align: middle;\n",
       "    }\n",
       "\n",
       "    .dataframe tbody tr th {\n",
       "        vertical-align: top;\n",
       "    }\n",
       "\n",
       "    .dataframe thead tr th {\n",
       "        text-align: left;\n",
       "    }\n",
       "\n",
       "    .dataframe thead tr:last-of-type th {\n",
       "        text-align: right;\n",
       "    }\n",
       "</style>\n",
       "<table border=\"1\" class=\"dataframe\">\n",
       "  <thead>\n",
       "    <tr>\n",
       "      <th></th>\n",
       "      <th colspan=\"4\" halign=\"left\">N2</th>\n",
       "      <th colspan=\"4\" halign=\"left\">Ar+H2</th>\n",
       "    </tr>\n",
       "    <tr>\n",
       "      <th></th>\n",
       "      <th>500K</th>\n",
       "      <th>600K</th>\n",
       "      <th>700K</th>\n",
       "      <th>800K</th>\n",
       "      <th>500K</th>\n",
       "      <th>600K</th>\n",
       "      <th>700K</th>\n",
       "      <th>800K</th>\n",
       "    </tr>\n",
       "    <tr>\n",
       "      <th>angle</th>\n",
       "      <th></th>\n",
       "      <th></th>\n",
       "      <th></th>\n",
       "      <th></th>\n",
       "      <th></th>\n",
       "      <th></th>\n",
       "      <th></th>\n",
       "      <th></th>\n",
       "    </tr>\n",
       "  </thead>\n",
       "  <tbody>\n",
       "    <tr>\n",
       "      <th>20.00</th>\n",
       "      <td>23.0</td>\n",
       "      <td>17.0</td>\n",
       "      <td>11.66670</td>\n",
       "      <td>13.0</td>\n",
       "      <td>14.0</td>\n",
       "      <td>8.0</td>\n",
       "      <td>2.50000</td>\n",
       "      <td>17.0</td>\n",
       "    </tr>\n",
       "    <tr>\n",
       "      <th>20.04</th>\n",
       "      <td>12.0</td>\n",
       "      <td>11.0</td>\n",
       "      <td>7.50000</td>\n",
       "      <td>14.0</td>\n",
       "      <td>10.0</td>\n",
       "      <td>8.0</td>\n",
       "      <td>10.00000</td>\n",
       "      <td>21.0</td>\n",
       "    </tr>\n",
       "    <tr>\n",
       "      <th>20.08</th>\n",
       "      <td>17.0</td>\n",
       "      <td>8.0</td>\n",
       "      <td>11.66670</td>\n",
       "      <td>15.0</td>\n",
       "      <td>13.0</td>\n",
       "      <td>6.0</td>\n",
       "      <td>9.16667</td>\n",
       "      <td>11.0</td>\n",
       "    </tr>\n",
       "    <tr>\n",
       "      <th>20.12</th>\n",
       "      <td>12.0</td>\n",
       "      <td>18.0</td>\n",
       "      <td>8.33333</td>\n",
       "      <td>16.0</td>\n",
       "      <td>20.0</td>\n",
       "      <td>7.0</td>\n",
       "      <td>7.50000</td>\n",
       "      <td>19.0</td>\n",
       "    </tr>\n",
       "    <tr>\n",
       "      <th>20.16</th>\n",
       "      <td>11.0</td>\n",
       "      <td>18.0</td>\n",
       "      <td>7.50000</td>\n",
       "      <td>20.0</td>\n",
       "      <td>17.0</td>\n",
       "      <td>9.0</td>\n",
       "      <td>9.16667</td>\n",
       "      <td>14.0</td>\n",
       "    </tr>\n",
       "  </tbody>\n",
       "</table>\n",
       "</div>"
      ],
      "text/plain": [
       "         N2                       Ar+H2                     \n",
       "       500K  600K      700K  800K  500K 600K      700K  800K\n",
       "angle                                                       \n",
       "20.00  23.0  17.0  11.66670  13.0  14.0  8.0   2.50000  17.0\n",
       "20.04  12.0  11.0   7.50000  14.0  10.0  8.0  10.00000  21.0\n",
       "20.08  17.0   8.0  11.66670  15.0  13.0  6.0   9.16667  11.0\n",
       "20.12  12.0  18.0   8.33333  16.0  20.0  7.0   7.50000  19.0\n",
       "20.16  11.0  18.0   7.50000  20.0  17.0  9.0   9.16667  14.0"
      ]
     },
     "execution_count": 334,
     "metadata": {},
     "output_type": "execute_result"
    }
   ],
   "source": [
    "micolumns = pd.MultiIndex.from_tuples([(treat, T) for treat in ['N2', 'Ar+H2'] for T in temperatures])\n",
    "data = pd.DataFrame(columns=micolumns,\n",
    "                    index=afterdep.index)\n",
    "for treat, diffs in files.items():\n",
    "    for T, diff in zip(temperatures, diffs):\n",
    "        data[treat, T] = np.genfromtxt(diff, delimiter='\\t')[:, 1]\n",
    "data.head()"
   ]
  },
  {
   "cell_type": "code",
   "execution_count": 396,
   "metadata": {},
   "outputs": [
    {
     "data": {
      "image/png": "[encoded data removed]",
      "text/plain": [
       "<matplotlib.figure.Figure at 0x1c33061710>"
      ]
     },
     "metadata": {},
     "output_type": "display_data"
    }
   ],
   "source": [
    "latex_dct = {'N2': '$N_2$', 'Ar+H2': '$Ar\\!+\\!H_2$'}\n",
    "f, ax = plt.subplots(1, 2, sharex=True, sharey=True, figsize=(12, 8))\n",
    "for col, treat in enumerate(['N2', 'Ar+H2']):\n",
    "    afterdep.plot(ax=ax[col], label='After Deposition')\n",
    "    (data[treat] + np.linspace(1000, 5000, num=4)).plot(ax=ax[col], style=['-', '--', '-.', ':'])\n",
    "    ax[col].set_title(latex_dct[treat])\n",
    "    ax[col].set_ylabel(\"Інтенсивність, в.о.\")\n",
    "    ax[col].set_xlabel(r\"Кут дифракції $2\\theta$, ˚\")\n",
    "plt.tight_layout(1)\n",
    "plt.xlim(20.0, 60.0)\n",
    "plt.savefig('./report/images/xdpa_diffs.pdf')"
   ]
  },
  {
   "cell_type": "markdown",
   "metadata": {},
   "source": [
    "На кожній дифрактограмі нумеруються дифракційні максимуми і розраховуються відповідні міжплощинні відстані."
   ]
  },
  {
   "cell_type": "code",
   "execution_count": 351,
   "metadata": {},
   "outputs": [
    {
     "data": {
      "text/html": [
       "<iframe id=\"igraph\" scrolling=\"no\" style=\"border:none;\" seamless=\"seamless\" src=\"https://plot.ly/~rostyslav.db/26.embed\" height=\"525px\" width=\"100%\"></iframe>"
      ],
      "text/plain": [
       "<plotly.tools.PlotlyDisplay object>"
      ]
     },
     "execution_count": 351,
     "metadata": {},
     "output_type": "execute_result"
    }
   ],
   "source": [
    "traces = [go.Scatter(\n",
    "    x=data['N2', T].index,\n",
    "    y=data['N2', T],\n",
    "    name=T\n",
    ") for T in temperatures]\n",
    "py.iplot(traces, filename='basic-line')"
   ]
  },
  {
   "cell_type": "code",
   "execution_count": 346,
   "metadata": {},
   "outputs": [
    {
     "data": {
      "text/html": [
       "<script>requirejs.config({paths: { 'plotly': ['https://cdn.plot.ly/plotly-latest.min']},});if(!window.Plotly) {{require(['plotly'],function(plotly) {window.Plotly=plotly;});}}</script>"
      ],
      "text/vnd.plotly.v1+html": [
       "<script>requirejs.config({paths: { 'plotly': ['https://cdn.plot.ly/plotly-latest.min']},});if(!window.Plotly) {{require(['plotly'],function(plotly) {window.Plotly=plotly;});}}</script>"
      ]
     },
     "metadata": {},
     "output_type": "display_data"
    },
    {
     "data": {
      "text/html": [
       "<iframe id=\"igraph\" scrolling=\"no\" style=\"border:none;\" seamless=\"seamless\" src=\"https://plot.ly/~rostyslav.db/26.embed\" height=\"525px\" width=\"100%\"></iframe>"
      ],
      "text/plain": [
       "<plotly.tools.PlotlyDisplay object>"
      ]
     },
     "execution_count": 346,
     "metadata": {},
     "output_type": "execute_result"
    }
   ],
   "source": [
    "traces = [go.Scatter(\n",
    "    x=data['Ar+H2', T].index,\n",
    "    y=data['Ar+H2', T],\n",
    "    name=T\n",
    ") for T in temperatures]\n",
    "py.iplot(traces, filename='basic-line')"
   ]
  },
  {
   "cell_type": "code",
   "execution_count": 400,
   "metadata": {},
   "outputs": [],
   "source": [
    "peaks_data = {\n",
    "    'N2': {\n",
    "        '500K': np.array([24.24, 33.04, 41.32, 44.28, 49.48]),\n",
    "        '600K': np.array([24.24, 33.00, 41.32, 44.32, 49.60]),\n",
    "        '700K': np.array([24.28, 33.08, 41.28, 44.28, 49.72]),\n",
    "        '800K': np.array([24.16, 33.76, 41.20, 44.32, 49.36])\n",
    "    },\n",
    "    'Ar+H2': {\n",
    "        '500K': np.array([24.12, 33.00, 41.32, 44.32, 49.40]),\n",
    "        '600K': np.array([24.08, 32.96, 42.28, 44.32, 49.44]),\n",
    "        '700K': np.array([24.16, 33.12, 41.24, 44.32, 49.44]),\n",
    "        '800K': np.array([24.20, 33.00, 41.32, 44.32, 49.48])\n",
    "    }\n",
    "}\n",
    "afterdep_idx = [33.0, 41.0, 44.36]"
   ]
  },
  {
   "cell_type": "code",
   "execution_count": 412,
   "metadata": {},
   "outputs": [
    {
     "name": "stdout",
     "output_type": "stream",
     "text": [
      "\\begin{tabular}{lrrrr}\n",
      "\\toprule\n",
      "{} &  2theta &  theta &  sintheta &   d/n \\\\\n",
      "\\midrule\n",
      "1 &   33.00 &  16.50 &      0.28 &  2.71 \\\\\n",
      "2 &   41.00 &  20.50 &      0.35 &  2.20 \\\\\n",
      "3 &   44.36 &  22.18 &      0.38 &  2.04 \\\\\n",
      "\\bottomrule\n",
      "\\end{tabular}\n",
      "\n"
     ]
    }
   ],
   "source": [
    "df = pd.DataFrame(afterdep_idx, index=np.arange(1, 4), columns=['2theta'])\n",
    "df['theta'] = df['2theta'] / 2\n",
    "df['sintheta'] = (df['theta'] * np.pi / 180).apply(np.sin)\n",
    "df['d/n'] = Lambda / (2 * df['sintheta'])\n",
    "print(df.round(2).to_latex())"
   ]
  },
  {
   "cell_type": "code",
   "execution_count": 411,
   "metadata": {
    "scrolled": true
   },
   "outputs": [
    {
     "name": "stdout",
     "output_type": "stream",
     "text": [
      "\n",
      "N2: T = 500K\n",
      "\\begin{tabular}{lrrrr}\n",
      "\\toprule\n",
      "{} &  2theta &  theta &  sintheta &   d/n \\\\\n",
      "\\midrule\n",
      "1 &   24.24 &  12.12 &      0.21 &  3.67 \\\\\n",
      "2 &   33.04 &  16.52 &      0.28 &  2.71 \\\\\n",
      "3 &   41.32 &  20.66 &      0.35 &  2.19 \\\\\n",
      "4 &   44.28 &  22.14 &      0.38 &  2.05 \\\\\n",
      "5 &   49.48 &  24.74 &      0.42 &  1.84 \\\\\n",
      "\\bottomrule\n",
      "\\end{tabular}\n",
      "\n",
      "\n",
      "N2: T = 600K\n",
      "\\begin{tabular}{lrrrr}\n",
      "\\toprule\n",
      "{} &  2theta &  theta &  sintheta &   d/n \\\\\n",
      "\\midrule\n",
      "1 &   24.24 &  12.12 &      0.21 &  3.67 \\\\\n",
      "2 &   33.00 &  16.50 &      0.28 &  2.71 \\\\\n",
      "3 &   41.32 &  20.66 &      0.35 &  2.19 \\\\\n",
      "4 &   44.32 &  22.16 &      0.38 &  2.04 \\\\\n",
      "5 &   49.60 &  24.80 &      0.42 &  1.84 \\\\\n",
      "\\bottomrule\n",
      "\\end{tabular}\n",
      "\n",
      "\n",
      "N2: T = 700K\n",
      "\\begin{tabular}{lrrrr}\n",
      "\\toprule\n",
      "{} &  2theta &  theta &  sintheta &   d/n \\\\\n",
      "\\midrule\n",
      "1 &   24.28 &  12.14 &      0.21 &  3.67 \\\\\n",
      "2 &   33.08 &  16.54 &      0.28 &  2.71 \\\\\n",
      "3 &   41.28 &  20.64 &      0.35 &  2.19 \\\\\n",
      "4 &   44.28 &  22.14 &      0.38 &  2.05 \\\\\n",
      "5 &   49.72 &  24.86 &      0.42 &  1.83 \\\\\n",
      "\\bottomrule\n",
      "\\end{tabular}\n",
      "\n",
      "\n",
      "N2: T = 800K\n",
      "\\begin{tabular}{lrrrr}\n",
      "\\toprule\n",
      "{} &  2theta &  theta &  sintheta &   d/n \\\\\n",
      "\\midrule\n",
      "1 &   24.16 &  12.08 &      0.21 &  3.68 \\\\\n",
      "2 &   33.76 &  16.88 &      0.29 &  2.65 \\\\\n",
      "3 &   41.20 &  20.60 &      0.35 &  2.19 \\\\\n",
      "4 &   44.32 &  22.16 &      0.38 &  2.04 \\\\\n",
      "5 &   49.36 &  24.68 &      0.42 &  1.85 \\\\\n",
      "\\bottomrule\n",
      "\\end{tabular}\n",
      "\n",
      "\n",
      "Ar+H2: T = 500K\n",
      "\\begin{tabular}{lrrrr}\n",
      "\\toprule\n",
      "{} &  2theta &  theta &  sintheta &   d/n \\\\\n",
      "\\midrule\n",
      "1 &   24.12 &  12.06 &      0.21 &  3.69 \\\\\n",
      "2 &   33.00 &  16.50 &      0.28 &  2.71 \\\\\n",
      "3 &   41.32 &  20.66 &      0.35 &  2.19 \\\\\n",
      "4 &   44.32 &  22.16 &      0.38 &  2.04 \\\\\n",
      "5 &   49.40 &  24.70 &      0.42 &  1.84 \\\\\n",
      "\\bottomrule\n",
      "\\end{tabular}\n",
      "\n",
      "\n",
      "Ar+H2: T = 600K\n",
      "\\begin{tabular}{lrrrr}\n",
      "\\toprule\n",
      "{} &  2theta &  theta &  sintheta &   d/n \\\\\n",
      "\\midrule\n",
      "1 &   24.08 &  12.04 &      0.21 &  3.70 \\\\\n",
      "2 &   32.96 &  16.48 &      0.28 &  2.72 \\\\\n",
      "3 &   42.28 &  21.14 &      0.36 &  2.14 \\\\\n",
      "4 &   44.32 &  22.16 &      0.38 &  2.04 \\\\\n",
      "5 &   49.44 &  24.72 &      0.42 &  1.84 \\\\\n",
      "\\bottomrule\n",
      "\\end{tabular}\n",
      "\n",
      "\n",
      "Ar+H2: T = 700K\n",
      "\\begin{tabular}{lrrrr}\n",
      "\\toprule\n",
      "{} &  2theta &  theta &  sintheta &   d/n \\\\\n",
      "\\midrule\n",
      "1 &   24.16 &  12.08 &      0.21 &  3.68 \\\\\n",
      "2 &   33.12 &  16.56 &      0.29 &  2.70 \\\\\n",
      "3 &   41.24 &  20.62 &      0.35 &  2.19 \\\\\n",
      "4 &   44.32 &  22.16 &      0.38 &  2.04 \\\\\n",
      "5 &   49.44 &  24.72 &      0.42 &  1.84 \\\\\n",
      "\\bottomrule\n",
      "\\end{tabular}\n",
      "\n",
      "\n",
      "Ar+H2: T = 800K\n",
      "\\begin{tabular}{lrrrr}\n",
      "\\toprule\n",
      "{} &  2theta &  theta &  sintheta &   d/n \\\\\n",
      "\\midrule\n",
      "1 &   24.20 &  12.10 &      0.21 &  3.68 \\\\\n",
      "2 &   33.00 &  16.50 &      0.28 &  2.71 \\\\\n",
      "3 &   41.32 &  20.66 &      0.35 &  2.19 \\\\\n",
      "4 &   44.32 &  22.16 &      0.38 &  2.04 \\\\\n",
      "5 &   49.48 &  24.74 &      0.42 &  1.84 \\\\\n",
      "\\bottomrule\n",
      "\\end{tabular}\n",
      "\n"
     ]
    }
   ],
   "source": [
    "for treat, value in peaks_data.items():\n",
    "    for T, peaks in value.items():\n",
    "        df = pd.DataFrame(peaks_data[treat][T], index=np.arange(1, 6), columns=['2theta'])\n",
    "        df['theta'] = df['2theta'] / 2\n",
    "        df['sintheta'] = (df['theta'] * np.pi / 180).apply(np.sin)\n",
    "        df['d/n'] = Lambda / (2 * df['sintheta'])\n",
    "        print()\n",
    "        print(f'{treat}: T = {T}')\n",
    "        print(df.round(2).to_latex())"
   ]
  },
  {
   "cell_type": "markdown",
   "metadata": {},
   "source": [
    "За найбільш інтенсивним присутнім на дифрактограмі рефлексом розраховується розмір областей когерентного розсіювання. Далі необхідно побудувати графік температурної залежності ОКР."
   ]
  },
  {
   "cell_type": "code",
   "execution_count": 431,
   "metadata": {},
   "outputs": [
    {
     "data": {
      "image/png": "[encoded data removed]",
      "text/plain": [
       "<matplotlib.figure.Figure at 0x1c34832f60>"
      ]
     },
     "metadata": {},
     "output_type": "display_data"
    }
   ],
   "source": [
    "D_dict = {\n",
    "    'Ar+H2': np.array([1.48, 4.12, 4.02, 3.71, 4.06]),\n",
    "    'N2': np.array([1.48, 3.84, 4.29, 3.80, 6.45])\n",
    "}\n",
    "Temps = np.array([300, 500, 600, 700, 800])\n",
    "plt.plot(Temps, D_dict['N2'], 'o-.', label=r'$N_2$')\n",
    "plt.plot(Temps, D_dict['Ar+H2'], 'o--', label=r'$Ar\\!+\\!H_2$')\n",
    "plt.legend()\n",
    "plt.ylabel(r'Розмір ОКР, Å')\n",
    "plt.xlabel(r'Температура, K')\n",
    "plt.grid()\n",
    "plt.tight_layout(0)\n",
    "plt.savefig('./report/images/d.pdf')"
   ]
  },
  {
   "cell_type": "markdown",
   "metadata": {},
   "source": [
    "Зробити висновки щодо впливу параметрів термічної обробки на розмір зерен досліджуваного плівкового матеріалу."
   ]
  },
  {
   "cell_type": "markdown",
   "metadata": {},
   "source": [
    "## Висновки"
   ]
  },
  {
   "cell_type": "code",
   "execution_count": null,
   "metadata": {},
   "outputs": [],
   "source": []
  }
 ],
 "metadata": {
  "hide_input": false,
  "kernelspec": {
   "display_name": "Python [default]",
   "language": "python",
   "name": "python3"
  },
  "language_info": {
   "codemirror_mode": {
    "name": "ipython",
    "version": 3
   },
   "file_extension": ".py",
   "mimetype": "text/x-python",
   "name": "python",
   "nbconvert_exporter": "python",
   "pygments_lexer": "ipython3",
   "version": "3.6.4"
  }
 },
 "nbformat": 4,
 "nbformat_minor": 2
}
