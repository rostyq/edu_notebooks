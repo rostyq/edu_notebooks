{
 "cells": [
  {
   "cell_type": "markdown",
   "metadata": {},
   "source": [
    "# ФОМП. МКР-1\n",
    "Богомаз Р.Д.\n",
    "\n",
    "- Метал: $Fe_{\\alpha}$\n",
    "- Тип ґратки: **ОЦК**\n",
    "- Параметр ґратки, $a$: **`0.287 нм`**\n",
    "- Радіус атому: **`0.156 нм`**\n",
    "- Модуль зсуву $G$: **`82.5 ГПа`**\n",
    "- Коеф. Пуассона $\\mu$:** `0.29`**\n",
    "- Довжина дислокації $L=N \\times a$: **`300 нм`**\n",
    "- Дислокація: $\\frac{a}{2}[111]$\n",
    "- Щільність дислокації $\\rho$: $3 \\times 10^9 \\text{см}^2$ \n",
    "- Конц. розч. атомів $C$: **`0.3` ат.%**\n",
    "- Розмір зерна:** `170 мкм`**\n",
    "- Розмір частинки: **`20 нм`**\n",
    "- Енергія дефекта пакування: **140 **$\\frac{\\text{ерг}}{\\text{см}^2}$\n",
    "- Відстань від поверхні/між частинками $L=N \\times a$: **`100 нм`**\n",
    "- Товщина покриття: **`120 нм`**"
   ]
  },
  {
   "cell_type": "code",
   "execution_count": 1,
   "metadata": {
    "collapsed": true
   },
   "outputs": [],
   "source": [
    "from math import sqrt, log2, exp, pi\n",
    "\n",
    "a = 0.287e-9\n",
    "r = 0.156e-9\n",
    "G = 82.5e9\n",
    "mu = 0.29\n",
    "L_dislocation = 300e-9\n",
    "rho = 3e9/1e-4\n",
    "C = 0.3e-2\n",
    "grain = 170e-6\n",
    "part = 20e-9\n",
    "Edefect = 140e-3\n",
    "L = 100e-9\n",
    "d = 120e-9\n",
    "\n",
    "h = 1\n",
    "k = 1\n",
    "l = 1"
   ]
  },
  {
   "cell_type": "markdown",
   "metadata": {},
   "source": [
    "### Оцінити діаметр ядра крайової дислокації в матеріалі, якщо період гратки $a$.\n",
    "(1 бал)\n",
    "$$d_{\\text{ядра}} \\approx 3 \\left| \\bar{b} \\right| = 3 \\frac{a}{2}\\sqrt{h^2+k^2+l^2}$$"
   ]
  },
  {
   "cell_type": "code",
   "execution_count": 2,
   "metadata": {},
   "outputs": [
    {
     "data": {
      "text/plain": [
       "'7.46e-10 м'"
      ]
     },
     "execution_count": 2,
     "metadata": {},
     "output_type": "execute_result"
    }
   ],
   "source": [
    "b = a / 2 * sqrt(h**2 + k**2 + l**2)\n",
    "d_core = 3 * b\n",
    "\"{:.2e} м\".format(d_core)"
   ]
  },
  {
   "cell_type": "markdown",
   "metadata": {},
   "source": [
    "### Розрахувати енергію повної одиничної гвинтової дислокації в матеріалі, якщо всі дані наведено в таблиці\n",
    "(2 бали)\n",
    "$$E_{\\textit{гв}} = \\alpha_{\\textit{гв}}~G~\\left|\\bar{b}\\right|^2~L ,$$\n",
    "де $\\alpha_{\\textit{гв}} = 0.37$"
   ]
  },
  {
   "cell_type": "code",
   "execution_count": 3,
   "metadata": {},
   "outputs": [
    {
     "data": {
      "text/plain": [
       "'5.66e-16 Дж'"
      ]
     },
     "execution_count": 3,
     "metadata": {},
     "output_type": "execute_result"
    }
   ],
   "source": [
    "E_screw = 0.37 * G * b**2 * L_dislocation\n",
    "\"{:.2e} Дж\".format(E_screw)"
   ]
  },
  {
   "cell_type": "markdown",
   "metadata": {},
   "source": [
    "### Розрахувати напруження руху дислокації (силу Пайєрлса-Набарро) для заданого матеріалу.\n",
    "(3 бали)\n",
    "$$\\tau_{\\textit{П-Н}} = \\frac{2G}{1-\\mu}\\exp\\frac{-2\\pi a}{b(1-\\mu)}$$"
   ]
  },
  {
   "cell_type": "code",
   "execution_count": 13,
   "metadata": {},
   "outputs": [
    {
     "data": {
      "text/plain": [
       "'8.48e+06 Па'"
      ]
     },
     "execution_count": 13,
     "metadata": {},
     "output_type": "execute_result"
    }
   ],
   "source": [
    "tau_pn = 2 * G / (1-mu) * exp((-2*pi*a)/(b*(1-mu)))\n",
    "\"{:.2e} Па\".format(tau_pn)"
   ]
  },
  {
   "cell_type": "markdown",
   "metadata": {},
   "source": [
    "### Оцінити кількість домішкових атомів, необхідну для утворення насичених атмосфер Котрелла в деформованому матеріалі, якщо період гратки $a$, густина дислокацій $\\rho$.\n",
    "(3 бали)\n",
    "$$C_{\\textit{н}} = \\rho a^2$$"
   ]
  },
  {
   "cell_type": "code",
   "execution_count": 5,
   "metadata": {},
   "outputs": [
    {
     "name": "stdout",
     "output_type": "stream",
     "text": [
      "Концентрація насичення:  2.47e-06\n",
      "Конц-я насичених атомів: 3.00e-03\n"
     ]
    }
   ],
   "source": [
    "C_sat = rho * a**2\n",
    "print(\"Концентрація насичення:  {:.2e}\\nКонц-я насичених атомів: {:.2e}\".format(C_sat, C))"
   ]
  },
  {
   "cell_type": "markdown",
   "metadata": {},
   "source": [
    "### Оцініть силу взаємодії дислокації з поверхнею та опишіть рух дислокації під дією цієї сили.\n",
    "Матриця – ваш варіант на контрольній роботі. Покриття – матеріал наступного варіанту.\n",
    "\n",
    "(4 бали)\n",
    "```\n",
    "```\n",
    "Покриття: $Cu, G = 45~\\text{ГПа}$\n",
    "\n",
    "Оскільки $G_{\\textit{матеріал}} > G_{\\textit{покриття}}$, то дислокація притягується до поверхні розподілу і може перейти у інше середовище. Розраховуємо силу взаємодії дислокації з поверхнею за формулою:\n",
    "$$F = \\frac{G b^2}{4\\pi L}$$"
   ]
  },
  {
   "cell_type": "code",
   "execution_count": 6,
   "metadata": {},
   "outputs": [
    {
     "data": {
      "text/plain": [
       "'4.06e-03 Н'"
      ]
     },
     "execution_count": 6,
     "metadata": {},
     "output_type": "execute_result"
    }
   ],
   "source": [
    "F = G * b**2 / (4* pi * L)\n",
    "\"{:.2e} Н\".format(F)"
   ]
  },
  {
   "cell_type": "markdown",
   "metadata": {},
   "source": [
    "### Розрахувати зміцнення внаслідок наявності в матеріалі когерентних часток якщо їх об’ємна частка $f$\n",
    "(матеріал 2 (варіант $N-1$) ), \n",
    "\n",
    "($f=C$ попередньої задачі).\n",
    "\n",
    "(4 бали)\n",
    "```\n",
    "```\n",
    "\n",
    "- Матеріал: $Mn_{\\alpha}$\n",
    "- $f = 2.47\\times10^6$\n",
    "- $a_b = 0.89~\\text{нм}$\n",
    "\n",
    "При наявності в матеріалі зон Гіньє-Престона та/або когерентних часток\n",
    "зміцнення розраховується за виразом, запропонованим Моттом і Набарро:\n",
    "\n",
    "$$\\Delta\\sigma = 2 G_m \\varkappa^{\\frac{3}{2}} (r_{\\text{ч}}~f~b_m^{-1})^{\\frac{1}{2}},$$\n",
    "\n",
    "$$\\varkappa = \\frac{3K\\varepsilon}{3K+2E(1+\\mu)},$$\n",
    "\n",
    "$$\\varepsilon = 2 \\frac{a_m-a_b}{a_b + a_m},$$\n",
    "\n",
    "де $G_m$ – модуль зсуву матриці, $f$ – об’ємна доля частинок в матеріалі, $\\varepsilon$ – параметр\n",
    "невідповідності, $a_m$ та $a_b$ – параметри граток матриці і виділення, $K$ - об'ємний\n",
    "модуль пружності виділення, $\\mu$ - коефіцієнт Пуассона матриці.\n",
    "\n",
    "$$K = \\frac{2G(1+\\mu)}{3(1-2\\mu)}$$\n",
    "\n",
    "$$E = 2G(1+\\mu)$$"
   ]
  },
  {
   "cell_type": "code",
   "execution_count": 7,
   "metadata": {
    "scrolled": true
   },
   "outputs": [
    {
     "data": {
      "text/plain": [
       "'7.09e+07 Па'"
      ]
     },
     "execution_count": 7,
     "metadata": {},
     "output_type": "execute_result"
    }
   ],
   "source": [
    "f = C_sat\n",
    "a_b = 0.89e-9\n",
    "K = 2 * G * (1 + mu) / (3*(1-2*mu))\n",
    "E = 2 * G * (1 + mu)\n",
    "epsilon = 2 * (a_b - a) / (a_b + a)\n",
    "kappa = 3 * K * epsilon / (3 * K + 2 * E * (1+ mu))\n",
    "Dsigma = 2 * G * kappa**(3/2) * ((r * f * b**(-1))**(0.5))\n",
    "\"{:.2e} Па\".format(Dsigma)"
   ]
  },
  {
   "cell_type": "markdown",
   "metadata": {},
   "source": [
    "### Розрахуйте зернограничне зміцнення матеріалу, якщо розмір зерна $d$. \n",
    "Різниця факторів Шміда: для ОЦК - 0,34, для ГЦК – 0,2.\n",
    "\n",
    "(4 бали)\n",
    "```\n",
    "```\n",
    "Розрахувати додаткове деформаційне зміцнення полікристалу можна за\n",
    "допомогою формули:\n",
    "\n",
    "$$\\Delta\\sigma_{\\textit{зг}} = 3 M~\\Delta m~\\tau_0~\\sqrt{\\frac{r_0}{d}},$$\n",
    "де $М$ – орієнтаційний фактор Тейлора (для ГЦК гратки – 3,1; для ОЦК гратки –\n",
    "2,0); $\\Delta m$ – усереднений фактор орієнтації (може змінюватися від 0 до 0,5); $\\tau_0$ –\n",
    "критичне дотичне напруження для монокристалів; $r_0$ – деяка константа, що має\n",
    "розмірність довжини, становить 2-4 мкм; $d$ – розмір зерна."
   ]
  },
  {
   "cell_type": "code",
   "execution_count": 8,
   "metadata": {},
   "outputs": [
    {
     "data": {
      "text/plain": [
       "'1.74e+09 Па'"
      ]
     },
     "execution_count": 8,
     "metadata": {},
     "output_type": "execute_result"
    }
   ],
   "source": [
    "M = 3.1\n",
    "Deltam = 0.34\n",
    "\n",
    "Delta_sigma_grain = 3 * M * Deltam * tau_pn * sqrt(part/d)\n",
    "\"{:.2e} Па\".format(Delta_sigma_grain)"
   ]
  },
  {
   "cell_type": "markdown",
   "metadata": {},
   "source": [
    "### Розрахуйте ширину розтягнутої дислокації в матеріалі. \n",
    "(4 бали)\n",
    "```\n",
    "```\n",
    "В ОЦК гратці розтягнута дислокація формується за формулою:\n",
    "\n",
    "$$\\frac{a}{2}[\\bar{1}\\bar{1}1] = \\frac{a}{6}[\\bar{1}\\bar{1}1] + \\frac{a}{3}[\\bar{1}\\bar{1}1]$$\n",
    "\n",
    "В ГЦК гратці розтягнута дислокація формується за формулою:\n",
    "\n",
    "$$\\frac{a}{2}[110] = \\frac{a}{6}[112] + \\frac{a}{3}[112]$$"
   ]
  },
  {
   "cell_type": "code",
   "execution_count": 9,
   "metadata": {},
   "outputs": [
    {
     "name": "stdout",
     "output_type": "stream",
     "text": [
      "Енергія до:    6.18e-20 \n",
      "Енергія після: 3.43e-20\n"
     ]
    }
   ],
   "source": [
    "def vector_b(n, a, h, k, l):\n",
    "    return a/n * sqrt(h**2 + k**2 + l**2)\n",
    "\n",
    "b_1 = vector_b(2, a, -1, -1, 1)**2\n",
    "b_2 = vector_b(6, a, -1, -1, 1)**2\n",
    "b_3 = vector_b(3, a, -1, -1, 1)**2\n",
    "\n",
    "print(\"Енергія до:    {:.2e} \\nЕнергія після: {:.2e}\".format(b_1, b_2+b_3))"
   ]
  },
  {
   "cell_type": "markdown",
   "metadata": {},
   "source": [
    "Реакція утворення дислокації пройде, тому розраховуємо ширину розтягнутої дислокації:\n",
    "\n",
    "$$d_0=K \\frac{G~b_2~b_3}{\\gamma},$$\n",
    "\n",
    "де $K$ – стала, $G$ – модуль зсуву, $b_2$ та $b_3$ – вектори Бюргерса дислокацій Шоклі, $\\gamma$ –\n",
    "поверхневий натяг дефекту пакування."
   ]
  },
  {
   "cell_type": "code",
   "execution_count": 11,
   "metadata": {},
   "outputs": [
    {
     "data": {
      "text/plain": [
       "'7.28e-09 м'"
      ]
     },
     "execution_count": 11,
     "metadata": {},
     "output_type": "execute_result"
    }
   ],
   "source": [
    "b_2 = vector_b(6, a, -1, -1, 1)\n",
    "b_3 = vector_b(3, a, -1, -1, 1)\n",
    "\n",
    "const = 0.9\n",
    "d_0 = const * (G * b_2 * b_3)/Edefect\n",
    "\"{:.2e} м\".format(d_0)"
   ]
  }
 ],
 "metadata": {
  "hide_input": false,
  "kernelspec": {
   "display_name": "Python 3",
   "language": "python",
   "name": "python3"
  },
  "language_info": {
   "codemirror_mode": {
    "name": "ipython",
    "version": 3
   },
   "file_extension": ".py",
   "mimetype": "text/x-python",
   "name": "python",
   "nbconvert_exporter": "python",
   "pygments_lexer": "ipython3",
   "version": "3.6.2"
  },
  "toc": {
   "nav_menu": {},
   "number_sections": false,
   "sideBar": true,
   "skip_h1_title": true,
   "toc_cell": false,
   "toc_position": {},
   "toc_section_display": "block",
   "toc_window_display": false
  },
  "varInspector": {
   "cols": {
    "lenName": 16,
    "lenType": 16,
    "lenVar": 40
   },
   "kernels_config": {
    "python": {
     "delete_cmd_postfix": "",
     "delete_cmd_prefix": "del ",
     "library": "var_list.py",
     "varRefreshCmd": "print(var_dic_list())"
    },
    "r": {
     "delete_cmd_postfix": ") ",
     "delete_cmd_prefix": "rm(",
     "library": "var_list.r",
     "varRefreshCmd": "cat(var_dic_list()) "
    }
   },
   "types_to_exclude": [
    "module",
    "function",
    "builtin_function_or_method",
    "instance",
    "_Feature"
   ],
   "window_display": false
  }
 },
 "nbformat": 4,
 "nbformat_minor": 2
}
