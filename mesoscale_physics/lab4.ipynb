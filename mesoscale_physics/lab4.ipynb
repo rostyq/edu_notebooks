{
 "cells": [
  {
   "cell_type": "markdown",
   "metadata": {},
   "source": [
    "# Робота №4. Вивчення структури металів за допомогою функції радіального розподілу атомів\n",
    "\n",
    "## Мета роботи\n",
    "Дослідження параметрів структури металів в кристалічному та рідкому стані за допомогою визначення ФРР атомів моделюванням методом молекулярної динаміки.\n",
    "\n",
    "## Об'єкт дослідження\n",
    "Чисті метали за умов різних температур.\n",
    "\n",
    "## Програма проведення експерименту\n",
    "Створити кристал з ~1000-2000 атомів з періодичними граничними умовами. Матеріал: Pt."
   ]
  },
  {
   "cell_type": "code",
   "execution_count": 1,
   "metadata": {},
   "outputs": [
    {
     "name": "stdout",
     "output_type": "stream",
     "text": [
      "Overwriting lab4.xm\n"
     ]
    }
   ],
   "source": [
    "%%writefile lab4.xm\n",
    "read ../pot/Pt_xmd.eam\n",
    "\n",
    "box 9 9 9\n",
    "\n",
    "fill particle 4\n",
    "1     0.0        0.0        0.0\n",
    "1     0.5        0.0        0.5\n",
    "1     0.5        0.5        0.0\n",
    "1     0.0        0.5        0.5\n",
    "\n",
    "fill align 8 8 8\n",
    "fill orient 1 0 0  0 1 0  0 0 1\n",
    "fill go\n",
    "\n",
    "dtime 1e-14\n",
    "\n",
    "select all #\n",
    "mass 195.084\n",
    "\n",
    "clamp $1\n",
    "itemp $1\n",
    "scale 3.9231\n",
    "\n",
    "select index 14571\n",
    "set add 1\n",
    "select keep on\n",
    "\n",
    "cmd 1000\n",
    "#write file +lab2_pos_vel_$1.txt sel posvel\n",
    "write pdb +lab4_$2.pdb\n",
    "#WRITE file +lab4_$2.rdf RDF 160 2 18"
   ]
  },
  {
   "cell_type": "code",
   "execution_count": 1,
   "metadata": {
    "collapsed": true
   },
   "outputs": [],
   "source": [
    "Tmelt = 2041.4 # Kelvin\n",
    "T = [0.1*Tmelt, 1.5*Tmelt]"
   ]
  },
  {
   "cell_type": "code",
   "execution_count": 3,
   "metadata": {
    "collapsed": true
   },
   "outputs": [],
   "source": [
    "for i, temp in enumerate(T):\n",
    "    !del /f lab4_{i}.pdb\n",
    "    #!del /f lab4_{i}.rdf\n",
    "    !xmd lab4.xm {temp} {i} > lab4_{i}.log # temperature, n of experiment"
   ]
  },
  {
   "cell_type": "code",
   "execution_count": 12,
   "metadata": {
    "collapsed": true
   },
   "outputs": [],
   "source": [
    "import pandas as pd\n",
    "import numpy as np\n",
    "from matplotlib import pyplot as plt\n",
    "%matplotlib inline"
   ]
  },
  {
   "cell_type": "code",
   "execution_count": 2,
   "metadata": {
    "collapsed": true
   },
   "outputs": [],
   "source": [
    "def read_data(name):\n",
    "    data_frame = pd.read_csv(name, delimiter='\\s+', skipinitialspace=True, skiprows=4,\n",
    "                             names=['skip1', 'HETATM', 'type', 'X', 'Y', 'Z'])[['X', 'Y', 'Z']]\n",
    "    data_frame.dropna(inplace=True)\n",
    "    return data_frame\n",
    "\n",
    "data = [read_data(f'lab4_{i}.pdb') for i in range(2)]"
   ]
  },
  {
   "cell_type": "code",
   "execution_count": 3,
   "metadata": {},
   "outputs": [
    {
     "data": {
      "text/plain": [
       "X    15.609\n",
       "Y    15.674\n",
       "Z    15.765\n",
       "Name: 1456, dtype: float64"
      ]
     },
     "execution_count": 3,
     "metadata": {},
     "output_type": "execute_result"
    }
   ],
   "source": [
    "centre = data[0].iloc[1456]\n",
    "centre"
   ]
  },
  {
   "cell_type": "code",
   "execution_count": 9,
   "metadata": {},
   "outputs": [
    {
     "data": {
      "text/html": [
       "<div>\n",
       "<style>\n",
       "    .dataframe thead tr:only-child th {\n",
       "        text-align: right;\n",
       "    }\n",
       "\n",
       "    .dataframe thead th {\n",
       "        text-align: left;\n",
       "    }\n",
       "\n",
       "    .dataframe tbody tr th {\n",
       "        vertical-align: top;\n",
       "    }\n",
       "</style>\n",
       "<table border=\"1\" class=\"dataframe\">\n",
       "  <thead>\n",
       "    <tr style=\"text-align: right;\">\n",
       "      <th></th>\n",
       "      <th>X</th>\n",
       "      <th>Y</th>\n",
       "      <th>Z</th>\n",
       "      <th>distance</th>\n",
       "    </tr>\n",
       "  </thead>\n",
       "  <tbody>\n",
       "    <tr>\n",
       "      <th>0</th>\n",
       "      <td>-15.572</td>\n",
       "      <td>19.601</td>\n",
       "      <td>-15.705</td>\n",
       "      <td>29.552215</td>\n",
       "    </tr>\n",
       "    <tr>\n",
       "      <th>1</th>\n",
       "      <td>-13.652</td>\n",
       "      <td>-15.625</td>\n",
       "      <td>-13.849</td>\n",
       "      <td>24.946193</td>\n",
       "    </tr>\n",
       "    <tr>\n",
       "      <th>2</th>\n",
       "      <td>-13.713</td>\n",
       "      <td>-13.704</td>\n",
       "      <td>19.464</td>\n",
       "      <td>27.471681</td>\n",
       "    </tr>\n",
       "    <tr>\n",
       "      <th>3</th>\n",
       "      <td>19.694</td>\n",
       "      <td>-13.726</td>\n",
       "      <td>-13.831</td>\n",
       "      <td>27.704752</td>\n",
       "    </tr>\n",
       "    <tr>\n",
       "      <th>4</th>\n",
       "      <td>-15.573</td>\n",
       "      <td>-15.655</td>\n",
       "      <td>-11.883</td>\n",
       "      <td>25.075946</td>\n",
       "    </tr>\n",
       "  </tbody>\n",
       "</table>\n",
       "</div>"
      ],
      "text/plain": [
       "        X       Y       Z   distance\n",
       "0 -15.572  19.601 -15.705  29.552215\n",
       "1 -13.652 -15.625 -13.849  24.946193\n",
       "2 -13.713 -13.704  19.464  27.471681\n",
       "3  19.694 -13.726 -13.831  27.704752\n",
       "4 -15.573 -15.655 -11.883  25.075946"
      ]
     },
     "execution_count": 9,
     "metadata": {},
     "output_type": "execute_result"
    }
   ],
   "source": [
    "for i in range(2):\n",
    "    for axis in ['X', 'Y', 'Z']:\n",
    "        data[i][axis] = data[i][axis] - centre[axis]\n",
    "    data[i]['distance'] = np.sqrt(data[i].X ** 2 + data[i].Y ** 2 + data[i].Z **2)\n",
    "data[0].head()"
   ]
  },
  {
   "cell_type": "code",
   "execution_count": 67,
   "metadata": {},
   "outputs": [
    {
     "data": {
      "image/png": "[encoded data removed]",
      "text/plain": [
       "<matplotlib.figure.Figure at 0x218bbeb66a0>"
      ]
     },
     "metadata": {},
     "output_type": "display_data"
    }
   ],
   "source": [
    "fig, ax = plt.subplots(figsize=(15, 5))\n",
    "counts, bins, patches = ax.hist(data[0].distance[data[0].distance < 7], facecolor='blue', edgecolor='gray', bins=70, )\n",
    "\n",
    "# Set the ticks to be at the edges of the bins.\n",
    "ax.set_yticks(np.linspace(0, 12, 13), minor=False)\n",
    "ax.set_xticks(bins, minor=False)\n",
    "ax.set_xticklabels(np.round(bins, 1), rotation=55)\n",
    "ax.grid()"
   ]
  }
 ],
 "metadata": {
  "hide_input": false,
  "kernelspec": {
   "display_name": "Python 3",
   "language": "python",
   "name": "python3"
  },
  "language_info": {
   "codemirror_mode": {
    "name": "ipython",
    "version": 3
   },
   "file_extension": ".py",
   "mimetype": "text/x-python",
   "name": "python",
   "nbconvert_exporter": "python",
   "pygments_lexer": "ipython3",
   "version": "3.6.2"
  },
  "toc": {
   "nav_menu": {},
   "number_sections": false,
   "sideBar": true,
   "skip_h1_title": true,
   "toc_cell": false,
   "toc_position": {},
   "toc_section_display": "block",
   "toc_window_display": false
  },
  "varInspector": {
   "cols": {
    "lenName": 16,
    "lenType": 16,
    "lenVar": 40
   },
   "kernels_config": {
    "python": {
     "delete_cmd_postfix": "",
     "delete_cmd_prefix": "del ",
     "library": "var_list.py",
     "varRefreshCmd": "print(var_dic_list())"
    },
    "r": {
     "delete_cmd_postfix": ") ",
     "delete_cmd_prefix": "rm(",
     "library": "var_list.r",
     "varRefreshCmd": "cat(var_dic_list()) "
    }
   },
   "types_to_exclude": [
    "module",
    "function",
    "builtin_function_or_method",
    "instance",
    "_Feature"
   ],
   "window_display": false
  }
 },
 "nbformat": 4,
 "nbformat_minor": 2
}
