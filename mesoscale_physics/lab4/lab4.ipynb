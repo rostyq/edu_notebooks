{
 "cells": [
  {
   "cell_type": "markdown",
   "metadata": {},
   "source": [
    "# Робота №4. Вивчення структури металів за допомогою функції радіального розподілу атомів\n",
    "\n",
    "## Мета роботи\n",
    "Дослідження параметрів структури металів в кристалічному та рідкому стані за допомогою визначення ФРР атомів моделюванням методом молекулярної динаміки.\n",
    "\n",
    "## Об'єкт дослідження\n",
    "Чисті метали за умов різних температур.\n",
    "\n",
    "## Устаткування, прилади та матеріали"
   ]
  },
  {
   "cell_type": "code",
   "execution_count": 58,
   "metadata": {},
   "outputs": [],
   "source": [
    "import pandas as pd\n",
    "import numpy as np\n",
    "from matplotlib import pyplot as plt\n",
    "from IPython.display import Latex\n",
    "%matplotlib inline\n",
    "\n",
    "import warnings\n",
    "warnings.filterwarnings('ignore')\n",
    "\n",
    "from scipy.signal import find_peaks_cwt\n",
    "\n",
    "def read_xyz(name):\n",
    "    data_frame = pd.read_csv(name, delimiter='\\s+', skipinitialspace=True, skiprows=4,\n",
    "                             names=['skip1', 'HETATM', 'type', 'X', 'Y', 'Z'])[['X', 'Y', 'Z']]\n",
    "    data_frame.dropna(inplace=True)\n",
    "    return data_frame\n",
    "\n",
    "def read_rdf(name):\n",
    "    data_frame = pd.read_csv(name, delimiter='\\s+', skipinitialspace=True, skiprows=1,\n",
    "                             names=['X', 'count', 'cummulative'], index_col='X')\n",
    "    return data_frame"
   ]
  },
  {
   "cell_type": "markdown",
   "metadata": {},
   "source": [
    "## Програма проведення експерименту\n",
    "Створити кристал з ~1000-2000 атомів з періодичними граничними умовами. Матеріал: Pt."
   ]
  },
  {
   "cell_type": "code",
   "execution_count": 30,
   "metadata": {
    "scrolled": true
   },
   "outputs": [
    {
     "name": "stdout",
     "output_type": "stream",
     "text": [
      "Overwriting in.xm\n"
     ]
    }
   ],
   "source": [
    "Rostyslav Bohomaz%%writefile in.xm\n",
    "read ../pot/Pt_xmd.eam\n",
    "\n",
    "box 8 8 8\n",
    "\n",
    "fill particle 4\n",
    "1     0.0        0.0        0.0\n",
    "1     0.5        0.0        0.5\n",
    "1     0.5        0.5        0.0\n",
    "1     0.0        0.5        0.5\n",
    "\n",
    "fill align 8 8 8\n",
    "fill orient 1 0 0  0 1 0  0 0 1\n",
    "fill go\n",
    "\n",
    "dtime 1e-14\n",
    "\n",
    "select all #\n",
    "mass 195.084\n",
    "\n",
    "calc T=200\n",
    "\n",
    "clamp off\n",
    "itemp T\n",
    "scale 3.9231\n",
    "\n",
    "select index 1457\n",
    "set add 1\n",
    "select keep on\n",
    "\n",
    "# експеримент при T=0.1*T_пл\n",
    "cmd 1000\n",
    "write pdb ./out/exp_0.pdb\n",
    "WRITE file ./out/exp_0.rdf RDF 100 2 7\n",
    "\n",
    "# експеримент при T=1.5*T_пл\n",
    "repeat 99\n",
    "    itemp T\n",
    "    cmd 200\n",
    "    calc T=T+30\n",
    "    write file +./out/exp_1.temp TEMP\n",
    "end\n",
    "\n",
    "write pdb ./out/exp_1.pdb"
   ]
  },
  {
   "cell_type": "markdown",
   "metadata": {},
   "source": [
    "Задаємо температуру плавлення Pt, та розрахункових температур:"
   ]
  },
  {
   "cell_type": "code",
   "execution_count": 2,
   "metadata": {
    "run_control": {
     "marked": false
    }
   },
   "outputs": [],
   "source": [
    "Tmelt = 2041.4 # Kelvin\n",
    "T = [round(temp, -2) for temp in [0.1*Tmelt, 1.5*Tmelt]]"
   ]
  },
  {
   "cell_type": "markdown",
   "metadata": {},
   "source": [
    "Релаксовуємо матеріал при температурах 0.1 і 1.5T<sub>пл</sub>."
   ]
  },
  {
   "cell_type": "code",
   "execution_count": 31,
   "metadata": {},
   "outputs": [],
   "source": [
    "!xmd in.xm > exp.log"
   ]
  },
  {
   "cell_type": "markdown",
   "metadata": {},
   "source": [
    "Зчитуємо координати атомів:"
   ]
  },
  {
   "cell_type": "code",
   "execution_count": 32,
   "metadata": {},
   "outputs": [],
   "source": [
    "xyz = [read_xyz(f'./out/exp_{i}.pdb') for i in range(2)]\n",
    "rdf = [read_rdf(f'./out/exp_{i}.rdf') for i in range(2)]"
   ]
  },
  {
   "cell_type": "markdown",
   "metadata": {},
   "source": [
    "## Опрацювання результатів експерименту\n",
    "\n",
    "- Розрахувати нові координати атомів, використовуючи положення обраного атома\n",
    "поблизу центру розрахункової комірки за початок координат."
   ]
  },
  {
   "cell_type": "code",
   "execution_count": 33,
   "metadata": {},
   "outputs": [],
   "source": [
    "for i in range(2):\n",
    "    centre = xyz[i].iloc[1456]\n",
    "    for axis in ['X', 'Y', 'Z']:\n",
    "        xyz[i][axis] = xyz[i][axis] - centre[axis]\n",
    "    xyz[i]['distance'] = np.sqrt(xyz[i].X ** 2 + xyz[i].Y ** 2 + xyz[i].Z **2)"
   ]
  },
  {
   "cell_type": "markdown",
   "metadata": {},
   "source": [
    "Побудувати гістограму розподілу атомів за відстанню до 7 А з інтервалом 0,1 А для\n",
    "температур T=0,1 і 1,5T<sub>пл</sub>, виходячи з координат атомів."
   ]
  },
  {
   "cell_type": "code",
   "execution_count": 37,
   "metadata": {},
   "outputs": [
    {
     "data": {
      "image/png": "[encoded data removed]",
      "text/plain": [
       "<matplotlib.figure.Figure at 0x102b31eb8>"
      ]
     },
     "metadata": {},
     "output_type": "display_data"
    }
   ],
   "source": [
    "distances = [xyz[i].distance[(xyz[i].distance < 7) & (xyz[i].distance > 2.5)] for i in range(2)]\n",
    "labels = [f'$T = {T[i]:.0f}\\,K$' for i in range(2)]\n",
    "plt.subplots(figsize=(10, 5))\n",
    "bins = np.arange(2.4, 7.15, 0.1)\n",
    "plt.hist(distances, bins=bins, label=labels, color=['blue', 'red'])\n",
    "\n",
    "plt.legend()\n",
    "plt.xticks(bins, rotation=55)\n",
    "plt.xlabel('Відстань, Å')\n",
    "plt.ylabel('Кількість атомів')\n",
    "plt.show()"
   ]
  },
  {
   "cell_type": "markdown",
   "metadata": {},
   "source": [
    "- Побудувати ФРРА за формулами\n",
    "\n",
    "$$\\rho = \\frac{dn}{4\\pi r^2\\, dr}$$\n",
    "\n",
    "та\n",
    "\n",
    "$$g(r) = \\frac{V}{N} \\rho(r) = \\frac{1}{\\rho_{\\textit{ат}}} \\rho(r)$$\n",
    "\n",
    "Величини $dn$ взяти з попереднього пункту, як і $dr=0.1\\,A$."
   ]
  },
  {
   "cell_type": "code",
   "execution_count": 39,
   "metadata": {},
   "outputs": [],
   "source": [
    "dn = [np.histogram(d, bins=bins)[0] for d in distances]\n",
    "\n",
    "factor = 1.0 / (4 * np.pi * 0.1)\n",
    "V = 4/3 * np.pi * (7)**3\n",
    "N = [i.sum() for i in dn]\n",
    "r = bins[:-1]\n",
    "\n",
    "g = [V/N[i] * factor * dn[i] / (r**2) for i in range(2)]"
   ]
  },
  {
   "cell_type": "code",
   "execution_count": 40,
   "metadata": {
    "scrolled": true
   },
   "outputs": [
    {
     "data": {
      "image/png": "[encoded data removed]",
      "text/plain": [
       "<matplotlib.figure.Figure at 0x1c12d54a20>"
      ]
     },
     "metadata": {},
     "output_type": "display_data"
    }
   ],
   "source": [
    "plt.subplots(figsize=(10, 5))\n",
    "plt.plot(r, g[0], r, g[1])\n",
    "plt.plot([0, 7], [1, 1], color='black')\n",
    "plt.xlim((2.4, 7))\n",
    "plt.xticks(r, rotation=55)\n",
    "plt.legend(labels)\n",
    "plt.xlabel('Відстань, Å')\n",
    "plt.ylabel('Кількість атомів')\n",
    "plt.show()"
   ]
  },
  {
   "cell_type": "markdown",
   "metadata": {},
   "source": [
    " - Знайти координаційні числа для кристалу і рідини в трьох перших координаційних сферах."
   ]
  },
  {
   "cell_type": "markdown",
   "metadata": {},
   "source": [
    "Для кристалу:"
   ]
  },
  {
   "cell_type": "code",
   "execution_count": 47,
   "metadata": {},
   "outputs": [
    {
     "data": {
      "text/plain": [
       "array([12,  6, 24])"
      ]
     },
     "execution_count": 47,
     "metadata": {},
     "output_type": "execute_result"
    }
   ],
   "source": [
    "n = np.array([s for s in [sum(arr) for arr in np.split(dn[0], np.where(dn[0] == 0)[0])] if s != 0.0][:3])\n",
    "n"
   ]
  },
  {
   "cell_type": "markdown",
   "metadata": {},
   "source": [
    "Для рідини:"
   ]
  },
  {
   "cell_type": "code",
   "execution_count": 9,
   "metadata": {},
   "outputs": [
    {
     "data": {
      "text/plain": [
       "[11, 5, 1, 23]"
      ]
     },
     "execution_count": 9,
     "metadata": {},
     "output_type": "execute_result"
    }
   ],
   "source": [
    "dn[1] = np.where(np.round(r, 1)==5.3, 0, dn[1])\n",
    "[s for s in [sum(arr) for arr in np.split(dn[1], np.where(dn[1] == 0)[0])] if s != 0.0][:4]"
   ]
  },
  {
   "cell_type": "markdown",
   "metadata": {},
   "source": [
    "Координаційні числа:\n",
    "\n",
    "|# коорд. сфери| кристал| рідина|\n",
    "|--------------|------|------|\n",
    "|1             |12|11|\n",
    "|2             |6|5|\n",
    "|3             |24|24|"
   ]
  },
  {
   "cell_type": "markdown",
   "metadata": {},
   "source": [
    "- Знайти відстані до атомів в цих сферах."
   ]
  },
  {
   "cell_type": "markdown",
   "metadata": {},
   "source": [
    "Для кристалу:"
   ]
  },
  {
   "cell_type": "code",
   "execution_count": 10,
   "metadata": {},
   "outputs": [
    {
     "data": {
      "text/plain": [
       "Float64Index([2.77, 3.92, 4.78], dtype='float64', name='X')"
      ]
     },
     "execution_count": 10,
     "metadata": {},
     "output_type": "execute_result"
    }
   ],
   "source": [
    "rdf[0].index[find_peaks_cwt(rdf[0]['count'], rdf[0].index)][:3]"
   ]
  },
  {
   "cell_type": "markdown",
   "metadata": {},
   "source": [
    "Для рідини:"
   ]
  },
  {
   "cell_type": "code",
   "execution_count": 11,
   "metadata": {},
   "outputs": [
    {
     "data": {
      "text/plain": [
       "Float64Index([2.73, 3.88, 4.78], dtype='float64', name='X')"
      ]
     },
     "execution_count": 11,
     "metadata": {},
     "output_type": "execute_result"
    }
   ],
   "source": [
    "Rostyslav Bohomazrdf[1].index[find_peaks_cwt(rdf[1]['count'], rdf[1].index)][:3]"
   ]
  },
  {
   "cell_type": "markdown",
   "metadata": {},
   "source": [
    "Відстані до цих координаційних сфер:\n",
    "\n",
    "|# коорд. сфери| кристал, Å|рідина, Å|\n",
    "|--------------|------------|---|\n",
    "|1             | 2.77       |2.73|\n",
    "|2             | 3.92       |3.88|\n",
    "|3             | 4.78       |4.78|"
   ]
  },
  {
   "cell_type": "markdown",
   "metadata": {},
   "source": [
    "Порівняти щільність пакування атомів в різних типах ґраток і рідині, та їх густину."
   ]
  },
  {
   "cell_type": "code",
   "execution_count": 81,
   "metadata": {},
   "outputs": [
    {
     "data": {
      "text/latex": [
       "$R_{ion} = 1.39\\,Å \\\\ V_{ion} = 11.18\\,Å^3$"
      ],
      "text/plain": [
       "<IPython.core.display.Latex object>"
      ]
     },
     "execution_count": 81,
     "metadata": {},
     "output_type": "execute_result"
    }
   ],
   "source": [
    "scale = 3.9231\n",
    "Rion = scale * np.sqrt(2) / 4\n",
    "Vion = 4/3 * np.pi * Rion ** 3\n",
    "Latex(r'$R_{ion} = %.2f\\,Å \\\\ V_{ion} = %.2f\\,Å^3$' % (Rion, Vion))"
   ]
  },
  {
   "cell_type": "code",
   "execution_count": 59,
   "metadata": {},
   "outputs": [
    {
     "name": "stdout",
     "output_type": "stream",
     "text": [
      "<IPython.core.display.Latex object>\n"
     ]
    },
    {
     "data": {
      "text/html": [
       "<div>\n",
       "<style scoped>\n",
       "    .dataframe tbody tr th:only-of-type {\n",
       "        vertical-align: middle;\n",
       "    }\n",
       "\n",
       "    .dataframe tbody tr th {\n",
       "        vertical-align: top;\n",
       "    }\n",
       "\n",
       "    .dataframe thead th {\n",
       "        text-align: right;\n",
       "    }\n",
       "</style>\n",
       "<table border=\"1\" class=\"dataframe\">\n",
       "  <thead>\n",
       "    <tr style=\"text-align: right;\">\n",
       "      <th></th>\n",
       "      <th>R</th>\n",
       "      <th>V</th>\n",
       "      <th>N</th>\n",
       "      <th>C</th>\n",
       "    </tr>\n",
       "  </thead>\n",
       "  <tbody>\n",
       "    <tr>\n",
       "      <th>0</th>\n",
       "      <td>3.4</td>\n",
       "      <td>164.636210</td>\n",
       "      <td>13</td>\n",
       "      <td>88.259153</td>\n",
       "    </tr>\n",
       "    <tr>\n",
       "      <th>1</th>\n",
       "      <td>4.2</td>\n",
       "      <td>310.339089</td>\n",
       "      <td>19</td>\n",
       "      <td>68.431945</td>\n",
       "    </tr>\n",
       "    <tr>\n",
       "      <th>2</th>\n",
       "      <td>5.1</td>\n",
       "      <td>555.647209</td>\n",
       "      <td>43</td>\n",
       "      <td>86.498999</td>\n",
       "    </tr>\n",
       "  </tbody>\n",
       "</table>\n",
       "</div>"
      ],
      "text/plain": [
       "     R           V   N          C\n",
       "0  3.4  164.636210  13  88.259153\n",
       "1  4.2  310.339089  19  68.431945\n",
       "2  5.1  555.647209  43  86.498999"
      ]
     },
     "execution_count": 59,
     "metadata": {},
     "output_type": "execute_result"
    }
   ],
   "source": [
    "pack = pd.DataFrame({'R':[3.4, 4.2, 5.1]})\n",
    "pack['V'] = 4/3 * np.pi * pack['R'] ** 3\n",
    "pack['N'] = n.cumsum() + 1\n",
    "pack['C'] = pack['N'] * Vion / pack['V'] * 100\n",
    "pack"
   ]
  },
  {
   "cell_type": "markdown",
   "metadata": {},
   "source": [
    "Пояснити, як узгоджуються ФРР і розташування дифракційних ліній на рентгенограмах.\n",
    "\n",
    "![](./img/xray-diagram.png)"
   ]
  },
  {
   "cell_type": "code",
   "execution_count": null,
   "metadata": {},
   "outputs": [],
   "source": []
  }
 ],
 "metadata": {
  "hide_input": false,
  "kernelspec": {
   "display_name": "Python 3",
   "language": "python",
   "name": "python3"
  },
  "language_info": {
   "codemirror_mode": {
    "name": "ipython",
    "version": 3
   },
   "file_extension": ".py",
   "mimetype": "text/x-python",
   "name": "python",
   "nbconvert_exporter": "python",
   "pygments_lexer": "ipython3",
   "version": "3.6.3"
  },
  "latex_envs": {
   "LaTeX_envs_menu_present": true,
   "autocomplete": true,
   "bibliofile": "biblio.bib",
   "cite_by": "apalike",
   "current_citInitial": 1,
   "eqLabelWithNumbers": true,
   "eqNumInitial": 1,
   "hotkeys": {
    "equation": "Ctrl-E",
    "itemize": "Ctrl-I"
   },
   "labels_anchors": false,
   "latex_user_defs": false,
   "report_style_numbering": false,
   "user_envs_cfg": false
  },
  "notify_time": "5",
  "toc": {
   "nav_menu": {},
   "number_sections": false,
   "sideBar": true,
   "skip_h1_title": true,
   "toc_cell": false,
   "toc_position": {},
   "toc_section_display": "block",
   "toc_window_display": false
  },
  "varInspector": {
   "cols": {
    "lenName": 16,
    "lenType": 16,
    "lenVar": 40
   },
   "kernels_config": {
    "python": {
     "delete_cmd_postfix": "",
     "delete_cmd_prefix": "del ",
     "library": "var_list.py",
     "varRefreshCmd": "print(var_dic_list())"
    },
    "r": {
     "delete_cmd_postfix": ") ",
     "delete_cmd_prefix": "rm(",
     "library": "var_list.r",
     "varRefreshCmd": "cat(var_dic_list()) "
    }
   },
   "types_to_exclude": [
    "module",
    "function",
    "builtin_function_or_method",
    "instance",
    "_Feature"
   ],
   "window_display": false
  }
 },
 "nbformat": 4,
 "nbformat_minor": 2
}
