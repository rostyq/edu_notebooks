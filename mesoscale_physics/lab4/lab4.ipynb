{
 "cells": [
  {
   "cell_type": "markdown",
   "metadata": {},
   "source": [
    "# Робота №4. Вивчення структури металів за допомогою функції радіального розподілу атомів\n",
    "\n",
    "## Мета роботи\n",
    "Дослідження параметрів структури металів в кристалічному та рідкому стані за допомогою визначення ФРР атомів моделюванням методом молекулярної динаміки.\n",
    "\n",
    "## Об'єкт дослідження\n",
    "Чисті метали за умов різних температур.\n",
    "\n",
    "## Устаткування, прилади та матеріали"
   ]
  },
  {
   "cell_type": "code",
   "execution_count": 62,
   "metadata": {
    "collapsed": true
   },
   "outputs": [],
   "source": [
    "import pandas as pd\n",
    "import numpy as np\n",
    "from matplotlib import pyplot as plt\n",
    "%matplotlib inline\n",
    "\n",
    "from scipy.signal import find_peaks_cwt\n",
    "\n",
    "def read_data(name):\n",
    "    data_frame = pd.read_csv(name, delimiter='\\s+', skipinitialspace=True, skiprows=4,\n",
    "                             names=['skip1', 'HETATM', 'type', 'X', 'Y', 'Z'])[['X', 'Y', 'Z']]\n",
    "    data_frame.dropna(inplace=True)\n",
    "    return data_frame\n",
    "\n",
    "def read_rdf(name):\n",
    "    data_frame = pd.read_csv(name, delimiter='\\s+', skipinitialspace=True, skiprows=1,\n",
    "                             names=['X', 'count', 'cummulative'], index_col='X')\n",
    "    return data_frame"
   ]
  },
  {
   "cell_type": "markdown",
   "metadata": {},
   "source": [
    "## Програма проведення експерименту\n",
    "Створити кристал з ~1000-2000 атомів з періодичними граничними умовами. Матеріал: Pt."
   ]
  },
  {
   "cell_type": "code",
   "execution_count": 3,
   "metadata": {},
   "outputs": [
    {
     "name": "stdout",
     "output_type": "stream",
     "text": [
      "Overwriting in.xm\n"
     ]
    }
   ],
   "source": [
    "%%writefile in.xm\n",
    "read ../pot/Pt_xmd.eam\n",
    "\n",
    "box 8 8 8\n",
    "\n",
    "fill particle 4\n",
    "1     0.0        0.0        0.0\n",
    "1     0.5        0.0        0.5\n",
    "1     0.5        0.5        0.0\n",
    "1     0.0        0.5        0.5\n",
    "\n",
    "fill align 8 8 8\n",
    "fill orient 1 0 0  0 1 0  0 0 1\n",
    "fill go\n",
    "\n",
    "dtime $3\n",
    "\n",
    "select all #\n",
    "mass 195.084\n",
    "\n",
    "calc T=200\n",
    "\n",
    "clamp $1\n",
    "itemp $1\n",
    "scale 3.9231\n",
    "\n",
    "select index 14571\n",
    "set add 1\n",
    "select keep on\n",
    "\n",
    "\n",
    "cmd $4\n",
    "write pdb ./out/exp_$2.pdb\n",
    "WRITE file ./out/exp_$2.rdf RDF 100 2 7"
   ]
  },
  {
   "cell_type": "markdown",
   "metadata": {},
   "source": [
    "Задаємо температуру плавлення Pt, та розрахункових температур:"
   ]
  },
  {
   "cell_type": "code",
   "execution_count": 2,
   "metadata": {
    "collapsed": true,
    "run_control": {
     "marked": false
    }
   },
   "outputs": [],
   "source": [
    "Tmelt = 2041.4 # Kelvin\n",
    "T = [round(temp, -2)for temp in [0.1*Tmelt, 1.5*Tmelt]]"
   ]
  },
  {
   "cell_type": "markdown",
   "metadata": {},
   "source": [
    "Релаксовуємо матеріал при температурах 0.1 і 1.5T<sub>пл</sub>."
   ]
  },
  {
   "cell_type": "code",
   "execution_count": 4,
   "metadata": {},
   "outputs": [],
   "source": [
    "param = iter([(2e-14, 1000), (1e-14, 2000)])\n",
    "for i, temp in enumerate(T):\n",
    "    \n",
    "    p = next(param)\n",
    "    \n",
    "    !xmd in.xm {temp} {i} {p[0]} {p[1]} > exp_{i}.log # temperature, n of experiment"
   ]
  },
  {
   "cell_type": "markdown",
   "metadata": {},
   "source": [
    "Зчитуємо координати атомів:"
   ]
  },
  {
   "cell_type": "code",
   "execution_count": 7,
   "metadata": {},
   "outputs": [],
   "source": [
    "xyz = [read_data(f'./out/exp_{i}.pdb') for i in range(2)]"
   ]
  },
  {
   "cell_type": "markdown",
   "metadata": {},
   "source": [
    "## Опрацювання результатів експерименту\n",
    "\n",
    "- Розрахувати нові координати атомів, використовуючи положення обраного атома\n",
    "поблизу центру розрахункової комірки за початок координат."
   ]
  },
  {
   "cell_type": "code",
   "execution_count": 8,
   "metadata": {
    "collapsed": true
   },
   "outputs": [],
   "source": [
    "for i in range(2):\n",
    "    centre = xyz[i].iloc[1456]\n",
    "    for axis in ['X', 'Y', 'Z']:\n",
    "        xyz[i][axis] = xyz[i][axis] - centre[axis]\n",
    "    xyz[i]['distance'] = np.sqrt(xyz[i].X ** 2 + xyz[i].Y ** 2 + xyz[i].Z **2)"
   ]
  },
  {
   "cell_type": "markdown",
   "metadata": {},
   "source": [
    "Побудувати гістограму розподілу атомів за відстанню до 7 А з інтервалом 0,1 А для\n",
    "температур T=0,1 і 1,5T<sub>пл</sub>, виходячи з координат атомів."
   ]
  },
  {
   "cell_type": "code",
   "execution_count": 9,
   "metadata": {
    "scrolled": false
   },
   "outputs": [
    {
     "data": {
      "text/plain": [
       "<matplotlib.text.Text at 0x136031b95c0>"
      ]
     },
     "execution_count": 9,
     "metadata": {},
     "output_type": "execute_result"
    },
    {
     "data": {
      "image/png": "[encoded data removed]",
      "text/plain": [
       "<matplotlib.figure.Figure at 0x1360316f400>"
      ]
     },
     "metadata": {},
     "output_type": "display_data"
    }
   ],
   "source": [
    "fig, hst = plt.subplots(figsize=(10, 5))\n",
    "bins = np.arange(2.5, 7.1, 0.1)\n",
    "counts, _, _ = hst.hist([xyz[i].distance[(xyz[i].distance < 7) & (xyz[i].distance > 2.5)] for i in range(2)],\n",
    "                                 bins=bins, label=[f'$T = {T[i]:.0f}\\,K$' for i in range(2)])\n",
    "\n",
    "hst.legend()\n",
    "hst.set_yticks(np.arange(0, np.array(counts).max()+1, 1))\n",
    "hst.set_xticks(bins, minor=False)\n",
    "hst.set_xticklabels(np.round(bins, 1), rotation=55)\n",
    "hst.grid(False)\n",
    "hst.set_xlabel('Відстань, Å')\n",
    "hst.set_ylabel('Кількість атомів')"
   ]
  },
  {
   "cell_type": "markdown",
   "metadata": {},
   "source": [
    "- Побудувати ФРРА за формулами\n",
    "\n",
    "$$\\rho = \\frac{dn}{4\\pi r^2\\, dr}$$\n",
    "\n",
    "та\n",
    "\n",
    "$$g(r) = \\frac{V}{N} \\rho(r) = \\frac{1}{\\rho_{\\textit{ат}}} \\rho(r)$$\n",
    "\n",
    "Величини $dn$ взяти з попереднього пункту, як і $dr=0.1\\,A$."
   ]
  },
  {
   "cell_type": "code",
   "execution_count": 10,
   "metadata": {
    "run_control": {
     "marked": false
    }
   },
   "outputs": [],
   "source": [
    "rdf = [read_rdf(f'./out/exp_{i}.rdf') for i in range(2)]"
   ]
  },
  {
   "cell_type": "code",
   "execution_count": 19,
   "metadata": {
    "scrolled": false
   },
   "outputs": [
    {
     "data": {
      "text/plain": [
       "<matplotlib.text.Text at 0x13604f39198>"
      ]
     },
     "execution_count": 19,
     "metadata": {},
     "output_type": "execute_result"
    },
    {
     "data": {
      "image/png": "[encoded data removed]",
      "text/plain": [
       "<matplotlib.figure.Figure at 0x13604ea4ac8>"
      ]
     },
     "metadata": {},
     "output_type": "display_data"
    }
   ],
   "source": [
    "fig, hst = plt.subplots(figsize=(10, 5))\n",
    "for i in range(2):\n",
    "    rdf[i]['norm_count'] = rdf[i]['count'] / (4 * np.pi * rdf[i].index **2 * 0.1) / 50\n",
    "    plt_rdf = rdf[i]['norm_count'].plot(label=f'$T = {T[i]:.0f}\\,K$')\n",
    "\n",
    "plt_rdf.legend()\n",
    "plt_rdf.set_xticks(bins)\n",
    "plt_rdf.set_xticklabels(np.round(bins, 1), rotation=55)\n",
    "plt_rdf.set_xlabel('Відстань, А')\n",
    "plt_rdf.set_ylabel(\"$g(r)$\")"
   ]
  },
  {
   "cell_type": "markdown",
   "metadata": {},
   "source": [
    " - Знайти координаційні числа для кристалу і рідини в трьох перших координаційних сферах."
   ]
  },
  {
   "cell_type": "markdown",
   "metadata": {},
   "source": [
    "Для кристалу:"
   ]
  },
  {
   "cell_type": "code",
   "execution_count": 47,
   "metadata": {},
   "outputs": [
    {
     "data": {
      "text/plain": [
       "[12.0, 6.0, 24.0]"
      ]
     },
     "execution_count": 47,
     "metadata": {},
     "output_type": "execute_result"
    }
   ],
   "source": [
    "[s for s in [sum(arr) for arr in np.split(counts[0], indices[0])] if s != 0.0][:3]"
   ]
  },
  {
   "cell_type": "markdown",
   "metadata": {},
   "source": [
    "Для рідини:"
   ]
  },
  {
   "cell_type": "code",
   "execution_count": 52,
   "metadata": {},
   "outputs": [
    {
     "data": {
      "text/plain": [
       "[10.0, 1.0, 1.0, 2.0, 6.0, 9.0, 13.0, 2.0, 47.0]"
      ]
     },
     "execution_count": 52,
     "metadata": {},
     "output_type": "execute_result"
    }
   ],
   "source": [
    "[s for s in [sum(arr) for arr in np.split(counts[1], indices[1])] if s != 0.0]"
   ]
  },
  {
   "cell_type": "markdown",
   "metadata": {},
   "source": [
    "- Знайти відстані до атомів в цих сферах."
   ]
  },
  {
   "cell_type": "markdown",
   "metadata": {},
   "source": [
    "Для кристалу:"
   ]
  },
  {
   "cell_type": "code",
   "execution_count": 61,
   "metadata": {},
   "outputs": [
    {
     "data": {
      "text/plain": [
       "Float64Index([2.77, 3.92, 4.78, 5.53, 6.18, 6.83], dtype='float64', name='X')"
      ]
     },
     "execution_count": 61,
     "metadata": {},
     "output_type": "execute_result"
    }
   ],
   "source": [
    "rdf[0].index[find_peaks_cwt(rdf[0]['norm_count'], rdf[0].index)]"
   ]
  },
  {
   "cell_type": "markdown",
   "metadata": {},
   "source": [
    "Для рідини:"
   ]
  },
  {
   "cell_type": "code",
   "execution_count": 63,
   "metadata": {},
   "outputs": [
    {
     "data": {
      "text/plain": [
       "Float64Index([2.68, 3.83, 3.88, 4.73, 4.78, 6.13, 6.83, 6.88], dtype='float64', name='X')"
      ]
     },
     "execution_count": 63,
     "metadata": {},
     "output_type": "execute_result"
    }
   ],
   "source": [
    "rdf[1].index[find_peaks_cwt(rdf[1]['norm_count'], rdf[1].index)]"
   ]
  },
  {
   "cell_type": "markdown",
   "metadata": {},
   "source": [
    "Порівняти щільність пакування атомів в різних типах ґраток і рідині, та їх густину."
   ]
  },
  {
   "cell_type": "markdown",
   "metadata": {},
   "source": [
    "Пояснити, як узгоджуються ФРР і розташування дифракційних ліній на рентгенограмах."
   ]
  }
 ],
 "metadata": {
  "hide_input": false,
  "kernelspec": {
   "display_name": "Python 3",
   "language": "python",
   "name": "python3"
  },
  "language_info": {
   "codemirror_mode": {
    "name": "ipython",
    "version": 3
   },
   "file_extension": ".py",
   "mimetype": "text/x-python",
   "name": "python",
   "nbconvert_exporter": "python",
   "pygments_lexer": "ipython3",
   "version": "3.6.2"
  },
  "toc": {
   "nav_menu": {},
   "number_sections": false,
   "sideBar": true,
   "skip_h1_title": true,
   "toc_cell": false,
   "toc_position": {},
   "toc_section_display": "block",
   "toc_window_display": false
  },
  "varInspector": {
   "cols": {
    "lenName": 16,
    "lenType": 16,
    "lenVar": 40
   },
   "kernels_config": {
    "python": {
     "delete_cmd_postfix": "",
     "delete_cmd_prefix": "del ",
     "library": "var_list.py",
     "varRefreshCmd": "print(var_dic_list())"
    },
    "r": {
     "delete_cmd_postfix": ") ",
     "delete_cmd_prefix": "rm(",
     "library": "var_list.r",
     "varRefreshCmd": "cat(var_dic_list()) "
    }
   },
   "types_to_exclude": [
    "module",
    "function",
    "builtin_function_or_method",
    "instance",
    "_Feature"
   ],
   "window_display": false
  }
 },
 "nbformat": 4,
 "nbformat_minor": 2
}
